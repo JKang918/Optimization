{
 "cells": [
  {
   "cell_type": "markdown",
   "id": "f6ba49a6-230d-49c2-8c8d-d91ca0d46aff",
   "metadata": {},
   "source": [
    "The below problem is one of the introductory modeling practice examples offered by Gurobi - Jupyter Modeling Examples.\n",
    "\n",
    "The problem description and the majority of codes and schematics are directly from the source. However, some of the comments within the main text here are written by myself.\n",
    "\n",
    "I took an optimization course called \"Deterministic Optimization\"[(course description link)](https://catalog.gatech.edu/search/?P=ISYE%206669) from Georgia Tech from professor Renato Monteiro as part of MS in Operations Research program [(program description link)](https://www.isye.gatech.edu/academics/masters/degrees/ms-operations-research) in the fall of 2024. I successfully finished the course and received an A. This is to review the concepts that I studied and to learn how to implement them in python codes using gurobipy."
   ]
  },
  {
   "cell_type": "markdown",
   "id": "3248e292-1599-4c57-8cdd-db42f373ce19",
   "metadata": {},
   "source": [
    "Copyright © 2023 Gurobi Optimization, LLC"
   ]
  },
  {
   "cell_type": "markdown",
   "id": "56dbc355-7d6d-4b83-8b6c-bcee433d3f7b",
   "metadata": {},
   "source": [
    "# Text Dissimilarity using Linear Programming"
   ]
  },
  {
   "cell_type": "markdown",
   "id": "db2e3c6b-d86c-4c62-9110-ee8c670387aa",
   "metadata": {},
   "source": [
    "In this notebook, we will walk-through a unique example demonstrating how you can apply optimization to assess text dissimilarity. There are numerous potential applications such as in detecting plagiarism, information retrieval, clustering, text categorization, topic detection, question answer session, machine translation and text summarization. Read here for [more](https://citeseerx.ist.psu.edu/document?repid=rep1&type=pdf&doi=1aff7b429f99f529228a4299a5794971adeb1ca3#:~:text=There%20are%20several%20applications%20or,machine%20translation%2C%20text%20summarization%20etc).\n",
    "\n",
    "The **Word Mover's Distance** (WMD) is a popular measure of text similarity, which measures the semantic distance between two documents. In this notebook, we will achieve two goals:\n",
    "- Given two text passages, model WMD as an optimization problem and compute it\n",
    "- Examine a plagiarized passage from a book, then find the original passage in that book that has the closest semantic meaning to the given passage\n",
    "\n",
    "\n",
    "|<img src=\"https://raw.githubusercontent.com/Gurobi/modeling-examples/master/text_dissimilarity/figure_obama.png\" width=\"500\" align=\"center\">| \n",
    "|:--:|\n",
    "|An illustration of Word Movers' Distance to measure the similarity between two documents. <b>Image Credits: [Towards AI](https://towardsai.net/p/nlp/word-movers-distance-wmd-explained-an-effective-method-of-document-classification-89cb258401f4) </b>| "
   ]
  },
  {
   "cell_type": "markdown",
   "id": "5aaaf363-3836-4894-82a6-d0f5935136c8",
   "metadata": {},
   "source": [
    "## I. The data"
   ]
  },
  {
   "cell_type": "markdown",
   "id": "1f660ec8-601a-44cf-8c6a-556b75edae3e",
   "metadata": {},
   "source": [
    "### Google Word-to-Vector Data\n",
    "\n",
    "In order to find the semantic distance between words, we start by constructing a vector embedding for each word.\n",
    "For this, we use the popular 'word2vec' dataset from Google News. This dataset has vector embeddings that are pre-trained for 3 million words. Read more about the dataset [here](https://code.google.com/archive/p/word2vec/).\n",
    "\n",
    "We now import all the packages needed and download the word2vec data. Note that in the code below, downloading the data takes up to a minute. "
   ]
  },
  {
   "cell_type": "code",
   "execution_count": 1,
   "id": "374a6f38-fcd5-4aef-9380-368b13888426",
   "metadata": {},
   "outputs": [],
   "source": [
    "# %pip install gensim"
   ]
  },
  {
   "cell_type": "code",
   "execution_count": 2,
   "id": "76884d61-495c-4d8a-bcdf-0dc20e4bbf34",
   "metadata": {},
   "outputs": [],
   "source": [
    "import numpy as np\n",
    "import pandas as pd\n",
    "from matplotlib import pyplot as plt   \n",
    "from gensim.models import KeyedVectors \n",
    "from scipy import spatial\n",
    "\n",
    "import gensim.downloader as api\n",
    "model = api.load('word2vec-google-news-300')"
   ]
  },
  {
   "cell_type": "markdown",
   "id": "a85e674a-9938-4dc6-aa59-7b4df1c27c19",
   "metadata": {},
   "source": [
    "We have downloaded the massive dataset of word-vector embeddings. For example, the embedding of the word \"Sherlock' is given below, in a 300-dimension space."
   ]
  },
  {
   "cell_type": "code",
   "execution_count": 3,
   "id": "1b201dc1-9ee0-415a-9bdf-21f610ac5ee1",
   "metadata": {
    "scrolled": true
   },
   "outputs": [
    {
     "data": {
      "text/plain": [
       "array([-0.00646973,  0.04882812, -0.10205078,  0.1328125 , -0.01855469,\n",
       "       -0.10253906, -0.10693359,  0.01556396,  0.22949219,  0.06054688,\n",
       "       -0.02392578,  0.09912109, -0.04541016, -0.01965332, -0.01202393,\n",
       "        0.04370117,  0.046875  , -0.16210938, -0.02453613, -0.16894531,\n",
       "       -0.03662109, -0.21289062,  0.25      , -0.06396484,  0.25195312,\n",
       "        0.31054688,  0.0145874 ,  0.18945312, -0.02233887,  0.0072937 ,\n",
       "       -0.328125  , -0.20703125, -0.01586914,  0.09033203, -0.06347656,\n",
       "       -0.07470703, -0.12255859,  0.23046875, -0.06835938,  0.09179688,\n",
       "        0.07861328, -0.11669922,  0.078125  ,  0.2734375 ,  0.078125  ,\n",
       "       -0.03808594, -0.02685547,  0.203125  ,  0.1640625 ,  0.14941406,\n",
       "       -0.11279297,  0.01977539, -0.19238281,  0.10302734,  0.08642578,\n",
       "       -0.20214844,  0.06738281, -0.25585938, -0.15527344,  0.05493164,\n",
       "       -0.00915527,  0.24121094,  0.04638672,  0.02453613, -0.22265625,\n",
       "       -0.10644531, -0.30273438,  0.01446533, -0.24414062,  0.04785156,\n",
       "        0.13867188, -0.3125    ,  0.20703125,  0.07324219,  0.09521484,\n",
       "        0.21875   ,  0.125     ,  0.03198242,  0.21289062, -0.00183868,\n",
       "       -0.17773438,  0.15039062, -0.11035156,  0.02563477, -0.09179688,\n",
       "       -0.23730469,  0.0111084 , -0.04589844,  0.171875  , -0.08789062,\n",
       "       -0.20605469,  0.0612793 , -0.0559082 ,  0.03710938, -0.03515625,\n",
       "        0.15429688,  0.06787109, -0.02844238, -0.27929688, -0.11083984,\n",
       "       -0.19628906, -0.01177979,  0.20410156, -0.08740234,  0.1875    ,\n",
       "        0.10693359,  0.04199219,  0.07226562, -0.03112793,  0.0546875 ,\n",
       "        0.01159668, -0.02172852,  0.01977539,  0.10058594,  0.10595703,\n",
       "        0.11816406, -0.09326172, -0.21484375,  0.37890625, -0.00320435,\n",
       "       -0.06640625,  0.04785156,  0.10839844,  0.0859375 ,  0.02954102,\n",
       "       -0.11962891, -0.296875  ,  0.14355469, -0.06835938,  0.15820312,\n",
       "       -0.14257812, -0.1640625 , -0.30664062,  0.04663086,  0.03808594,\n",
       "        0.07275391,  0.24902344, -0.08447266,  0.14941406,  0.07763672,\n",
       "        0.0534668 , -0.07373047,  0.16210938, -0.00762939, -0.08398438,\n",
       "        0.12695312, -0.140625  , -0.18847656, -0.09228516,  0.41210938,\n",
       "        0.03295898, -0.25390625,  0.04443359,  0.09179688,  0.0559082 ,\n",
       "       -0.03857422,  0.0246582 , -0.11328125, -0.04711914,  0.00848389,\n",
       "        0.16699219,  0.01464844, -0.07519531,  0.0390625 , -0.05761719,\n",
       "       -0.03149414,  0.19726562,  0.03088379,  0.203125  , -0.06298828,\n",
       "        0.13574219, -0.05493164,  0.0390625 , -0.18652344,  0.13867188,\n",
       "        0.09716797,  0.02966309, -0.12890625, -0.12597656,  0.35351562,\n",
       "       -0.16015625,  0.10107422,  0.14746094, -0.29101562, -0.2421875 ,\n",
       "       -0.11669922,  0.3046875 ,  0.10302734,  0.08886719, -0.328125  ,\n",
       "       -0.12255859,  0.09082031, -0.0534668 , -0.09228516,  0.02416992,\n",
       "       -0.00090408,  0.03540039, -0.15820312,  0.05273438,  0.05029297,\n",
       "        0.05200195,  0.00238037, -0.19921875,  0.31054688,  0.171875  ,\n",
       "        0.15820312,  0.07910156,  0.07177734,  0.02270508, -0.07958984,\n",
       "        0.11914062,  0.08740234, -0.08105469, -0.12890625, -0.29101562,\n",
       "        0.03149414,  0.0016098 , -0.21972656,  0.14746094, -0.06103516,\n",
       "        0.10693359, -0.06933594,  0.14941406, -0.08105469, -0.19238281,\n",
       "        0.11474609, -0.16015625, -0.16015625, -0.05371094, -0.2890625 ,\n",
       "       -0.07470703, -0.21679688,  0.04492188, -0.11279297,  0.03564453,\n",
       "        0.12207031,  0.11279297,  0.08740234,  0.12109375,  0.20996094,\n",
       "       -0.10351562, -0.23632812,  0.26367188, -0.0625    ,  0.3046875 ,\n",
       "       -0.01916504,  0.04760742,  0.20019531,  0.13574219, -0.06201172,\n",
       "       -0.10351562, -0.00970459, -0.0546875 ,  0.19042969,  0.08105469,\n",
       "       -0.06933594, -0.03125   ,  0.01275635, -0.23925781, -0.12792969,\n",
       "       -0.10009766,  0.10449219, -0.03015137,  0.27539062,  0.05395508,\n",
       "       -0.18847656, -0.18164062,  0.13085938,  0.09277344, -0.22167969,\n",
       "       -0.11230469, -0.10449219, -0.07470703,  0.26367188,  0.18554688,\n",
       "       -0.09960938,  0.14160156, -0.3671875 , -0.0201416 ,  0.13574219,\n",
       "       -0.16992188,  0.09375   ,  0.20019531,  0.08544922,  0.13769531,\n",
       "       -0.01483154, -0.21484375, -0.08886719,  0.12353516,  0.16796875,\n",
       "        0.15527344,  0.06152344, -0.10302734,  0.23144531,  0.16601562,\n",
       "       -0.10351562, -0.10498047, -0.20117188,  0.09472656,  0.265625  ],\n",
       "      dtype=float32)"
      ]
     },
     "execution_count": 3,
     "metadata": {},
     "output_type": "execute_result"
    }
   ],
   "source": [
    "model['Sherlock']"
   ]
  },
  {
   "cell_type": "markdown",
   "id": "e91c8351-7486-4395-8ed4-56016a7cc26e",
   "metadata": {},
   "source": [
    "The word, 'Sherlock' is embedded in the vector space as above."
   ]
  },
  {
   "cell_type": "markdown",
   "id": "a6595cad-58ac-4138-aa1f-185e5cb9394a",
   "metadata": {},
   "source": [
    "**Note. Node Embedding** \\\n",
    "*credit: Georgia Tech ISYE 6740 Computational Data Analysis by Prof. Kai Wang, Lecture Note \"PageRank & Graph Embedding\" page 13 to 37, Fall 2024*\n",
    "\n",
    "\n",
    "Think of a graph with millions of nodes representing words. What word2vec does is embed each node into an $d$-dimensional space, where $d$ is the number of features for each word (or node). The goal is to approximate the similarity (e.g., Euclidean distance or dot product) in the embedding space to the similarity observed in the graph.\n",
    "\n",
    "In graph-based contexts, random walk similarity is often used for its computational efficiency. A random walk involves starting at a node $u$ and moving to a neighboring node at each step according to a predefined probability distribution (e.g., uniform or weighted by edge weights). The random walk similarity between two nodes $u$ and $v$ can be defined as the probability that node $v$ co-occurs with node $u$ in random walks over the graph.\n",
    "\n",
    "We can represent our goal as below. The negative log-likelihood objective (NLL) is as follows. We attempt to minimize $\\mathcal{L}$ with stochastic gradient descent method.\n",
    "\n",
    "* $u$, $v$              : nodes\n",
    "* $V$                   : set of nodes\n",
    "* $N_R{(u)}$            : set of neighboring nodes to $u$\n",
    "* $P(N_R{(u)}\\:|\\:z_u)$ : probability of each node in $N_R{(u)}$ co-occuring in the same random walk with node $u$\n",
    "* $P(v \\:|\\:z_u)$       : probability of each node $v$ in $N_R{(u)}$ occuring in the same random walk with node $u$\n",
    "* $z_u$                 : embedded node vector in space $R$\n",
    "\n",
    "\n",
    "\\begin{align*}\n",
    "\\mathcal{L} &= - \\sum_{u \\in V} \\log{P(N_R(u) \\:|\\: z_u)} \\\\\n",
    "            &= - \\sum_{u \\in V} \\sum_{v \\in N_R{(u)}} \\log{P(v \\:|\\: z_u)} \\\\\n",
    "            &= - \\sum_{u \\in V} \\sum_{v \\in N_R{(u)}} \\log{\\frac{\\exp{(z_u^\\top z_v)}}{\\exp{\\sum_{v' \\in V}(z_u^\\top z_{v'})}}} \\quad \\text{(softmax representation)} \\\\\n",
    "            &\\approx \\log(\\sigma(z_u^\\top z_v)) - \\sum_{i = 1}^k \\log(\\sigma(z_u^\\top z_{n_i}))\\\\\n",
    "            &\\text{where } \\sigma(x) = \\frac{1}{1 + e^{-x}} \\text{ ,  } n_i \\sim P_V \\text{  ($n_i$'s are random samples from a suitable distribution, $P_V$)}\n",
    "\\end{align*}\n",
    "\n",
    "The approximation in the last part is actually a different objective. However, it is known to approximately maximize the log probability (or minimize the negative log probability) of softmax.\n",
    "\n",
    "The resultant algorithm goes like this:\n",
    "\n",
    "1. Random sample a node $u$ from the graph\n",
    "2. Randomly generate some random walks, $N_R{(u)}$  and $k$ negative samples $\\{n_i \\sim P_V\\}_{i\\in[k]}$ \n",
    "   - k-samples are from nodes that are not connected to node $u$\n",
    "   - As can be seen in the NLL specification above, if nodes from $N_R{(u)}$ are embedded as vectors close to $z_u$, $\\mathcal{L}$ becomes smaller\n",
    "   - On the other hand, if the $k$-nodes, which are not connected to $u$, are embedded as vectors far from $z_u$, $\\mathcal{L}$ becomes smaller\n",
    "   - In this way, the model embeds neighboring nodes' vectors close to each other and non-neighboring nodes' vectors far apart, effectively approximating the similarity in the graph within the vector space.\n",
    "3. Construct the NLL (NLL loss of node $u$). Specification is shown above.\n",
    "4. For all $j$, find $z_j$ by running SGD for the minimization problem."
   ]
  },
  {
   "cell_type": "markdown",
   "id": "31110239-4bdc-4bb7-b93d-7287b6879e12",
   "metadata": {},
   "source": [
    "### Enter two documents \n",
    "\n",
    "Next, we create the two documents to compare. In this example we look at a sentence from Sir Arthur Conan Doyle’s *The Adventures of Sherlock Holmes* (the original literary data-driven detective): \n",
    "\n",
    "\"The little man stood glancing from one to the other of us with half-frightened, half-hopeful eyes, as one who is not sure whether he is on the verge of a windfall or of a catastrophe.\"\n",
    "\n",
    "\n",
    "We use a popular text generation technology ([ChatGPT](https://chat.openai.com/chat)) to construct semantically similar sentence. "
   ]
  },
  {
   "cell_type": "markdown",
   "id": "547d65b9-8df6-4500-bd67-cf6e80a7fdef",
   "metadata": {},
   "source": [
    "<img src=\"https://raw.githubusercontent.com/Gurobi/modeling-examples/master/text_dissimilarity/chatgpt clip.gif\" width=\"750\" align=\"center\">\n"
   ]
  },
  {
   "cell_type": "markdown",
   "id": "c0043a85-8f2a-4918-8dc7-a74544a6eac0",
   "metadata": {},
   "source": [
    "We store the two sentences (documents) as strings. You can try other pairs of sentences too. Some are given in the commented text below."
   ]
  },
  {
   "cell_type": "code",
   "execution_count": 4,
   "id": "7ae3a0b7-d273-4857-a6de-4ec7037d8d04",
   "metadata": {},
   "outputs": [],
   "source": [
    "document1 = 'The little man stood glancing from one to the other of us with half-frightened, half-hopeful eyes, as one who is not sure whether he is on the verge of a windfall or of a catastrophe.'\n",
    "document2 = 'With a gaze that shifted back and forth between us, the diminutive figure appeared to be a mixture of apprehension and anticipation, uncertain if he was on the cusp of a fortune or a disaster.'\n",
    "\n",
    "# document1 = 'I barely saw Sherlock recently.'\n",
    "# document2 = 'Lately, I have had little opportunity to catch a glimpse of Sherlock.'\n",
    "\n",
    "# document1 = 'Obama speaks to the media in Illinois.'\n",
    "# document2 = 'The President greets the press in Chicago'"
   ]
  },
  {
   "cell_type": "markdown",
   "id": "17ac949d-a87e-4e96-a923-186764b4d0d8",
   "metadata": {},
   "source": [
    "##  II. Pre-processing the text\n",
    "\n",
    "Before comparing the two documents, we first eliminate certain words that may not carry any semantic value, for example, prepositions (e.g., in, on, under), conjunctions (e.g., and, for, but), and determiners (e.g., a, an, the, another). These words are called **stop words**. Read more [here](https://kavita-ganesan.com/what-are-stop-words/#.ZCCurezMLt0).\n",
    "We also remove punctuation marks and proper nouns, and then we convert all the words to their lower-case equivalents.\n",
    "\n",
    "We use the nltk package to ensure this. In the code below, the lines with \"nltk.download\" need to be executed the first time this notebook is run. You may comment the lines for subsequent runs."
   ]
  },
  {
   "cell_type": "code",
   "execution_count": 5,
   "id": "015bfa0d-61a8-4b1a-9b9c-4e55acfb95d7",
   "metadata": {},
   "outputs": [],
   "source": [
    "# %pip install nltk"
   ]
  },
  {
   "cell_type": "code",
   "execution_count": 6,
   "id": "75f26141-138e-4bcb-b778-9e95868fc28f",
   "metadata": {},
   "outputs": [
    {
     "name": "stderr",
     "output_type": "stream",
     "text": [
      "[nltk_data] Downloading package stopwords to\n",
      "[nltk_data]     C:\\Users\\jhkan\\AppData\\Roaming\\nltk_data...\n",
      "[nltk_data]   Package stopwords is already up-to-date!\n",
      "[nltk_data] Downloading package averaged_perceptron_tagger_eng to\n",
      "[nltk_data]     C:\\Users\\jhkan\\AppData\\Roaming\\nltk_data...\n",
      "[nltk_data]   Package averaged_perceptron_tagger_eng is already up-to-\n",
      "[nltk_data]       date!\n",
      "[nltk_data] Downloading package punkt to\n",
      "[nltk_data]     C:\\Users\\jhkan\\AppData\\Roaming\\nltk_data...\n",
      "[nltk_data]   Package punkt is already up-to-date!\n"
     ]
    }
   ],
   "source": [
    "import nltk \n",
    "nltk.download('stopwords')\n",
    "nltk.download('averaged_perceptron_tagger_eng')  \n",
    "nltk.download('punkt')\n",
    "from nltk.corpus import stopwords\n",
    "from nltk.tokenize import RegexpTokenizer, word_tokenize\n",
    "from nltk.stem import PorterStemmer "
   ]
  },
  {
   "cell_type": "markdown",
   "id": "4af7c2b4-9088-4ae0-9ccd-1ca30810cdad",
   "metadata": {},
   "source": [
    "Split each document into words (or \"tags\"). Each word is classified into several categories. For example, 'NN' corresponds to a singular noun and 'VBD' is a verb in the past tense. See [here](https://pythonprogramming.net/natural-language-toolkit-nltk-part-speech-tagging/) for the complete list of classifications. "
   ]
  },
  {
   "cell_type": "code",
   "execution_count": 7,
   "id": "2080943d-daad-40aa-8fd3-4b0e48bf16af",
   "metadata": {},
   "outputs": [
    {
     "name": "stdout",
     "output_type": "stream",
     "text": [
      "[('The', 'DT'), ('little', 'JJ'), ('man', 'NN'), ('stood', 'VBD'), ('glancing', 'VBG'), ('from', 'IN'), ('one', 'CD'), ('to', 'TO'), ('the', 'DT'), ('other', 'JJ'), ('of', 'IN'), ('us', 'PRP'), ('with', 'IN'), ('half-frightened,', 'JJ'), ('half-hopeful', 'JJ'), ('eyes,', 'NN'), ('as', 'IN'), ('one', 'CD'), ('who', 'WP'), ('is', 'VBZ'), ('not', 'RB'), ('sure', 'JJ'), ('whether', 'IN'), ('he', 'PRP'), ('is', 'VBZ'), ('on', 'IN'), ('the', 'DT'), ('verge', 'NN'), ('of', 'IN'), ('a', 'DT'), ('windfall', 'NN'), ('or', 'CC'), ('of', 'IN'), ('a', 'DT'), ('catastrophe.', 'NN')]\n",
      "[('With', 'IN'), ('a', 'DT'), ('gaze', 'NN'), ('that', 'WDT'), ('shifted', 'VBD'), ('back', 'RB'), ('and', 'CC'), ('forth', 'NN'), ('between', 'IN'), ('us,', 'JJ'), ('the', 'DT'), ('diminutive', 'JJ'), ('figure', 'NN'), ('appeared', 'VBD'), ('to', 'TO'), ('be', 'VB'), ('a', 'DT'), ('mixture', 'NN'), ('of', 'IN'), ('apprehension', 'NN'), ('and', 'CC'), ('anticipation,', 'NN'), ('uncertain', 'RB'), ('if', 'IN'), ('he', 'PRP'), ('was', 'VBD'), ('on', 'IN'), ('the', 'DT'), ('cusp', 'NN'), ('of', 'IN'), ('a', 'DT'), ('fortune', 'NN'), ('or', 'CC'), ('a', 'DT'), ('disaster.', 'NN')]\n"
     ]
    }
   ],
   "source": [
    "tagged_doc1 = nltk.tag.pos_tag(document1.split())\n",
    "tagged_doc2 = nltk.tag.pos_tag(document2.split()) \n",
    "print(tagged_doc1)\n",
    "print(tagged_doc2) "
   ]
  },
  {
   "cell_type": "markdown",
   "id": "773a686f-2a57-455d-b7db-9d4058e9f142",
   "metadata": {},
   "source": [
    "Knowing the categories, we first remove the proper nouns, given by the classification NNP (for singular proper nouns) and NNPS (for plural proper nouns)."
   ]
  },
  {
   "cell_type": "code",
   "execution_count": 8,
   "id": "ee533f86-7f87-42f3-9a7d-1ef5bc1c81b9",
   "metadata": {},
   "outputs": [
    {
     "name": "stdout",
     "output_type": "stream",
     "text": [
      "['The', 'little', 'man', 'stood', 'glancing', 'from', 'one', 'to', 'the', 'other', 'of', 'us', 'with', 'half-frightened,', 'half-hopeful', 'eyes,', 'as', 'one', 'who', 'is', 'not', 'sure', 'whether', 'he', 'is', 'on', 'the', 'verge', 'of', 'a', 'windfall', 'or', 'of', 'a', 'catastrophe.']\n",
      "['With', 'a', 'gaze', 'that', 'shifted', 'back', 'and', 'forth', 'between', 'us,', 'the', 'diminutive', 'figure', 'appeared', 'to', 'be', 'a', 'mixture', 'of', 'apprehension', 'and', 'anticipation,', 'uncertain', 'if', 'he', 'was', 'on', 'the', 'cusp', 'of', 'a', 'fortune', 'or', 'a', 'disaster.']\n"
     ]
    }
   ],
   "source": [
    "edited_sentence1 = [word for word,tag in tagged_doc1 if tag not in ['NNP','NNPS']]\n",
    "edited_sentence2 = [word for word,tag in tagged_doc2 if tag not in ['NNP','NNPS']] \n",
    "print(edited_sentence1)\n",
    "print(edited_sentence2) "
   ]
  },
  {
   "cell_type": "markdown",
   "id": "f33de632-9512-4c64-a9b7-9f98e528e3dc",
   "metadata": {},
   "source": [
    "Next, we remove all the punctuation marks."
   ]
  },
  {
   "cell_type": "code",
   "execution_count": 9,
   "id": "85aee426-d947-4918-babb-79b5002e33df",
   "metadata": {},
   "outputs": [
    {
     "name": "stdout",
     "output_type": "stream",
     "text": [
      "['The', 'little', 'man', 'stood', 'glancing', 'from', 'one', 'to', 'the', 'other', 'of', 'us', 'with', 'half', 'frightened', 'half', 'hopeful', 'eyes', 'as', 'one', 'who', 'is', 'not', 'sure', 'whether', 'he', 'is', 'on', 'the', 'verge', 'of', 'a', 'windfall', 'or', 'of', 'a', 'catastrophe']\n",
      "['With', 'a', 'gaze', 'that', 'shifted', 'back', 'and', 'forth', 'between', 'us', 'the', 'diminutive', 'figure', 'appeared', 'to', 'be', 'a', 'mixture', 'of', 'apprehension', 'and', 'anticipation', 'uncertain', 'if', 'he', 'was', 'on', 'the', 'cusp', 'of', 'a', 'fortune', 'or', 'a', 'disaster']\n"
     ]
    }
   ],
   "source": [
    "tokenizer = RegexpTokenizer(r'\\w+') \n",
    "processed_doc1 = tokenizer.tokenize(' '.join(edited_sentence1))\n",
    "processed_doc2 = tokenizer.tokenize(' '.join(edited_sentence2))\n",
    "print(processed_doc1)\n",
    "print(processed_doc2) "
   ]
  },
  {
   "cell_type": "markdown",
   "id": "f6392fc8-a43b-4edf-b2ee-5af56dab9d52",
   "metadata": {},
   "source": [
    "We now remove all the stop words."
   ]
  },
  {
   "cell_type": "code",
   "execution_count": 10,
   "id": "6496fe8a-222c-44dd-8329-ce4d26a9dd11",
   "metadata": {},
   "outputs": [
    {
     "name": "stdout",
     "output_type": "stream",
     "text": [
      "['little', 'man', 'stood', 'glancing', 'one', 'us', 'half', 'frightened', 'half', 'hopeful', 'eyes', 'one', 'sure', 'whether', 'verge', 'windfall', 'catastrophe'] \n",
      " ['gaze', 'shifted', 'back', 'forth', 'us', 'diminutive', 'figure', 'appeared', 'mixture', 'apprehension', 'anticipation', 'uncertain', 'cusp', 'fortune', 'disaster']\n"
     ]
    }
   ],
   "source": [
    "processed_doc1 = [x.lower() for x in processed_doc1]\n",
    "processed_doc2 = [x.lower() for x in processed_doc2]\n",
    "processed_doc1 = [i for i in processed_doc1 if i not in stopwords.words('english')]\n",
    "processed_doc2 = [i for i in processed_doc2 if i not in stopwords.words('english')]\n",
    "\n",
    "print(processed_doc1,'\\n', processed_doc2) "
   ]
  },
  {
   "cell_type": "markdown",
   "id": "d11f522a-b834-4899-aff1-48fad944bda8",
   "metadata": {},
   "source": [
    "For a better visualization of the processed documents, let us create word clouds out of them."
   ]
  },
  {
   "cell_type": "code",
   "execution_count": 11,
   "id": "9c7a8d04-b895-4b54-99e4-a8ed83a92446",
   "metadata": {},
   "outputs": [],
   "source": [
    "# %pip install wordcloud"
   ]
  },
  {
   "cell_type": "code",
   "execution_count": 12,
   "id": "716332a2-b740-465a-a93e-b40a8e191faf",
   "metadata": {},
   "outputs": [
    {
     "name": "stdout",
     "output_type": "stream",
     "text": [
      "Document 1:\n"
     ]
    },
    {
     "data": {
      "image/png": "[encoded data removed]",
      "text/plain": [
       "<Figure size 640x480 with 1 Axes>"
      ]
     },
     "metadata": {},
     "output_type": "display_data"
    },
    {
     "name": "stdout",
     "output_type": "stream",
     "text": [
      "Document 2:\n"
     ]
    },
    {
     "data": {
      "image/png": "[encoded data removed]",
      "text/plain": [
       "<Figure size 640x480 with 1 Axes>"
      ]
     },
     "metadata": {},
     "output_type": "display_data"
    }
   ],
   "source": [
    "from wordcloud import WordCloud, STOPWORDS, ImageColorGenerator\n",
    "\n",
    "print(\"Document 1:\") \n",
    "wordcloud = WordCloud(max_font_size=50, max_words=100, background_color=\"white\").generate(' '.join(processed_doc1))\n",
    "plt.imshow(wordcloud, interpolation='bilinear')\n",
    "plt.axis(\"off\")\n",
    "plt.show()\n",
    "\n",
    "print(\"Document 2:\")\n",
    "wordcloud = WordCloud(max_font_size=50, max_words=100, background_color=\"white\").generate(' '.join(processed_doc2))\n",
    "plt.imshow(wordcloud, interpolation='bilinear')\n",
    "plt.axis(\"off\")\n",
    "\n",
    "plt.show()"
   ]
  },
  {
   "cell_type": "markdown",
   "id": "a5bc6003-1ba4-4e42-b7e6-bacebba2c6f5",
   "metadata": {},
   "source": [
    "To prepare the documents for the optimization model, let us store the frequency of occurrences of each word."
   ]
  },
  {
   "cell_type": "code",
   "execution_count": 13,
   "id": "303566a3-ca29-4237-9775-8cca90a448af",
   "metadata": {},
   "outputs": [
    {
     "name": "stdout",
     "output_type": "stream",
     "text": [
      "{'eyes', 'us', 'sure', 'windfall', 'whether', 'verge', 'catastrophe', 'man', 'hopeful', 'frightened', 'glancing', 'little', 'half', 'stood', 'one'} {'anticipation', 'diminutive', 'back', 'gaze', 'cusp', 'appeared', 'apprehension', 'disaster', 'forth', 'fortune', 'figure', 'uncertain', 'mixture', 'shifted', 'us'}\n"
     ]
    }
   ],
   "source": [
    "freqency_D1 = {i: processed_doc1.count(i)/len(processed_doc1) for i in processed_doc1}\n",
    "freqency_D2 = {i: processed_doc2.count(i)/len(processed_doc2) for i in processed_doc2}\n",
    "\n",
    "D1 = set(processed_doc1)\n",
    "D2 = set(processed_doc2) \n",
    "print(D1,D2)"
   ]
  },
  {
   "cell_type": "markdown",
   "id": "515d8b21-87f8-4e04-82a6-5bfa4fe557ca",
   "metadata": {},
   "source": [
    "We now get the word-to-word distance matrix. Given the vector embeddings of two words $\\overline{x}_1$ and $\\overline{x}_2$, we take the cosine distance between them given by, $\\overline{x}_1 . \\overline{x}_2$/$|\\overline{x}_1||\\overline{x}_2|$."
   ]
  },
  {
   "cell_type": "code",
   "execution_count": 14,
   "id": "61ca5f89-413e-4b2e-b5df-2ca415c39638",
   "metadata": {},
   "outputs": [],
   "source": [
    "import numpy as np\n",
    "\n",
    "distance = {(i, j): spatial.distance.cosine(model[i], model[j]) for i in D1 for j in D2}"
   ]
  },
  {
   "cell_type": "markdown",
   "id": "e2f8814b-280a-46ac-adc7-4af4653b8fd5",
   "metadata": {},
   "source": [
    "The code below shows the sorted distances between all pairs of words in the two documents."
   ]
  },
  {
   "cell_type": "markdown",
   "id": "e8bfa4d9-167b-482e-ab33-332295754b2c",
   "metadata": {},
   "source": [
    "The code below shows the sorted distances between all pairs of words in the two documents."
   ]
  },
  {
   "cell_type": "code",
   "execution_count": 15,
   "id": "b155adad-b8c0-41db-8624-082e50ee5753",
   "metadata": {},
   "outputs": [],
   "source": [
    "# pandas review\n",
    "\n",
    "# distance.items() # returns key-value pairs # ((i, j), cosine of the two embedded vectors)\n",
    "# key = xx # key parameter states the sorting criteria\n",
    "# lambda item: item[1] # lambda function takes \"item\" and returns \"items[1]\" #here, item is the key-value pairs and item[1] is \"value\", i.e., cosine\n",
    "# therefore sorts the key-value pairs in terms of cosine\n",
    "# dict() # take the sorted key-value pairs and make them dictionary"
   ]
  },
  {
   "cell_type": "code",
   "execution_count": 16,
   "id": "a50e0ea7-5570-46eb-81dd-b792323a77c0",
   "metadata": {},
   "outputs": [
    {
     "data": {
      "text/plain": [
       "{('us', 'us'): 0.0,\n",
       " ('verge', 'cusp'): 0.20255764914764973,\n",
       " ('catastrophe', 'disaster'): 0.26837605738876014,\n",
       " ('eyes', 'gaze'): 0.40868104822045936,\n",
       " ('glancing', 'gaze'): 0.4709460773345311,\n",
       " ('windfall', 'fortune'): 0.5083202313882496,\n",
       " ('hopeful', 'uncertain'): 0.5853803700854052,\n",
       " ('stood', 'appeared'): 0.6904836809016344,\n",
       " ('whether', 'uncertain'): 0.6907485065144767,\n",
       " ('one', 'us'): 0.7060850513307896,\n",
       " ('little', 'us'): 0.7092129498407855,\n",
       " ('us', 'back'): 0.7105296933963319,\n",
       " ('hopeful', 'cusp'): 0.7111398756967413,\n",
       " ('sure', 'us'): 0.71219912197038,\n",
       " ('glancing', 'appeared'): 0.7124004741679594,\n",
       " ('little', 'back'): 0.724949669701757,\n",
       " ('sure', 'back'): 0.7252470774307309,\n",
       " ('stood', 'gaze'): 0.7294918300166416,\n",
       " ('frightened', 'apprehension'): 0.7306801264972707,\n",
       " ('frightened', 'uncertain'): 0.7403901791414207,\n",
       " ('little', 'mixture'): 0.7446245946769683,\n",
       " ('half', 'back'): 0.7597489369076549,\n",
       " ('glancing', 'diminutive'): 0.7725773645791751,\n",
       " ('one', 'figure'): 0.7741034748598232,\n",
       " ('sure', 'uncertain'): 0.7824634376658298,\n",
       " ('windfall', 'anticipation'): 0.7839031533852334,\n",
       " ('stood', 'diminutive'): 0.7843567815791879,\n",
       " ('frightened', 'gaze'): 0.785381863186133,\n",
       " ('stood', 'figure'): 0.785749675696822,\n",
       " ('little', 'figure'): 0.7858493405342474,\n",
       " ('sure', 'figure'): 0.7860304918797504,\n",
       " ('stood', 'shifted'): 0.7872474885679974,\n",
       " ('eyes', 'anticipation'): 0.7897656652515302,\n",
       " ('one', 'back'): 0.7921942182642525,\n",
       " ('frightened', 'back'): 0.7963302623695573,\n",
       " ('man', 'fortune'): 0.7996147809901419,\n",
       " ('hopeful', 'back'): 0.8006510800877322,\n",
       " ('hopeful', 'apprehension'): 0.8024312070419205,\n",
       " ('man', 'diminutive'): 0.8079554818755383,\n",
       " ('hopeful', 'anticipation'): 0.808302753133372,\n",
       " ('frightened', 'appeared'): 0.8157010317661658,\n",
       " ('verge', 'back'): 0.8160718951748798,\n",
       " ('verge', 'uncertain'): 0.8169524311503525,\n",
       " ('windfall', 'cusp'): 0.8174870632584031,\n",
       " ('little', 'anticipation'): 0.8196137881785278,\n",
       " ('little', 'diminutive'): 0.8197528701416197,\n",
       " ('windfall', 'disaster'): 0.8225086395456789,\n",
       " ('catastrophe', 'uncertain'): 0.8227230454665311,\n",
       " ('whether', 'figure'): 0.8235125330923896,\n",
       " ('little', 'shifted'): 0.8235722421674004,\n",
       " ('glancing', 'back'): 0.8246227930240246,\n",
       " ('us', 'forth'): 0.8274915861115646,\n",
       " ('eyes', 'cusp'): 0.8292640654698084,\n",
       " ('little', 'appeared'): 0.8293498919679314,\n",
       " ('eyes', 'us'): 0.833298051660308,\n",
       " ('man', 'figure'): 0.8354969180639262,\n",
       " ('eyes', 'back'): 0.8359365054569644,\n",
       " ('eyes', 'diminutive'): 0.837384457035553,\n",
       " ('man', 'back'): 0.8400224256511126,\n",
       " ('verge', 'fortune'): 0.8418471291041356,\n",
       " ('one', 'cusp'): 0.8424491804233833,\n",
       " ('man', 'appeared'): 0.8442067095047223,\n",
       " ('hopeful', 'appeared'): 0.8451309530694364,\n",
       " ('windfall', 'figure'): 0.8463293934065569,\n",
       " ('glancing', 'shifted'): 0.8464578169622466,\n",
       " ('sure', 'disaster'): 0.8528194965019243,\n",
       " ('little', 'apprehension'): 0.8529812479088441,\n",
       " ('hopeful', 'figure'): 0.8531468545004248,\n",
       " ('half', 'fortune'): 0.8532889158451423,\n",
       " ('little', 'uncertain'): 0.8533405341890592,\n",
       " ('little', 'cusp'): 0.8540762740170587,\n",
       " ('frightened', 'us'): 0.8562561122685616,\n",
       " ('one', 'diminutive'): 0.8586678807166976,\n",
       " ('little', 'forth'): 0.8592314414171145,\n",
       " ('sure', 'anticipation'): 0.8603825758465912,\n",
       " ('half', 'mixture'): 0.861242765258688,\n",
       " ('half', 'figure'): 0.8634329134853553,\n",
       " ('verge', 'anticipation'): 0.8651529529274209,\n",
       " ('half', 'appeared'): 0.8653061243754219,\n",
       " ('whether', 'appeared'): 0.8669684622457807,\n",
       " ('eyes', 'appeared'): 0.8694554928181029,\n",
       " ('catastrophe', 'us'): 0.8709769182673655,\n",
       " ('sure', 'mixture'): 0.8710228725055288,\n",
       " ('half', 'us'): 0.8711419623885542,\n",
       " ('catastrophe', 'apprehension'): 0.8727117382983849,\n",
       " ('half', 'uncertain'): 0.8742883335899304,\n",
       " ('catastrophe', 'gaze'): 0.8743183148761615,\n",
       " ('windfall', 'apprehension'): 0.875008829576576,\n",
       " ('windfall', 'back'): 0.87525582850613,\n",
       " ('windfall', 'mixture'): 0.8778227022246071,\n",
       " ('frightened', 'figure'): 0.8782364981382066,\n",
       " ('eyes', 'apprehension'): 0.8783949882065242,\n",
       " ('half', 'anticipation'): 0.8787663803383555,\n",
       " ('one', 'disaster'): 0.8793642713022894,\n",
       " ('frightened', 'diminutive'): 0.8795828869462127,\n",
       " ('man', 'cusp'): 0.8819819904159049,\n",
       " ('one', 'appeared'): 0.8820900765883336,\n",
       " ('us', 'figure'): 0.8824016671155966,\n",
       " ('one', 'forth'): 0.8851236043201848,\n",
       " ('us', 'mixture'): 0.8858926201674825,\n",
       " ('man', 'us'): 0.8871870799927821,\n",
       " ('windfall', 'uncertain'): 0.8879719419761769,\n",
       " ('eyes', 'mixture'): 0.8889549268043793,\n",
       " ('whether', 'apprehension'): 0.8893413912956196,\n",
       " ('glancing', 'forth'): 0.8899298561531614,\n",
       " ('catastrophe', 'fortune'): 0.8905551225985776,\n",
       " ('us', 'uncertain'): 0.8914615510432888,\n",
       " ('man', 'gaze'): 0.8926038826485414,\n",
       " ('half', 'forth'): 0.8931753279108483,\n",
       " ('glancing', 'uncertain'): 0.8940953827506469,\n",
       " ('glancing', 'figure'): 0.8949047170867734,\n",
       " ('sure', 'fortune'): 0.8960366266640668,\n",
       " ('half', 'diminutive'): 0.8960865459322458,\n",
       " ('man', 'mixture'): 0.8962674451983583,\n",
       " ('little', 'gaze'): 0.896873737949545,\n",
       " ('eyes', 'forth'): 0.8976554450023072,\n",
       " ('verge', 'appeared'): 0.8977539380583421,\n",
       " ('whether', 'back'): 0.8982458745197619,\n",
       " ('stood', 'anticipation'): 0.900910930638114,\n",
       " ('whether', 'gaze'): 0.9011766432963532,\n",
       " ('catastrophe', 'anticipation'): 0.9019208538501977,\n",
       " ('hopeful', 'disaster'): 0.9025888448754811,\n",
       " ('catastrophe', 'figure'): 0.902956524004737,\n",
       " ('verge', 'shifted'): 0.9039752796754904,\n",
       " ('whether', 'anticipation'): 0.9040974267423292,\n",
       " ('man', 'disaster'): 0.9041572186218516,\n",
       " ('frightened', 'disaster'): 0.9044194806971296,\n",
       " ('frightened', 'anticipation'): 0.9070887123005212,\n",
       " ('little', 'fortune'): 0.9073970710382822,\n",
       " ('man', 'apprehension'): 0.907777565491434,\n",
       " ('sure', 'appeared'): 0.9087517682233629,\n",
       " ('glancing', 'anticipation'): 0.9088582758850938,\n",
       " ('frightened', 'shifted'): 0.909221339052805,\n",
       " ('verge', 'gaze'): 0.9112909507523371,\n",
       " ('us', 'cusp'): 0.9119531213980108,\n",
       " ('frightened', 'forth'): 0.9121077682960429,\n",
       " ('eyes', 'figure'): 0.9140963850448277,\n",
       " ('frightened', 'cusp'): 0.9143395367972679,\n",
       " ('sure', 'cusp'): 0.915166218167008,\n",
       " ('half', 'shifted'): 0.9156571056948932,\n",
       " ('hopeful', 'us'): 0.9162990828480485,\n",
       " ('hopeful', 'shifted'): 0.9165281248854125,\n",
       " ('verge', 'disaster'): 0.9173427478887929,\n",
       " ('one', 'fortune'): 0.9180602266080722,\n",
       " ('frightened', 'mixture'): 0.9219052317099626,\n",
       " ('stood', 'us'): 0.9222789253982157,\n",
       " ('stood', 'uncertain'): 0.9226051321161651,\n",
       " ('windfall', 'diminutive'): 0.9233575814607639,\n",
       " ('glancing', 'us'): 0.924169332884036,\n",
       " ('whether', 'fortune'): 0.9274896084857082,\n",
       " ('us', 'gaze'): 0.927796476605789,\n",
       " ('stood', 'back'): 0.9292659692690654,\n",
       " ('one', 'gaze'): 0.930224165281798,\n",
       " ('glancing', 'cusp'): 0.9307052661490042,\n",
       " ('whether', 'mixture'): 0.9311657594340652,\n",
       " ('whether', 'us'): 0.9319674585000353,\n",
       " ('catastrophe', 'diminutive'): 0.9327543617415761,\n",
       " ('half', 'cusp'): 0.9331706507960525,\n",
       " ('one', 'shifted'): 0.933529646790391,\n",
       " ('stood', 'fortune'): 0.9336050315873425,\n",
       " ('us', 'fortune'): 0.9348230007615701,\n",
       " ('eyes', 'fortune'): 0.9350649546732014,\n",
       " ('one', 'uncertain'): 0.9362686149568689,\n",
       " ('catastrophe', 'shifted'): 0.9368652970589478,\n",
       " ('verge', 'mixture'): 0.9372562686756006,\n",
       " ('verge', 'us'): 0.9373322910556783,\n",
       " ('glancing', 'fortune'): 0.9385398174841609,\n",
       " ('us', 'anticipation'): 0.9388297459810109,\n",
       " ('catastrophe', 'cusp'): 0.9396393836713229,\n",
       " ('one', 'mixture'): 0.9403482373134618,\n",
       " ('us', 'apprehension'): 0.9410216687794967,\n",
       " ('catastrophe', 'mixture'): 0.9412678753467741,\n",
       " ('eyes', 'uncertain'): 0.9416592359766708,\n",
       " ('us', 'disaster'): 0.941819843258658,\n",
       " ('glancing', 'apprehension'): 0.943913226383037,\n",
       " ('eyes', 'shifted'): 0.9466008220279324,\n",
       " ('sure', 'apprehension'): 0.9466429533565576,\n",
       " ('catastrophe', 'back'): 0.9471580062132214,\n",
       " ('one', 'apprehension'): 0.94847179660134,\n",
       " ('whether', 'cusp'): 0.9485625706346974,\n",
       " ('glancing', 'disaster'): 0.9497862264775585,\n",
       " ('man', 'uncertain'): 0.9498917978384943,\n",
       " ('little', 'disaster'): 0.9499454425886029,\n",
       " ('hopeful', 'gaze'): 0.9510470646570311,\n",
       " ('eyes', 'disaster'): 0.9518364094727131,\n",
       " ('windfall', 'us'): 0.9537425350143803,\n",
       " ('verge', 'diminutive'): 0.9543268331414013,\n",
       " ('verge', 'apprehension'): 0.9552510071521666,\n",
       " ('catastrophe', 'appeared'): 0.9563639008199483,\n",
       " ('stood', 'disaster'): 0.9609439105763548,\n",
       " ('verge', 'figure'): 0.9626371528471174,\n",
       " ('frightened', 'fortune'): 0.9633142957342592,\n",
       " ('hopeful', 'fortune'): 0.9634215343313469,\n",
       " ('windfall', 'gaze'): 0.9654266588579614,\n",
       " ('windfall', 'shifted'): 0.96619127793272,\n",
       " ('half', 'disaster'): 0.9681636930457793,\n",
       " ('sure', 'shifted'): 0.9684552177177413,\n",
       " ('whether', 'disaster'): 0.9691047610328726,\n",
       " ('sure', 'gaze'): 0.970025402205427,\n",
       " ('hopeful', 'diminutive'): 0.9786470466116717,\n",
       " ('catastrophe', 'forth'): 0.9787267733437638,\n",
       " ('hopeful', 'forth'): 0.9795559185700691,\n",
       " ('sure', 'forth'): 0.9812375951778469,\n",
       " ('man', 'shifted'): 0.9814083685012579,\n",
       " ('whether', 'shifted'): 0.9818286372814773,\n",
       " ('verge', 'forth'): 0.9831111691897275,\n",
       " ('half', 'apprehension'): 0.9831667649624641,\n",
       " ('whether', 'forth'): 0.9872271011740386,\n",
       " ('us', 'diminutive'): 0.9874579062904171,\n",
       " ('whether', 'diminutive'): 0.9877815613152013,\n",
       " ('windfall', 'appeared'): 0.9896647212347758,\n",
       " ('half', 'gaze'): 0.9912450971097222,\n",
       " ('one', 'anticipation'): 0.9932678375608338,\n",
       " ('stood', 'cusp'): 0.9945642082712958,\n",
       " ('stood', 'apprehension'): 0.9998626112022717,\n",
       " ('hopeful', 'mixture'): 1.0017748164017202,\n",
       " ('sure', 'diminutive'): 1.0028973823898726,\n",
       " ('us', 'shifted'): 1.009493878746925,\n",
       " ('man', 'forth'): 1.0168008979043364,\n",
       " ('stood', 'forth'): 1.023955421676705,\n",
       " ('us', 'appeared'): 1.0267833600619958,\n",
       " ('windfall', 'forth'): 1.0434356404432221,\n",
       " ('man', 'anticipation'): 1.0469938785749928,\n",
       " ('stood', 'mixture'): 1.0548894548565133,\n",
       " ('glancing', 'mixture'): 1.0576969673394347}"
      ]
     },
     "execution_count": 16,
     "metadata": {},
     "output_type": "execute_result"
    }
   ],
   "source": [
    " dict(sorted(distance.items(), key=lambda item: item[1]))"
   ]
  },
  {
   "cell_type": "markdown",
   "id": "08a7edeb-83b1-425a-97e3-badb27780ac6",
   "metadata": {},
   "source": [
    "**Note.** In short, by leveraging `nltk` package, we could embed words of our interest into vector space, calculate their frequency and distances among themselves."
   ]
  },
  {
   "cell_type": "markdown",
   "id": "786f389f-b27b-46ab-8d77-995caf9e8df0",
   "metadata": {},
   "source": [
    "## III. Computing text dissimilarity using a linear program\n",
    "\n",
    "Now, we model the Word Mover's Distance (WMD) as an optimization problem.\n",
    "The idea is to send *flow* from the words in document 1 to the words in document 2 in such a way that the product of the distance and flow is minimized.\n",
    "In other words, we send higher flow between words that have a smaller distance, and hence, are semantically closer to each other.\n",
    "\n",
    "In the figure below, we see how the optimal flow corresponds to pairs of words that are semantically the closest.\n",
    "\n",
    "|<img src=\"https://raw.githubusercontent.com/Gurobi/modeling-examples/master/text_dissimilarity/figure_obama2.png\" width=\"500\" align=\"center\">| \n",
    "|:--:|\n",
    "|An illustration of Word Movers' Distance to measure the similarity between two documents. <b>Image Credits: [Towards AI](https://towardsai.net/p/nlp/word-movers-distance-wmd-explained-an-effective-method-of-document-classification-89cb258401f4) </b>| \n",
    "\n",
    "<!-- The score: weighted sum of distances. -->\n",
    "\n",
    "In optimization terminology, this model is famously called the **transportation model**, where the flow corresponds to transporting commodities between locations (such as warehouse and retail locations). \n",
    "\n",
    "\n",
    "Before we build the model, we first define the input parameters.\n",
    "\n",
    "### Input Parameters\n",
    "\n",
    "$D_1, D_2$: two documents each representing a set of words,\n",
    "\n",
    "$p_w$: frequency of word $w$ in $D_1$,\n",
    "\n",
    "$q_{w'}$: frequency of word $w'$ in $D_2$,\n",
    "\n",
    "$d(w,w')$: distance between word embeddings of $w$ and $w'$.\n",
    "\n",
    "To build the model, we initiate the Gurobi model."
   ]
  },
  {
   "cell_type": "code",
   "execution_count": 17,
   "id": "14879632-e087-458a-a446-f0e465ca223a",
   "metadata": {},
   "outputs": [],
   "source": [
    "import gurobipy as gp\n",
    "from gurobipy import GRB"
   ]
  },
  {
   "cell_type": "code",
   "execution_count": 18,
   "id": "e41021e2-0fb3-46ca-b649-fc0b61cd9808",
   "metadata": {},
   "outputs": [
    {
     "name": "stdout",
     "output_type": "stream",
     "text": [
      "Set parameter Username\n"
     ]
    }
   ],
   "source": [
    "# Initialize the model\n",
    "m = gp.Model(\"Text_Similarity\")"
   ]
  },
  {
   "attachments": {},
   "cell_type": "markdown",
   "id": "31ccf904-5cce-4914-ac2c-22040b482d55",
   "metadata": {},
   "source": [
    "### Objective: Minimize the net distance times flow \n",
    "\n",
    "The higher the flow, the more semantically close those words are expected to be. This is achieved by defining the objective function to be the product of the distance and the flow, mathematically expressed as:\n",
    "\n",
    "Minimizing this objective naturally allocates higher flow values to word-pairs that have a smaller distance. "
   ]
  },
  {
   "cell_type": "markdown",
   "id": "df5dba6a-dbcc-4120-9659-e7b5847467e3",
   "metadata": {},
   "source": [
    "### Flow variables\n",
    "\n",
    "The following is the key decision variable in the model.\n",
    "\n",
    "$f_{w,w'}$: Amount of flow from word $w$ in $D_1$ to word $w'$ in $D_2$.\n",
    "\n",
    "\n",
    "\n",
    "We can add the flow variables for all pairs of words using the addVars function. We allow the flow variable to be between $0$ and $1$, and hence set the lower bound (lb) to $0$ and the upper bound (ub) to $1$."
   ]
  },
  {
   "cell_type": "markdown",
   "id": "9d3b3f6a-f5aa-4e48-abe3-fda8a37d4726",
   "metadata": {},
   "source": [
    "### Constraints\n",
    "\n",
    "\n",
    "Finally, we define constraints to ensure that each word has a representation in the flow proportional to its frequency of occurrence.\n",
    "We do this by ensuring: the net flow exiting from each word $w$ in document $D_1$ is equal to its frequency of occurrence in $D_1$.\n",
    "Similarly, the net flow entering each word $w'$ in document $D_2$ is equal to its frequency of occurrence in $D_2$.\n",
    "These two constraints can be expressed by the following two equations."
   ]
  },
  {
   "cell_type": "markdown",
   "id": "357d0a7f-e2e0-48dc-a559-d00e90dd8c05",
   "metadata": {},
   "source": [
    "**Note.**\n",
    "Think of it as a probelm similar to Assignement Problem.\n",
    "\n",
    "One one hand, there are nodes representing words from document 1. The other end are nodes of words from document 2.\n",
    "There are in total $|D1| * |D2|$ arcs. Here, distances are costs; hence there is incentive to assign greater amounts of flow to smaller distance arcs. Note that distances are already calculated by *word2vec* and given as constants in the optimization probelm.\n",
    "The amount of frequency works as an upper limit of flow for each node. Total outflows from words from document 1 equals 1 as well as total inflows into words from document 2."
   ]
  },
  {
   "cell_type": "markdown",
   "id": "145db4f6-142a-4ff1-858a-bd540debfb34",
   "metadata": {},
   "source": [
    "\n",
    "\\begin{aligned}\n",
    "\\textrm{minimize} &\\sum_{w \\in D_1} \\sum_{w' \\in D_2}  d(w,w') f_{w,w'} \\\\\n",
    "\\textrm{s.t.} &\\sum_{w' \\in D_2} f_{w,w'} = p_w \\quad  \\forall \\ w \\in D_1, \\\\\n",
    "\\ &\\sum_{w \\in D_1} f_{w,w'} = q_{w'} \\quad  \\forall  \\ w' \\in D_2\n",
    "\\end{aligned}\n"
   ]
  },
  {
   "cell_type": "code",
   "execution_count": 19,
   "id": "6763eb83-5177-4553-964b-7f7271702657",
   "metadata": {},
   "outputs": [],
   "source": [
    "# python pandas review\n",
    "# when key is a tuple\n",
    "# distance[w, w_prime] is equal to distance[(w, w_prime)]"
   ]
  },
  {
   "cell_type": "code",
   "execution_count": 20,
   "id": "0a2188d7-fdca-4271-9dbe-4fc9b6aaea69",
   "metadata": {},
   "outputs": [],
   "source": [
    "# flow variable # f[w1, w2] ...\n",
    "f = m.addVars(D1, D2, name = 'f', lb = 0, ub = 1)\n",
    "\n",
    "# objective function\n",
    "m.ModelSense = GRB.MINIMIZE\n",
    "m.setObjective(sum(f[w, w_prime] * distance[w, w_prime] for w in D1 for w_prime in D2))\n",
    "m.update()\n",
    "\n",
    "# constraints\n",
    "m.addConstrs(sum(f[w, w_prime] for w_prime in D2) == freqency_D1[w] for w in D1)\n",
    "m.addConstrs(sum(f[w, w_prime] for w in D1) == freqency_D2[w_prime] for w_prime in D2)\n",
    "#in gurobipy\n",
    "#m.addConstrs(f.sum(w, '*') == freqency_D1[w] for w in D1)\n",
    "#m.addConstrs(f.sum('*', w_prime) == freqency_D2[w_prime] for w_prime in D2)\n",
    "m.update()"
   ]
  },
  {
   "cell_type": "markdown",
   "id": "f837c025-71b3-45e2-ae5e-7d2924ee0671",
   "metadata": {},
   "source": [
    "### Solve the model"
   ]
  },
  {
   "cell_type": "code",
   "execution_count": 21,
   "id": "6e9b008c-1089-443a-a20a-cac57638bfc4",
   "metadata": {},
   "outputs": [
    {
     "name": "stdout",
     "output_type": "stream",
     "text": [
      "Gurobi Optimizer version 11.0.3 build v11.0.3rc0 (win64 - Windows 10.0 (19045.2))\n",
      "\n",
      "CPU model: Intel(R) Core(TM) i7-10750H CPU @ 2.60GHz, instruction set [SSE2|AVX|AVX2]\n",
      "Thread count: 6 physical cores, 12 logical processors, using up to 12 threads\n",
      "\n",
      "Optimize a model with 30 rows, 225 columns and 450 nonzeros\n",
      "Model fingerprint: 0xbfd73ae9\n",
      "Coefficient statistics:\n",
      "  Matrix range     [1e+00, 1e+00]\n",
      "  Objective range  [2e-01, 1e+00]\n",
      "  Bounds range     [1e+00, 1e+00]\n",
      "  RHS range        [6e-02, 1e-01]\n",
      "Presolve time: 0.01s\n",
      "Presolved: 30 rows, 225 columns, 450 nonzeros\n",
      "\n",
      "Iteration    Objective       Primal Inf.    Dual Inf.      Time\n",
      "       0    5.7110992e-01   8.627451e-01   0.000000e+00      0s\n",
      "      25    6.2717735e-01   0.000000e+00   0.000000e+00      0s\n",
      "\n",
      "Solved in 25 iterations and 0.02 seconds (0.00 work units)\n",
      "Optimal objective  6.271773539e-01\n"
     ]
    }
   ],
   "source": [
    "m.optimize()  "
   ]
  },
  {
   "cell_type": "markdown",
   "id": "17b290b9-f713-4268-bbb5-8c87e082b660",
   "metadata": {},
   "source": [
    "#### Visualize the optimal solution"
   ]
  },
  {
   "cell_type": "code",
   "execution_count": 22,
   "id": "7fc2fdc1-d538-4461-8033-32b39d073a21",
   "metadata": {},
   "outputs": [
    {
     "name": "stdout",
     "output_type": "stream",
     "text": [
      "Dissmiliarity score 0.63\n"
     ]
    }
   ],
   "source": [
    "print('Dissmiliarity score', round(m.ObjVal, 2))"
   ]
  },
  {
   "cell_type": "code",
   "execution_count": 23,
   "id": "e82a52d8-a35a-4daa-b0a6-857c850cb3fb",
   "metadata": {},
   "outputs": [],
   "source": [
    "flow = {(i, j): f[i, j].X for i in D1 for j in D2} # objective solution # dictionary"
   ]
  },
  {
   "cell_type": "code",
   "execution_count": 24,
   "id": "951f1b6a-2ff4-425c-99d7-5c9a8562d9ae",
   "metadata": {},
   "outputs": [],
   "source": [
    "solution_data = [\n",
    "    (i, j, flow_val, distance[i, j]) \n",
    "    for (i, j), flow_val in flow.items()\n",
    "]"
   ]
  },
  {
   "cell_type": "code",
   "execution_count": 25,
   "id": "d60eb7b2-3d52-4b98-9fb6-b9792dbf79dd",
   "metadata": {},
   "outputs": [],
   "source": [
    "solution = pd.DataFrame(\n",
    "    solution_data,\n",
    "    columns = ['word 1', 'word 2', 'flow', 'distance']\n",
    ")"
   ]
  },
  {
   "cell_type": "markdown",
   "id": "146e981a-d52a-44ea-85e2-51e747af9c35",
   "metadata": {},
   "source": [
    "The two code blocks are equivalent to below as originally provided by gurobi tutorial material. Below codes run the same for loop for four times unnecessarily."
   ]
  },
  {
   "cell_type": "markdown",
   "id": "0f64bf3a-860b-4163-a50a-6dd955447e74",
   "metadata": {},
   "source": [
    "```python\n",
    "solution['word 1'] = [i for (i,j) in flow]\n",
    "solution['word 2'] = [j for (i,j) in flow]\n",
    "solution['flow'] = [flow[i,j] for (i,j) in flow]\n",
    "solution['distance'] = [distance[i,j] for (i,j) in flow] "
   ]
  },
  {
   "cell_type": "code",
   "execution_count": 26,
   "id": "37f9248e-7384-4f44-a3ff-f854e2e8335a",
   "metadata": {},
   "outputs": [
    {
     "data": {
      "text/html": [
       "<div>\n",
       "<style scoped>\n",
       "    .dataframe tbody tr th:only-of-type {\n",
       "        vertical-align: middle;\n",
       "    }\n",
       "\n",
       "    .dataframe tbody tr th {\n",
       "        vertical-align: top;\n",
       "    }\n",
       "\n",
       "    .dataframe thead th {\n",
       "        text-align: right;\n",
       "    }\n",
       "</style>\n",
       "<table border=\"1\" class=\"dataframe\">\n",
       "  <thead>\n",
       "    <tr style=\"text-align: right;\">\n",
       "      <th></th>\n",
       "      <th>word 1</th>\n",
       "      <th>word 2</th>\n",
       "      <th>flow</th>\n",
       "      <th>distance</th>\n",
       "    </tr>\n",
       "  </thead>\n",
       "  <tbody>\n",
       "    <tr>\n",
       "      <th>0</th>\n",
       "      <td>us</td>\n",
       "      <td>us</td>\n",
       "      <td>0.058824</td>\n",
       "      <td>0.000000</td>\n",
       "    </tr>\n",
       "    <tr>\n",
       "      <th>1</th>\n",
       "      <td>verge</td>\n",
       "      <td>cusp</td>\n",
       "      <td>0.058824</td>\n",
       "      <td>0.202558</td>\n",
       "    </tr>\n",
       "    <tr>\n",
       "      <th>2</th>\n",
       "      <td>catastrophe</td>\n",
       "      <td>disaster</td>\n",
       "      <td>0.058824</td>\n",
       "      <td>0.268376</td>\n",
       "    </tr>\n",
       "    <tr>\n",
       "      <th>3</th>\n",
       "      <td>eyes</td>\n",
       "      <td>gaze</td>\n",
       "      <td>0.058824</td>\n",
       "      <td>0.408681</td>\n",
       "    </tr>\n",
       "    <tr>\n",
       "      <th>4</th>\n",
       "      <td>glancing</td>\n",
       "      <td>gaze</td>\n",
       "      <td>0.007843</td>\n",
       "      <td>0.470946</td>\n",
       "    </tr>\n",
       "    <tr>\n",
       "      <th>...</th>\n",
       "      <td>...</td>\n",
       "      <td>...</td>\n",
       "      <td>...</td>\n",
       "      <td>...</td>\n",
       "    </tr>\n",
       "    <tr>\n",
       "      <th>220</th>\n",
       "      <td>us</td>\n",
       "      <td>appeared</td>\n",
       "      <td>0.000000</td>\n",
       "      <td>1.026783</td>\n",
       "    </tr>\n",
       "    <tr>\n",
       "      <th>221</th>\n",
       "      <td>windfall</td>\n",
       "      <td>forth</td>\n",
       "      <td>0.000000</td>\n",
       "      <td>1.043436</td>\n",
       "    </tr>\n",
       "    <tr>\n",
       "      <th>222</th>\n",
       "      <td>man</td>\n",
       "      <td>anticipation</td>\n",
       "      <td>0.000000</td>\n",
       "      <td>1.046994</td>\n",
       "    </tr>\n",
       "    <tr>\n",
       "      <th>223</th>\n",
       "      <td>stood</td>\n",
       "      <td>mixture</td>\n",
       "      <td>0.000000</td>\n",
       "      <td>1.054889</td>\n",
       "    </tr>\n",
       "    <tr>\n",
       "      <th>224</th>\n",
       "      <td>glancing</td>\n",
       "      <td>mixture</td>\n",
       "      <td>0.000000</td>\n",
       "      <td>1.057697</td>\n",
       "    </tr>\n",
       "  </tbody>\n",
       "</table>\n",
       "<p>225 rows × 4 columns</p>\n",
       "</div>"
      ],
      "text/plain": [
       "          word 1        word 2      flow  distance\n",
       "0             us            us  0.058824  0.000000\n",
       "1          verge          cusp  0.058824  0.202558\n",
       "2    catastrophe      disaster  0.058824  0.268376\n",
       "3           eyes          gaze  0.058824  0.408681\n",
       "4       glancing          gaze  0.007843  0.470946\n",
       "..           ...           ...       ...       ...\n",
       "220           us      appeared  0.000000  1.026783\n",
       "221     windfall         forth  0.000000  1.043436\n",
       "222          man  anticipation  0.000000  1.046994\n",
       "223        stood       mixture  0.000000  1.054889\n",
       "224     glancing       mixture  0.000000  1.057697\n",
       "\n",
       "[225 rows x 4 columns]"
      ]
     },
     "execution_count": 26,
     "metadata": {},
     "output_type": "execute_result"
    }
   ],
   "source": [
    "solution.sort_values(by = 'distance', ascending = True).reset_index(drop = True)"
   ]
  },
  {
   "cell_type": "markdown",
   "id": "0c4e214c-1949-4279-b1ad-c1d540e49e95",
   "metadata": {},
   "source": [
    "**Note.**\\\n",
    "Now we have a way to connect two given documents and compute dissmilarity score. This is a groundwork for detecting plagiarism."
   ]
  },
  {
   "cell_type": "markdown",
   "id": "8958f63f-698d-4aad-9eb1-2eb783d39489",
   "metadata": {},
   "source": [
    "## IV. Detect plagiarism"
   ]
  },
  {
   "cell_type": "markdown",
   "id": "68e4f196-b6c5-4640-997d-888730ee2eb3",
   "metadata": {},
   "source": [
    "In this part of the notebook, we check if a given text has been re-written (or plagiarized) from a book. To do this, we compare the given text with every sentence in the book, and output the sentence with the smallest dissimilarity. After that, a human can make the final evaluation of whether this is indeed a case of plagiarism."
   ]
  },
  {
   "cell_type": "markdown",
   "id": "9a4b7526-ac49-4673-b7df-8ba589425cde",
   "metadata": {},
   "source": [
    "First, read the book (The Adventures of Sherlock Holmes) as a text file. We downloaded the file from [Project Gutenberg](https://www.gutenberg.org/cache/epub/1661/pg1661.txt)."
   ]
  },
  {
   "cell_type": "code",
   "execution_count": 27,
   "id": "ad5ce457-cd1d-4be1-a8d3-3bd4a25e7b9a",
   "metadata": {},
   "outputs": [],
   "source": [
    "import base64\n",
    "import requests"
   ]
  },
  {
   "cell_type": "code",
   "execution_count": 28,
   "id": "894a96b7-eeb3-4022-963a-eb1c5bf6a386",
   "metadata": {},
   "outputs": [],
   "source": [
    "master = \"https://raw.githubusercontent.com/Gurobi/modeling-examples/master/text_dissimilarity/PG1661_raw.txt\"\n",
    "content = requests.get(master)\n",
    "content = content.text\n",
    "content = content.replace('\\n',' ')\n",
    "content = content.replace('_',' ')\n",
    "content = content.replace('\\r','') \n",
    "sentences = list(map(str.strip, content.split(\".\")))[19:]"
   ]
  },
  {
   "cell_type": "markdown",
   "id": "fb303d7d-f18c-4d7a-9f4d-3825a11a23d5",
   "metadata": {},
   "source": [
    "Pre-process all the sentences in the book."
   ]
  },
  {
   "cell_type": "code",
   "execution_count": 29,
   "id": "26193445-a25c-4cbb-a8d2-c3ca70a2c796",
   "metadata": {},
   "outputs": [],
   "source": [
    "def pre_processing(document):\n",
    "    # Remove proper nouns\n",
    "    tagged_doc = nltk.tag.pos_tag(document.split())\n",
    "    edited_sentence = [word for word,tag in tagged_doc]  \n",
    "    edited_sentence = [word for word,tag in tagged_doc if tag not in ['NNP','NNPS']]  \n",
    "\n",
    "    # Remove punctuation \n",
    "    tokenizer = RegexpTokenizer(r'\\w+') \n",
    "    processed_doc = tokenizer.tokenize(' '.join(edited_sentence)) \n",
    "\n",
    "    # Remove stop words \n",
    "    processed_doc = [i for i in processed_doc if i not in stopwords.words('english')]  \n",
    "    \n",
    "    return processed_doc\n",
    "\n",
    "processed_sentences = [] # list of all sentences\n",
    "for s in sentences: \n",
    "    processed_sentences.append(pre_processing(s))\n"
   ]
  },
  {
   "cell_type": "markdown",
   "id": "769e3ea6-d809-43ff-b16d-11ec080229c1",
   "metadata": {},
   "source": [
    "We can write the WMD optimization model within a function that inputs two documents, and outputs their dissimilairty score."
   ]
  },
  {
   "cell_type": "code",
   "execution_count": 30,
   "id": "5ed6273e-65cd-4dbb-9d00-fc43ea3e5b2f",
   "metadata": {},
   "outputs": [],
   "source": [
    "def score_dissimilarity(D1, D2):\n",
    "    # set of words\n",
    "    D1 = set(D1)\n",
    "    D2 = set(D2) \n",
    "    \n",
    "    # to exclude words not in the word2vec data\n",
    "    D1 = D1 - set([i for i in D1 if i not in model])\n",
    "    D2 = D2 - set([j for j in D2 if j not in model]) \n",
    "    \n",
    "    # dict of {word: freq}\n",
    "    freq_D1 = {i: list(D1).count(i)/len(D1) for i in D1}\n",
    "    freq_D2 = {i: list(D2).count(i)/len(D2) for i in D2}\n",
    "\n",
    "    if len(D2) < 5: # if the sentence is too small, we set a high dissimilarity, effectively ignoring it\n",
    "        return 1\n",
    "\n",
    "    # empty model\n",
    "    m = gp.Model(\"Text_similarity\")\n",
    "\n",
    "    # distance dict - {word to word arc: distance} \n",
    "    distance = {(i,j): spatial.distance.cosine(model[i],model[j]) for i in D1 for j in D2} \n",
    "\n",
    "    # flow variable (decision variable)\n",
    "    f = m.addVars(D1,D2,name=\"f\",lb=0,ub=1) \n",
    "\n",
    "    # direction of optimization\n",
    "    m.ModelSense = GRB.MINIMIZE\n",
    "\n",
    "    # objective function\n",
    "    m.setObjective(sum(f[w,w_prime]*distance[w,w_prime] for w in D1 for w_prime in D2))\n",
    "\n",
    "    # constraints\n",
    "    m.addConstrs(f.sum(w, '*') ==  freq_D1[w] for w in D1)\n",
    "    m.addConstrs(f.sum('*', w_prime) == freq_D2[w_prime] for w_prime in D2) \n",
    "    # m.addConstrs(sum(f[w, w_prime] for w_prime in D2) == freq_D1[w] for w in D1)\n",
    "    # m.addConstrs(sum(f[w, w_prime] for w in D1) == freq_D2[w_prime] for w_prime in D2)\n",
    "    \n",
    "    # Run\n",
    "    m.setParam('OutputFlag', 0)\n",
    "    m.optimize()  \n",
    "    \n",
    "    return m.ObjVal"
   ]
  },
  {
   "cell_type": "markdown",
   "id": "da424cdb-2002-4d05-95eb-9a9ed0ce6f8c",
   "metadata": {},
   "source": [
    "Now, we select a passage that is re-written from the book. The following code has some examples, but feel free to pick any sentence from [the book](https://www.gutenberg.org/cache/epub/1661/pg1661.txt) and create your own plagiarized version."
   ]
  },
  {
   "cell_type": "code",
   "execution_count": 31,
   "id": "3aa5d261-52ce-484d-9cfe-d21742808d82",
   "metadata": {},
   "outputs": [
    {
     "name": "stdout",
     "output_type": "stream",
     "text": [
      "With a gaze that shifted back and forth between us, the dimunitive figure appeared to be a mixture of apprehension and anticipation, uncertain if he was on the cusp of a fortune or a disaster.\n"
     ]
    }
   ],
   "source": [
    "sample_sentence = 'With a gaze that shifted back and forth between us, the dimunitive figure appeared to be a mixture of apprehension and anticipation, uncertain if he was on the cusp of a fortune or a disaster.'\n",
    "# sample_sentence = 'Without much conversation, yet with a friendly gesture, he gestured towards an armchair for me to sit in, offered me a box of cigars, and pointed to a liquor cabinet and a carbonated water dispenser in the corner.' \n",
    "\n",
    "print(sample_sentence)"
   ]
  },
  {
   "cell_type": "markdown",
   "id": "e298fbd3-7a76-47d1-9461-0ce4cbbde8c8",
   "metadata": {},
   "source": [
    "Finally, we iterate over all the sentences in the book, and find the dissimilairty score. The following code only prints the output whenever the dissimilarity goes down in value. The result is a sentence with the smallest dissimilarity."
   ]
  },
  {
   "cell_type": "code",
   "execution_count": null,
   "id": "e20ea8a1-ce33-4bd5-afb8-9b02f39c9b45",
   "metadata": {},
   "outputs": [
    {
     "name": "stdout",
     "output_type": "stream",
     "text": [
      "#\t Dissimilarity\t Sentence\n",
      "1 \t 0.84 \t I have seldom heard him mention her under any other name\n",
      "2 \t 0.79 \t In his eyes she eclipses and predominates the whole of her sex\n",
      "3 \t 0.79 \t It was not that he felt any emotion akin to love for Irene Adler\n",
      "8 \t 0.77 \t But for the trained reasoner to admit such intrusions into his own delicate and finely adjusted temperament was to introduce a distracting factor which might throw a doubt upon all his mental results\n",
      "12 \t 0.75 \t My marriage had drifted us away from each other\n",
      "15 \t 0.75 \t From time to time I heard some vague account of his doings: of his summons to Odessa in the case of the Trepoff murder, of his clearing up of the singular tragedy of the Atkinson brothers at Trincomalee, and finally of the mission which he had accomplished so delicately and successfully for the reigning family of Holland\n",
      "19 \t 0.72 \t His rooms were brilliantly lit, and, even as I looked up, I saw his tall, spare figure pass twice in a dark silhouette against the blind\n",
      "131 \t 0.71 \t ” He looked from one to the other of us, as if uncertain which to address\n",
      "422 \t 0.68 \t Irene Adler, as I will still call her, had hurried up the steps; but she stood at the top with her superb figure outlined against the lights of the hall, looking back into the street\n",
      "1477 \t 0.67 \t Holmes stuck his feet up on the corner of the mantelpiece and, leaning back with his hands in his pockets, began talking, rather to himself, as it seemed, than to us\n",
      "2617 \t 0.67 \t For two streets he shuffled along with a bent back and an uncertain foot\n"
     ]
    }
   ],
   "source": [
    "obj_best = 1\n",
    "print(\"#\\t Dissimilarity\\t Sentence\")\n",
    "for i in range(len(processed_sentences)):  \n",
    "    obj = score_dissimilarity(pre_processing(sample_sentence),processed_sentences[i])  \n",
    "    if obj < obj_best: \n",
    "        print(i,\"\\t\",round((obj),2),\"\\t\",sentences[i])\n",
    "        obj_best, sentence_best = obj, sentences[i]\n",
    "\n",
    "print(\"\\nThe closest sentence with a %f dissimilarity is:\\n\\n\"%obj_best,sentence_best) "
   ]
  },
  {
   "cell_type": "markdown",
   "id": "51e305ca-1a55-4456-90eb-f6762a130ca4",
   "metadata": {},
   "source": [
    "Now take a look at the output sentence and compare it with the sample sentence. Do you see plagiarism going on? "
   ]
  },
  {
   "cell_type": "markdown",
   "id": "1b0037da-85e3-43a4-b518-2816f3c9da7f",
   "metadata": {},
   "source": [
    "Copyright © 2023 Gurobi Optimization, LLC"
   ]
  },
  {
   "cell_type": "markdown",
   "id": "8a93fadb-a33b-4e0f-a1cc-a35eff1eb5fc",
   "metadata": {},
   "source": [
    "### Summary"
   ]
  },
  {
   "cell_type": "markdown",
   "id": "e6a840b9-86c0-4427-b887-bd357be5f5be",
   "metadata": {},
   "source": [
    "##### 1. Take two documents to compare, preprocess them (e.g., make all lower cases, remove punctuations)\n",
    "##### 1.1 Compute frequency of each word in its respective document\n",
    "##### 1.2 Use 'word2vec' to embed the words into vector space to acquire vector representations, calculate distances of all word pairs\n",
    "##### 2. Build up minimized cost network flow problem for computing dissmilarity of given two texts\n",
    "##### 2.1 Objective = total distance minimization where total distance = sumproduct flow and distance (each arc, flow: word1 to word2, cost = distance of the pair)\n",
    "##### 2.2 Constraints = flow capacities = frequencies (each flow <= 1)\n",
    "##### From 1 and 2, we can calculate the dissmilarity score of two given texts."
   ]
  }
 ],
 "metadata": {
  "kernelspec": {
   "display_name": "Python 3 (ipykernel)",
   "language": "python",
   "name": "python3"
  },
  "language_info": {
   "codemirror_mode": {
    "name": "ipython",
    "version": 3
   },
   "file_extension": ".py",
   "mimetype": "text/x-python",
   "name": "python",
   "nbconvert_exporter": "python",
   "pygments_lexer": "ipython3",
   "version": "3.12.7"
  }
 },
 "nbformat": 4,
 "nbformat_minor": 5
}
