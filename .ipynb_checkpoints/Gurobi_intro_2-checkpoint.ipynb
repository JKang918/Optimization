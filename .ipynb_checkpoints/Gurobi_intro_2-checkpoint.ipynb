{
 "cells": [
  {
   "cell_type": "markdown",
   "id": "197eb5cb-cad5-4b4e-b012-dafc556b08d4",
   "metadata": {},
   "source": [
    "The below problem is one of the introductory modeling practice examples offered by Gurobi - Jupyter Modeling Examples.\n",
    "\n",
    "The problem description and the majority of codes and schematics are directly from the source. However, some of the comments within the main text here are written by myself.\n",
    "\n",
    "I took an optimization course called \"Deterministic Optimization\"(course description link) from Georgia Tech from professor Renato Monteiro as part of MS in Operations Research program (program description link) in the fall of 2024. I successfully finished the course and received an A. This is to review the concepts that I studied and to learn how to implement them in python codes using gurobipy."
   ]
  },
  {
   "cell_type": "markdown",
   "id": "4915b7e2-88cc-4532-a016-65698a4aa9d7",
   "metadata": {},
   "source": [
    "Copyright © 2022 Gurobi Optimization, LLC\n",
    "\n",
    "# How Much Is Too Much? Avocado Pricing and Supply Using Mathematical Optimization\n",
    "\n",
    "A [Food Network article](https://www.foodnetwork.com/fn-dish/news/2018/3/avocado-unseats-banana-as-america-s-top-fruit-import-by-value) from March 2017 declared, \"Avocado unseats banana as America's top fruit import.\" This declaration is incomplete and debatable for reasons other than whether  avocado is a fruit. Avocados are expensive.\n",
    "\n",
    "As a supplier, setting an appropriate avocado price requires a delicate trade-off. \n",
    "Set it too high and you lose customers. Set it too low and you won't make a profit.\n",
    "Equipped with good data, the avocado pricing and supply problem is *ripe* with opportunities for demonstrating the power of optimization and data science.\n",
    "\n",
    "They say when life gives you avocados, make guacamole.\n",
    "Just like the perfect guacamole needs the right blend of onion, lemon and spices, finding an optimal avocado price needs the right blend of descriptive, predictive and prescriptive analytics.\n",
    "\n",
    "\n",
    "|![scores](https://github.com/Gurobi/modeling-examples/blob/master/price_optimization/avocado_image_grocery.jpeg?raw=1)| \n",
    "|:--:|\n",
    "| <b>Avocados: a quintessential corner of a grocery store. Image Credits: [New York Post](https://nypost.com/2022/02/15/us-will-halt-mexico-avocado-imports-as-long-as-necessary/) </b>| \n",
    "\n",
    "\n",
    "**Goal**: Develop a data science pipeline for pricing and distribution of avocados to maximize revenue.\n",
    "\n",
    "This notebook walks through a decision-making pipeline that culminates in a mathematical optimization model.\n",
    "There are three stages: \n",
    "- First, understand the dataset and infer the relationships between categories such as the sales, price, region, and seasonal trends.\n",
    "- Second, build a prediction model that predicts the demand for avocados as a function of price, region, year and the seasonality.\n",
    "- Third, design an optimization problem that sets the optimal price and supply quantity to maximize the net revenue while incorporating costs for wastage and transportation.\n"
   ]
  },
  {
   "cell_type": "markdown",
   "id": "c95b3371-ca55-40e0-8dce-0f939e318f37",
   "metadata": {},
   "source": [
    "## Load the Packages and the Datasets\n",
    "\n",
    "We use real sales data provided by the [Hass Avocado Board](https://hassavocadoboard.com/) (HAB), whose aim is to \"make avocados America’s most popular fruit\". This dataset contains consolidated information on several years' worth of market prices and sales of avocados. \n",
    "\n",
    "We will now load the following packages for analyzing and visualizing the data."
   ]
  },
  {
   "cell_type": "code",
   "execution_count": 1,
   "id": "d728346d-fa28-468a-9358-115827a8ba8f",
   "metadata": {},
   "outputs": [],
   "source": [
    "# %pip install gurobipy\n",
    "# %pip install matplotlib\n",
    "# %pip install scikit-learn\n",
    "# %pip install seaborn"
   ]
  },
  {
   "cell_type": "code",
   "execution_count": 2,
   "id": "3a069972-9fc3-4949-b5fd-953638ab8f18",
   "metadata": {},
   "outputs": [],
   "source": [
    "import pandas as pd\n",
    "import warnings\n",
    "warnings.filterwarnings(\"ignore\")\n",
    "import matplotlib.pyplot as plt\n",
    "from sklearn import tree \n",
    "import seaborn as sns\n",
    "import sklearn \n",
    "import numpy as np  "
   ]
  },
  {
   "cell_type": "markdown",
   "id": "e60a9971-8095-4acf-b697-7444de4752a1",
   "metadata": {},
   "source": [
    "The dataset from HAB contains sales data for the years 2019-2022. This data is augmented by a previous download from HAB available on [Kaggle](https://www.kaggle.com/datasets/timmate/avocado-prices-2020) with sales for the years 2015-2018.\n",
    "\n",
    "Each row in the dataset is the weekly number of avocados sold and the weekly average price of an avocado categorized by region and type of avocado. There are two types of avocados: conventional and organic. In this notebook, we will only consider the conventional avocados.\n",
    "There are eight large regions, namely the Great Lakes, Midsouth, North East, Northern New England, South Central, South East, West and Plains.\n",
    "\n",
    "Now, load the data and store into a Pandas dataframe."
   ]
  },
  {
   "cell_type": "code",
   "execution_count": 3,
   "id": "e29ccc2c-75ef-4057-bcbf-21b73087ae64",
   "metadata": {},
   "outputs": [],
   "source": [
    "# dataset downloaded directly from HAB\n",
    "# avocado = pd.read_csv('HABdata_2019_2022.csv') # dataset downloaded directly from HAB\n",
    "avocado = pd.read_csv('https://raw.githubusercontent.com/Gurobi/modeling-examples/master/price_optimization/HABdata_2019_2022.csv')\n",
    "\n",
    "# avocado_old = pd.read_csv('kaggledata_till2018.csv') # dataset downloaded from Kaggle\n",
    "avocado_old = pd.read_csv('https://raw.githubusercontent.com/Gurobi/modeling-examples/master/price_optimization/kaggledata_till2018.csv') \n",
    "\n",
    "avocado = pd.concat([avocado, avocado_old], ignore_index = True)"
   ]
  },
  {
   "cell_type": "code",
   "execution_count": 4,
   "id": "fc75a63f-63b1-433a-a4ed-61a6a7a7bae2",
   "metadata": {},
   "outputs": [
    {
     "data": {
      "text/html": [
       "<div>\n",
       "<style scoped>\n",
       "    .dataframe tbody tr th:only-of-type {\n",
       "        vertical-align: middle;\n",
       "    }\n",
       "\n",
       "    .dataframe tbody tr th {\n",
       "        vertical-align: top;\n",
       "    }\n",
       "\n",
       "    .dataframe thead th {\n",
       "        text-align: right;\n",
       "    }\n",
       "</style>\n",
       "<table border=\"1\" class=\"dataframe\">\n",
       "  <thead>\n",
       "    <tr style=\"text-align: right;\">\n",
       "      <th></th>\n",
       "      <th>region</th>\n",
       "      <th>date</th>\n",
       "      <th>type</th>\n",
       "      <th>price</th>\n",
       "      <th>units_sold</th>\n",
       "    </tr>\n",
       "  </thead>\n",
       "  <tbody>\n",
       "    <tr>\n",
       "      <th>0</th>\n",
       "      <td>Great_Lakes</td>\n",
       "      <td>1/7/19 0:00</td>\n",
       "      <td>Conventional</td>\n",
       "      <td>1.106743</td>\n",
       "      <td>3812441.96</td>\n",
       "    </tr>\n",
       "    <tr>\n",
       "      <th>1</th>\n",
       "      <td>Great_Lakes</td>\n",
       "      <td>1/7/19 0:00</td>\n",
       "      <td>Organic</td>\n",
       "      <td>1.371280</td>\n",
       "      <td>275987.52</td>\n",
       "    </tr>\n",
       "    <tr>\n",
       "      <th>2</th>\n",
       "      <td>Great_Lakes</td>\n",
       "      <td>1/13/19 0:00</td>\n",
       "      <td>Conventional</td>\n",
       "      <td>1.063457</td>\n",
       "      <td>3843318.68</td>\n",
       "    </tr>\n",
       "    <tr>\n",
       "      <th>3</th>\n",
       "      <td>Great_Lakes</td>\n",
       "      <td>1/13/19 0:00</td>\n",
       "      <td>Organic</td>\n",
       "      <td>1.493384</td>\n",
       "      <td>244991.95</td>\n",
       "    </tr>\n",
       "    <tr>\n",
       "      <th>4</th>\n",
       "      <td>Great_Lakes</td>\n",
       "      <td>1/20/19 0:00</td>\n",
       "      <td>Conventional</td>\n",
       "      <td>1.049931</td>\n",
       "      <td>4587957.69</td>\n",
       "    </tr>\n",
       "    <tr>\n",
       "      <th>...</th>\n",
       "      <td>...</td>\n",
       "      <td>...</td>\n",
       "      <td>...</td>\n",
       "      <td>...</td>\n",
       "      <td>...</td>\n",
       "    </tr>\n",
       "    <tr>\n",
       "      <th>6799</th>\n",
       "      <td>West</td>\n",
       "      <td>11/18/18</td>\n",
       "      <td>Organic</td>\n",
       "      <td>1.610000</td>\n",
       "      <td>334096.14</td>\n",
       "    </tr>\n",
       "    <tr>\n",
       "      <th>6800</th>\n",
       "      <td>West</td>\n",
       "      <td>11/25/18</td>\n",
       "      <td>Conventional</td>\n",
       "      <td>1.240000</td>\n",
       "      <td>3260102.17</td>\n",
       "    </tr>\n",
       "    <tr>\n",
       "      <th>6801</th>\n",
       "      <td>West</td>\n",
       "      <td>11/25/18</td>\n",
       "      <td>Organic</td>\n",
       "      <td>1.730000</td>\n",
       "      <td>268362.34</td>\n",
       "    </tr>\n",
       "    <tr>\n",
       "      <th>6802</th>\n",
       "      <td>West</td>\n",
       "      <td>12/2/18</td>\n",
       "      <td>Conventional</td>\n",
       "      <td>1.200000</td>\n",
       "      <td>4594863.86</td>\n",
       "    </tr>\n",
       "    <tr>\n",
       "      <th>6803</th>\n",
       "      <td>West</td>\n",
       "      <td>12/2/18</td>\n",
       "      <td>Organic</td>\n",
       "      <td>1.620000</td>\n",
       "      <td>268969.03</td>\n",
       "    </tr>\n",
       "  </tbody>\n",
       "</table>\n",
       "<p>6804 rows × 5 columns</p>\n",
       "</div>"
      ],
      "text/plain": [
       "           region          date          type     price  units_sold\n",
       "0     Great_Lakes   1/7/19 0:00  Conventional  1.106743  3812441.96\n",
       "1     Great_Lakes   1/7/19 0:00       Organic  1.371280   275987.52\n",
       "2     Great_Lakes  1/13/19 0:00  Conventional  1.063457  3843318.68\n",
       "3     Great_Lakes  1/13/19 0:00       Organic  1.493384   244991.95\n",
       "4     Great_Lakes  1/20/19 0:00  Conventional  1.049931  4587957.69\n",
       "...           ...           ...           ...       ...         ...\n",
       "6799         West      11/18/18       Organic  1.610000   334096.14\n",
       "6800         West      11/25/18  Conventional  1.240000  3260102.17\n",
       "6801         West      11/25/18       Organic  1.730000   268362.34\n",
       "6802         West       12/2/18  Conventional  1.200000  4594863.86\n",
       "6803         West       12/2/18       Organic  1.620000   268969.03\n",
       "\n",
       "[6804 rows x 5 columns]"
      ]
     },
     "execution_count": 4,
     "metadata": {},
     "output_type": "execute_result"
    }
   ],
   "source": [
    "avocado"
   ]
  },
  {
   "cell_type": "markdown",
   "id": "d94b0017-d90e-4806-9d98-c47e3db98a51",
   "metadata": {},
   "source": [
    "## Prepare the Dataset\n",
    "\n",
    "We will now prepare the data for making sales predictions. Add new columns to the dataframe for the year and seasonality. Let each year from 2015 through 2022 be given an index from 0 through 7 in the increasing order of the year. We will define the peak season to be the months of February through July. These months are set based on visual inspection of the trends, but you can try setting other months."
   ]
  },
  {
   "cell_type": "code",
   "execution_count": 5,
   "id": "9625175e-2285-4b3d-bd48-5b9145e3389a",
   "metadata": {},
   "outputs": [],
   "source": [
    "# Add the index for each year from 2015 through 2022\n",
    "avocado['date'] = pd.to_datetime(avocado['date'])           # timestamp\n",
    "avocado['year'] = pd.DatetimeIndex(avocado['date']).year    # extract year from timestamp\n",
    "avocado['year_index'] = avocado['year'] - 2015\n",
    "avocado = avocado.sort_values(by = 'date')\n",
    "\n",
    "# Define the peak season\n",
    "avocado['month'] = pd.DatetimeIndex(avocado['date']).month # extract month from timestamp\n",
    "peak_months = range(2,8)                                   # February to July\n",
    "def peak_season(row):\n",
    "    return 1 if int(row['month']) in peak_months else 0\n",
    "\n",
    "# lambda argument: expression\n",
    "# dataframe.apply(lambda row: peak_season(row), axis = 1) #first row is 'rows of the dataframe' # second row is the first 'row' passed as the argument\n",
    "avocado['peak'] = avocado.apply(lambda row: peak_season(row), axis = 1) # axis = 1 (row by row)\n",
    "\n",
    "# Scale the number of avocados to millions\n",
    "avocado['units_sold'] = avocado['units_sold']/1000000\n",
    "\n",
    "# Select only conventional avocados\n",
    "avocado = avocado[avocado['type'] == 'Conventional'] \n",
    "\n",
    "# Resets the row index to be sequential integers starting from 0\n",
    "# The drop=True argument prevents the old index from being added as a new column\n",
    "avocado = avocado[['date','units_sold','price','region','year','month','year_index','peak']].reset_index(drop = True)"
   ]
  },
  {
   "cell_type": "code",
   "execution_count": 6,
   "id": "9a0c8848-cba2-4e8b-9e6f-81706f3e8550",
   "metadata": {},
   "outputs": [
    {
     "data": {
      "text/html": [
       "<div>\n",
       "<style scoped>\n",
       "    .dataframe tbody tr th:only-of-type {\n",
       "        vertical-align: middle;\n",
       "    }\n",
       "\n",
       "    .dataframe tbody tr th {\n",
       "        vertical-align: top;\n",
       "    }\n",
       "\n",
       "    .dataframe thead th {\n",
       "        text-align: right;\n",
       "    }\n",
       "</style>\n",
       "<table border=\"1\" class=\"dataframe\">\n",
       "  <thead>\n",
       "    <tr style=\"text-align: right;\">\n",
       "      <th></th>\n",
       "      <th>date</th>\n",
       "      <th>units_sold</th>\n",
       "      <th>price</th>\n",
       "      <th>region</th>\n",
       "      <th>year</th>\n",
       "      <th>month</th>\n",
       "      <th>year_index</th>\n",
       "      <th>peak</th>\n",
       "    </tr>\n",
       "  </thead>\n",
       "  <tbody>\n",
       "    <tr>\n",
       "      <th>0</th>\n",
       "      <td>2015-01-04</td>\n",
       "      <td>3.382800</td>\n",
       "      <td>1.020000</td>\n",
       "      <td>Great_Lakes</td>\n",
       "      <td>2015</td>\n",
       "      <td>1</td>\n",
       "      <td>0</td>\n",
       "      <td>0</td>\n",
       "    </tr>\n",
       "    <tr>\n",
       "      <th>1</th>\n",
       "      <td>2015-01-04</td>\n",
       "      <td>2.578275</td>\n",
       "      <td>1.100000</td>\n",
       "      <td>Midsouth</td>\n",
       "      <td>2015</td>\n",
       "      <td>1</td>\n",
       "      <td>0</td>\n",
       "      <td>0</td>\n",
       "    </tr>\n",
       "    <tr>\n",
       "      <th>2</th>\n",
       "      <td>2015-01-04</td>\n",
       "      <td>5.794411</td>\n",
       "      <td>0.890000</td>\n",
       "      <td>West</td>\n",
       "      <td>2015</td>\n",
       "      <td>1</td>\n",
       "      <td>0</td>\n",
       "      <td>0</td>\n",
       "    </tr>\n",
       "    <tr>\n",
       "      <th>3</th>\n",
       "      <td>2015-01-04</td>\n",
       "      <td>3.204112</td>\n",
       "      <td>0.980000</td>\n",
       "      <td>Southeast</td>\n",
       "      <td>2015</td>\n",
       "      <td>1</td>\n",
       "      <td>0</td>\n",
       "      <td>0</td>\n",
       "    </tr>\n",
       "    <tr>\n",
       "      <th>4</th>\n",
       "      <td>2015-01-04</td>\n",
       "      <td>0.321824</td>\n",
       "      <td>1.050000</td>\n",
       "      <td>Northern_New_England</td>\n",
       "      <td>2015</td>\n",
       "      <td>1</td>\n",
       "      <td>0</td>\n",
       "      <td>0</td>\n",
       "    </tr>\n",
       "    <tr>\n",
       "      <th>...</th>\n",
       "      <td>...</td>\n",
       "      <td>...</td>\n",
       "      <td>...</td>\n",
       "      <td>...</td>\n",
       "      <td>...</td>\n",
       "      <td>...</td>\n",
       "      <td>...</td>\n",
       "      <td>...</td>\n",
       "    </tr>\n",
       "    <tr>\n",
       "      <th>3397</th>\n",
       "      <td>2022-05-15</td>\n",
       "      <td>4.150433</td>\n",
       "      <td>1.269883</td>\n",
       "      <td>SouthCentral</td>\n",
       "      <td>2022</td>\n",
       "      <td>5</td>\n",
       "      <td>7</td>\n",
       "      <td>1</td>\n",
       "    </tr>\n",
       "    <tr>\n",
       "      <th>3398</th>\n",
       "      <td>2022-05-15</td>\n",
       "      <td>4.668815</td>\n",
       "      <td>1.644873</td>\n",
       "      <td>Northeast</td>\n",
       "      <td>2022</td>\n",
       "      <td>5</td>\n",
       "      <td>7</td>\n",
       "      <td>1</td>\n",
       "    </tr>\n",
       "    <tr>\n",
       "      <th>3399</th>\n",
       "      <td>2022-05-15</td>\n",
       "      <td>32.745321</td>\n",
       "      <td>1.527357</td>\n",
       "      <td>Total_US</td>\n",
       "      <td>2022</td>\n",
       "      <td>5</td>\n",
       "      <td>7</td>\n",
       "      <td>1</td>\n",
       "    </tr>\n",
       "    <tr>\n",
       "      <th>3400</th>\n",
       "      <td>2022-05-15</td>\n",
       "      <td>3.542902</td>\n",
       "      <td>1.514583</td>\n",
       "      <td>Midsouth</td>\n",
       "      <td>2022</td>\n",
       "      <td>5</td>\n",
       "      <td>7</td>\n",
       "      <td>1</td>\n",
       "    </tr>\n",
       "    <tr>\n",
       "      <th>3401</th>\n",
       "      <td>2022-05-15</td>\n",
       "      <td>1.560202</td>\n",
       "      <td>1.541429</td>\n",
       "      <td>Plains</td>\n",
       "      <td>2022</td>\n",
       "      <td>5</td>\n",
       "      <td>7</td>\n",
       "      <td>1</td>\n",
       "    </tr>\n",
       "  </tbody>\n",
       "</table>\n",
       "<p>3402 rows × 8 columns</p>\n",
       "</div>"
      ],
      "text/plain": [
       "           date  units_sold     price                region  year  month  \\\n",
       "0    2015-01-04    3.382800  1.020000           Great_Lakes  2015      1   \n",
       "1    2015-01-04    2.578275  1.100000              Midsouth  2015      1   \n",
       "2    2015-01-04    5.794411  0.890000                  West  2015      1   \n",
       "3    2015-01-04    3.204112  0.980000             Southeast  2015      1   \n",
       "4    2015-01-04    0.321824  1.050000  Northern_New_England  2015      1   \n",
       "...         ...         ...       ...                   ...   ...    ...   \n",
       "3397 2022-05-15    4.150433  1.269883          SouthCentral  2022      5   \n",
       "3398 2022-05-15    4.668815  1.644873             Northeast  2022      5   \n",
       "3399 2022-05-15   32.745321  1.527357              Total_US  2022      5   \n",
       "3400 2022-05-15    3.542902  1.514583              Midsouth  2022      5   \n",
       "3401 2022-05-15    1.560202  1.541429                Plains  2022      5   \n",
       "\n",
       "      year_index  peak  \n",
       "0              0     0  \n",
       "1              0     0  \n",
       "2              0     0  \n",
       "3              0     0  \n",
       "4              0     0  \n",
       "...          ...   ...  \n",
       "3397           7     1  \n",
       "3398           7     1  \n",
       "3399           7     1  \n",
       "3400           7     1  \n",
       "3401           7     1  \n",
       "\n",
       "[3402 rows x 8 columns]"
      ]
     },
     "execution_count": 6,
     "metadata": {},
     "output_type": "execute_result"
    }
   ],
   "source": [
    "avocado"
   ]
  },
  {
   "cell_type": "markdown",
   "id": "6b06eed2-981f-4928-8693-5b674d2382d5",
   "metadata": {},
   "source": [
    "## Part 1: Observe Trends in the Data\n",
    "\n",
    "Now, we will infer sales trends in time and seasonality. For simplicity, let's proceed with data from the United States as a whole."
   ]
  },
  {
   "cell_type": "code",
   "execution_count": 7,
   "id": "9cb60b57-34e4-464d-bd97-98d80ce3b5d2",
   "metadata": {},
   "outputs": [],
   "source": [
    "df_Total_US = avocado[avocado['region'] == 'Total_US']"
   ]
  },
  {
   "cell_type": "markdown",
   "id": "e2a5af05-1e52-4a64-b4b0-1554f0f8e49d",
   "metadata": {},
   "source": [
    "### Sales Over the Years"
   ]
  },
  {
   "cell_type": "code",
   "execution_count": 8,
   "id": "fb3562f6-6d09-4583-b960-28e7dafd15f1",
   "metadata": {},
   "outputs": [
    {
     "data": {
      "image/png": "[encoded data removed]",
      "text/plain": [
       "<Figure size 1000x500 with 1 Axes>"
      ]
     },
     "metadata": {},
     "output_type": "display_data"
    }
   ],
   "source": [
    "fig, axes = plt.subplots(nrows = 1, ncols = 1, figsize = (10,5))\n",
    "\n",
    "mean = df_Total_US.groupby('year')['units_sold'].mean()\n",
    "std  = df_Total_US.groupby('year')['units_sold'].std()\n",
    "axes.errorbar(mean.index, mean, xerr = 0.5, yerr = 2 * std, linestyle = '')\n",
    "axes.set_ylabel('Units Sold (millions)')\n",
    "axes.set_xlabel('Year')\n",
    "\n",
    "# Adjusts the spacing between the elements of a plot (subplots, axes, labels, etc.) to prevent overlapping or clipping.\n",
    "fig.tight_layout()"
   ]
  },
  {
   "cell_type": "markdown",
   "id": "99c9da30-5a1f-4e2d-8692-09dfa683c1f0",
   "metadata": {},
   "source": [
    "We can see that the sales generally increased over the years, albeit marginally. The dip in 2019 is the effect of the well-documented [2019 avocado shortage](https://abc7news.com/avocado-shortage-season-prices/5389855/) that led to avocados [nearly doubling in price.](https://abc7news.com/avocado-shortage-season-prices/5389855/)"
   ]
  },
  {
   "cell_type": "markdown",
   "id": "86ce2f66-e9a4-4c2a-8bd5-41d735b1bb87",
   "metadata": {},
   "source": [
    "### Seasonality"
   ]
  },
  {
   "cell_type": "markdown",
   "id": "57b4ac25-7fd0-48dd-af26-c06d59c00bb2",
   "metadata": {},
   "source": [
    "We will now see the sales trends within a year"
   ]
  },
  {
   "cell_type": "code",
   "execution_count": 9,
   "id": "da8f4879-39ac-49fb-a676-3af4c03904cf",
   "metadata": {},
   "outputs": [
    {
     "data": {
      "image/png": "[encoded data removed]",
      "text/plain": [
       "<Figure size 1000x500 with 1 Axes>"
      ]
     },
     "metadata": {},
     "output_type": "display_data"
    }
   ],
   "source": [
    "fig, axes = plt.subplots(nrows=1, ncols=1, figsize=(10, 5)) \n",
    "\n",
    "mean = df_Total_US.groupby('month')['units_sold'].mean()\n",
    "std  = df_Total_US.groupby('month')['units_sold'].std()\n",
    " \n",
    "axes.errorbar(mean.index, mean, xerr=0.5, yerr=2*std, linestyle='') \n",
    "axes.set_ylabel('Units Sold (millions)')\n",
    "axes.set_xlabel('Month') \n",
    " \n",
    "fig.tight_layout()\n",
    " \n",
    "plt.xlabel('Month')\n",
    "axes.set_xticks(range(1,13)) \n",
    "plt.ylabel('Units sold (millions)')\n",
    "plt.show()"
   ]
  },
  {
   "cell_type": "markdown",
   "id": "b69c9cd1-dd77-46f8-9a79-492a654e288d",
   "metadata": {},
   "source": [
    "We see a Super Bowl peak in February and a Cinco de Mayo peak in May."
   ]
  },
  {
   "cell_type": "markdown",
   "id": "3754a463-70a0-43d9-bc5b-6e493aeec07a",
   "metadata": {},
   "source": [
    "### Correlations\n",
    "\n",
    "Now, we will see how the variables are correlated with each other.\n",
    "The end goal is to predict sales given the price of an avocado, year and seasonality (peak or not)."
   ]
  },
  {
   "cell_type": "code",
   "execution_count": 10,
   "id": "ac929a20-3756-4181-ac95-1b081673a14c",
   "metadata": {},
   "outputs": [
    {
     "data": {
      "image/png": "[encoded data removed]",
      "text/plain": [
       "<Figure size 1500x500 with 2 Axes>"
      ]
     },
     "metadata": {},
     "output_type": "display_data"
    }
   ],
   "source": [
    "fig, axes = plt.subplots(nrows=1, ncols=1, figsize=(15, 5)) \n",
    "\n",
    "# annot = Ture - display numeric values in the cells\n",
    "# center = range[-1 : 1]\n",
    "# ax = axes - designate the subplot for the heatmap\n",
    "sns.heatmap(df_Total_US[['units_sold', 'price', 'year', 'peak']].corr(),annot=True, center=0,ax=axes) \n",
    "\n",
    "axes.set_title('Correlations for conventional avocados') \n",
    "plt.show()"
   ]
  },
  {
   "cell_type": "markdown",
   "id": "a96d3ff8-be73-4037-aaea-849b4f9a2ab9",
   "metadata": {},
   "source": [
    "As expected, the sales quantity has a negative correlation with the price per avocado. The sales quantity has a positive correlation with the year and season being a peak season."
   ]
  },
  {
   "cell_type": "markdown",
   "id": "56ac451e-86aa-48be-a04e-6c8de59a43fd",
   "metadata": {},
   "source": [
    "### <Bonus - correlation heatmap> - better visualization"
   ]
  },
  {
   "cell_type": "code",
   "execution_count": 11,
   "id": "ea44d221-d412-418c-ac15-eaa508fdb241",
   "metadata": {},
   "outputs": [
    {
     "data": {
      "image/png": "[encoded data removed]",
      "text/plain": [
       "<Figure size 1500x500 with 2 Axes>"
      ]
     },
     "metadata": {},
     "output_type": "display_data"
    }
   ],
   "source": [
    "#correlation matrix\n",
    "corr = df_Total_US[['units_sold', 'price', 'year', 'peak']].corr()\n",
    "\n",
    "#upper triangle matrix with elements of '1's\n",
    "mask = np.triu(np.ones_like((corr)))\n",
    "\n",
    "#color map to designate warmer colors to higher values\n",
    "cmap = sns.diverging_palette(230, 20, as_cmap=True)\n",
    "\n",
    "# subplot(axes) to display the heatmap\n",
    "fig, axes = plt.subplots(nrows=1, ncols=1, figsize=(15, 5)) \n",
    "\n",
    "#vmax and vmin are set to -1 and 1 to reflect the characteristic of correlation\n",
    "sns.heatmap(corr, cmap = cmap, mask = mask, vmin = -1, vmax = 1, annot=True, ax = axes)\n",
    "\n",
    "axes.set_title('Correlations for conventional avocados') \n",
    "plt.show()"
   ]
  },
  {
   "cell_type": "markdown",
   "id": "74301a4e-acec-4025-bbef-e7377ee7c102",
   "metadata": {},
   "source": [
    "### Regions\n",
    "\n",
    "Finally, we will see how the sales differ among the different regions. This will determine the number of avocados that we want to supply to each region."
   ]
  },
  {
   "cell_type": "code",
   "execution_count": 12,
   "id": "c333f073-ea5c-4835-9124-d48f2b8eceaa",
   "metadata": {},
   "outputs": [
    {
     "data": {
      "image/png": "[encoded data removed]",
      "text/plain": [
       "<Figure size 1000x500 with 1 Axes>"
      ]
     },
     "metadata": {},
     "output_type": "display_data"
    }
   ],
   "source": [
    "fig, axes = plt.subplots(nrows=1, ncols=1, figsize=(10, 5)) \n",
    "\n",
    "regions = ['Great_Lakes','Midsouth','Northeast','Northern_New_England','SouthCentral','Southeast','West','Plains']\n",
    "\n",
    "# filtering\n",
    "df = avocado[avocado.region.isin(regions)]  \n",
    "\n",
    "mean = df.groupby('region')['units_sold'].mean()\n",
    "std  = df.groupby('region')['units_sold'].std() \n",
    " \n",
    "axes.errorbar(range(len(mean)), mean, xerr=0.5, yerr=2*std, linestyle='')  \n",
    "\n",
    "fig.tight_layout()\n",
    " \n",
    "plt.xlabel('Region') \n",
    "plt.xticks(range(len(mean)), pd.DataFrame(mean)['units_sold'].index,rotation=20)\n",
    "plt.ylabel('Units sold (millions)')\n",
    "plt.show()"
   ]
  },
  {
   "cell_type": "markdown",
   "id": "fb5e4167-8344-4275-bf75-2e4f805ea169",
   "metadata": {},
   "source": [
    "Clearly, west-coasters love avocados."
   ]
  },
  {
   "cell_type": "markdown",
   "id": "9289de44-2f8d-46d6-b7a5-68ec8ea8d040",
   "metadata": {},
   "source": [
    "## Part II: Predict the Sales\n",
    "\n",
    "The trends observed in Part I motivate us to construct a prediction model for sales using the independent variables- price, year, region and seasonality.\n",
    "Henceforth, the sales quantity will be referred to as the *predicted demand*.\n",
    "\n",
    "Let us now construct a linear regressor for the demand.\n",
    "Note that the region is a categorical variable.\n",
    "The linear regressor can be mathematically expressed as:\n",
    "\n",
    "$$demand = \\beta_0 + \\beta_1 * price + \\sum\\limits_{region} \\beta^{region}_3 * \\mathbb{1}(region)  +  \\beta_4 w_{year}*year +  \\beta_5  * \\mathbb{1}(peak).$$\n",
    "\n",
    "Here, the $\\beta$ values are weights (or \"co-efficients\") that have to be learned from the data. \n",
    "Note that the notation $\\mathbb{1}(region)$ is an indicator function that takes the value $1$ for each region in the summation. The value of $\\mathbb{1}(peak)$ is $1$ if we consider the peak season.\n",
    "\n",
    "To validate the regression model, we will randomly split the dataset into $80\\%$ training and $20\\%$ testing data and learn the weights using sklearns. "
   ]
  },
  {
   "cell_type": "code",
   "execution_count": 13,
   "id": "a75cd65c-837b-4983-bacd-667a60271a80",
   "metadata": {},
   "outputs": [],
   "source": [
    "# %pip install statsmodels"
   ]
  },
  {
   "cell_type": "code",
   "execution_count": 14,
   "id": "17a8bbda-c71b-44f7-bf75-790369ffb395",
   "metadata": {},
   "outputs": [],
   "source": [
    "import statsmodels.api as sm\n",
    "import statsmodels.formula.api as smf\n",
    "from sklearn.model_selection import train_test_split\n",
    "from sklearn.metrics import r2_score"
   ]
  },
  {
   "cell_type": "code",
   "execution_count": 15,
   "id": "64d488b6-3d12-41a8-8a2a-1ffe26737bf7",
   "metadata": {},
   "outputs": [],
   "source": [
    "# Split the data for training and testing\n",
    "train, test = train_test_split(df, train_size=0.8, random_state=1)\n",
    "df_train = pd.DataFrame(train, columns=df.columns)\n",
    "df_test = pd.DataFrame(test, columns=df.columns)"
   ]
  },
  {
   "cell_type": "code",
   "execution_count": 16,
   "id": "33857f5d-d909-49df-b247-1192b8dcb4c4",
   "metadata": {},
   "outputs": [
    {
     "data": {
      "text/html": [
       "<table class=\"simpletable\">\n",
       "<caption>OLS Regression Results</caption>\n",
       "<tr>\n",
       "  <th>Dep. Variable:</th>       <td>units_sold</td>    <th>  R-squared:         </th> <td>   0.909</td>\n",
       "</tr>\n",
       "<tr>\n",
       "  <th>Model:</th>                   <td>OLS</td>       <th>  Adj. R-squared:    </th> <td>   0.908</td>\n",
       "</tr>\n",
       "<tr>\n",
       "  <th>Method:</th>             <td>Least Squares</td>  <th>  F-statistic:       </th> <td>   2401.</td>\n",
       "</tr>\n",
       "<tr>\n",
       "  <th>Date:</th>             <td>Thu, 19 Dec 2024</td> <th>  Prob (F-statistic):</th>  <td>  0.00</td> \n",
       "</tr>\n",
       "<tr>\n",
       "  <th>Time:</th>                 <td>15:55:07</td>     <th>  Log-Likelihood:    </th> <td> -2271.1</td>\n",
       "</tr>\n",
       "<tr>\n",
       "  <th>No. Observations:</th>      <td>  2419</td>      <th>  AIC:               </th> <td>   4564.</td>\n",
       "</tr>\n",
       "<tr>\n",
       "  <th>Df Residuals:</th>          <td>  2408</td>      <th>  BIC:               </th> <td>   4628.</td>\n",
       "</tr>\n",
       "<tr>\n",
       "  <th>Df Model:</th>              <td>    10</td>      <th>                     </th>     <td> </td>   \n",
       "</tr>\n",
       "<tr>\n",
       "  <th>Covariance Type:</th>      <td>nonrobust</td>    <th>                     </th>     <td> </td>   \n",
       "</tr>\n",
       "</table>\n",
       "<table class=\"simpletable\">\n",
       "<tr>\n",
       "                  <td></td>                     <th>coef</th>     <th>std err</th>      <th>t</th>      <th>P>|t|</th>  <th>[0.025</th>    <th>0.975]</th>  \n",
       "</tr>\n",
       "<tr>\n",
       "  <th>Intercept</th>                         <td>    5.4500</td> <td>    0.092</td> <td>   59.538</td> <td> 0.000</td> <td>    5.271</td> <td>    5.630</td>\n",
       "</tr>\n",
       "<tr>\n",
       "  <th>C(region)[T.Midsouth]</th>             <td>   -0.2199</td> <td>    0.050</td> <td>   -4.393</td> <td> 0.000</td> <td>   -0.318</td> <td>   -0.122</td>\n",
       "</tr>\n",
       "<tr>\n",
       "  <th>C(region)[T.Northeast]</th>            <td>    1.4342</td> <td>    0.052</td> <td>   27.567</td> <td> 0.000</td> <td>    1.332</td> <td>    1.536</td>\n",
       "</tr>\n",
       "<tr>\n",
       "  <th>C(region)[T.Northern_New_England]</th> <td>   -3.0163</td> <td>    0.051</td> <td>  -59.425</td> <td> 0.000</td> <td>   -3.116</td> <td>   -2.917</td>\n",
       "</tr>\n",
       "<tr>\n",
       "  <th>C(region)[T.Plains]</th>               <td>   -1.8049</td> <td>    0.050</td> <td>  -35.848</td> <td> 0.000</td> <td>   -1.904</td> <td>   -1.706</td>\n",
       "</tr>\n",
       "<tr>\n",
       "  <th>C(region)[T.SouthCentral]</th>         <td>    1.7175</td> <td>    0.054</td> <td>   31.522</td> <td> 0.000</td> <td>    1.611</td> <td>    1.824</td>\n",
       "</tr>\n",
       "<tr>\n",
       "  <th>C(region)[T.Southeast]</th>            <td>    0.5889</td> <td>    0.050</td> <td>   11.739</td> <td> 0.000</td> <td>    0.491</td> <td>    0.687</td>\n",
       "</tr>\n",
       "<tr>\n",
       "  <th>C(region)[T.West]</th>                 <td>    2.5969</td> <td>    0.051</td> <td>   50.639</td> <td> 0.000</td> <td>    2.496</td> <td>    2.697</td>\n",
       "</tr>\n",
       "<tr>\n",
       "  <th>price</th>                             <td>   -2.1982</td> <td>    0.071</td> <td>  -30.938</td> <td> 0.000</td> <td>   -2.338</td> <td>   -2.059</td>\n",
       "</tr>\n",
       "<tr>\n",
       "  <th>year_index</th>                        <td>    0.1560</td> <td>    0.006</td> <td>   26.509</td> <td> 0.000</td> <td>    0.144</td> <td>    0.168</td>\n",
       "</tr>\n",
       "<tr>\n",
       "  <th>peak</th>                              <td>    0.5289</td> <td>    0.025</td> <td>   20.915</td> <td> 0.000</td> <td>    0.479</td> <td>    0.578</td>\n",
       "</tr>\n",
       "</table>\n",
       "<table class=\"simpletable\">\n",
       "<tr>\n",
       "  <th>Omnibus:</th>       <td>231.336</td> <th>  Durbin-Watson:     </th> <td>   2.019</td> \n",
       "</tr>\n",
       "<tr>\n",
       "  <th>Prob(Omnibus):</th> <td> 0.000</td>  <th>  Jarque-Bera (JB):  </th> <td> 594.900</td> \n",
       "</tr>\n",
       "<tr>\n",
       "  <th>Skew:</th>          <td> 0.542</td>  <th>  Prob(JB):          </th> <td>6.59e-130</td>\n",
       "</tr>\n",
       "<tr>\n",
       "  <th>Kurtosis:</th>      <td> 5.174</td>  <th>  Cond. No.          </th> <td>    40.3</td> \n",
       "</tr>\n",
       "</table><br/><br/>Notes:<br/>[1] Standard Errors assume that the covariance matrix of the errors is correctly specified."
      ],
      "text/latex": [
       "\\begin{center}\n",
       "\\begin{tabular}{lclc}\n",
       "\\toprule\n",
       "\\textbf{Dep. Variable:}                      &   units\\_sold    & \\textbf{  R-squared:         } &     0.909   \\\\\n",
       "\\textbf{Model:}                              &       OLS        & \\textbf{  Adj. R-squared:    } &     0.908   \\\\\n",
       "\\textbf{Method:}                             &  Least Squares   & \\textbf{  F-statistic:       } &     2401.   \\\\\n",
       "\\textbf{Date:}                               & Thu, 19 Dec 2024 & \\textbf{  Prob (F-statistic):} &     0.00    \\\\\n",
       "\\textbf{Time:}                               &     15:55:07     & \\textbf{  Log-Likelihood:    } &   -2271.1   \\\\\n",
       "\\textbf{No. Observations:}                   &        2419      & \\textbf{  AIC:               } &     4564.   \\\\\n",
       "\\textbf{Df Residuals:}                       &        2408      & \\textbf{  BIC:               } &     4628.   \\\\\n",
       "\\textbf{Df Model:}                           &          10      & \\textbf{                     } &             \\\\\n",
       "\\textbf{Covariance Type:}                    &    nonrobust     & \\textbf{                     } &             \\\\\n",
       "\\bottomrule\n",
       "\\end{tabular}\n",
       "\\begin{tabular}{lcccccc}\n",
       "                                             & \\textbf{coef} & \\textbf{std err} & \\textbf{t} & \\textbf{P$> |$t$|$} & \\textbf{[0.025} & \\textbf{0.975]}  \\\\\n",
       "\\midrule\n",
       "\\textbf{Intercept}                           &       5.4500  &        0.092     &    59.538  &         0.000        &        5.271    &        5.630     \\\\\n",
       "\\textbf{C(region)[T.Midsouth]}               &      -0.2199  &        0.050     &    -4.393  &         0.000        &       -0.318    &       -0.122     \\\\\n",
       "\\textbf{C(region)[T.Northeast]}              &       1.4342  &        0.052     &    27.567  &         0.000        &        1.332    &        1.536     \\\\\n",
       "\\textbf{C(region)[T.Northern\\_New\\_England]} &      -3.0163  &        0.051     &   -59.425  &         0.000        &       -3.116    &       -2.917     \\\\\n",
       "\\textbf{C(region)[T.Plains]}                 &      -1.8049  &        0.050     &   -35.848  &         0.000        &       -1.904    &       -1.706     \\\\\n",
       "\\textbf{C(region)[T.SouthCentral]}           &       1.7175  &        0.054     &    31.522  &         0.000        &        1.611    &        1.824     \\\\\n",
       "\\textbf{C(region)[T.Southeast]}              &       0.5889  &        0.050     &    11.739  &         0.000        &        0.491    &        0.687     \\\\\n",
       "\\textbf{C(region)[T.West]}                   &       2.5969  &        0.051     &    50.639  &         0.000        &        2.496    &        2.697     \\\\\n",
       "\\textbf{price}                               &      -2.1982  &        0.071     &   -30.938  &         0.000        &       -2.338    &       -2.059     \\\\\n",
       "\\textbf{year\\_index}                         &       0.1560  &        0.006     &    26.509  &         0.000        &        0.144    &        0.168     \\\\\n",
       "\\textbf{peak}                                &       0.5289  &        0.025     &    20.915  &         0.000        &        0.479    &        0.578     \\\\\n",
       "\\bottomrule\n",
       "\\end{tabular}\n",
       "\\begin{tabular}{lclc}\n",
       "\\textbf{Omnibus:}       & 231.336 & \\textbf{  Durbin-Watson:     } &     2.019  \\\\\n",
       "\\textbf{Prob(Omnibus):} &   0.000 & \\textbf{  Jarque-Bera (JB):  } &   594.900  \\\\\n",
       "\\textbf{Skew:}          &   0.542 & \\textbf{  Prob(JB):          } & 6.59e-130  \\\\\n",
       "\\textbf{Kurtosis:}      &   5.174 & \\textbf{  Cond. No.          } &      40.3  \\\\\n",
       "\\bottomrule\n",
       "\\end{tabular}\n",
       "%\\caption{OLS Regression Results}\n",
       "\\end{center}\n",
       "\n",
       "Notes: \\newline\n",
       " [1] Standard Errors assume that the covariance matrix of the errors is correctly specified."
      ],
      "text/plain": [
       "<class 'statsmodels.iolib.summary.Summary'>\n",
       "\"\"\"\n",
       "                            OLS Regression Results                            \n",
       "==============================================================================\n",
       "Dep. Variable:             units_sold   R-squared:                       0.909\n",
       "Model:                            OLS   Adj. R-squared:                  0.908\n",
       "Method:                 Least Squares   F-statistic:                     2401.\n",
       "Date:                Thu, 19 Dec 2024   Prob (F-statistic):               0.00\n",
       "Time:                        15:55:07   Log-Likelihood:                -2271.1\n",
       "No. Observations:                2419   AIC:                             4564.\n",
       "Df Residuals:                    2408   BIC:                             4628.\n",
       "Df Model:                          10                                         \n",
       "Covariance Type:            nonrobust                                         \n",
       "=====================================================================================================\n",
       "                                        coef    std err          t      P>|t|      [0.025      0.975]\n",
       "-----------------------------------------------------------------------------------------------------\n",
       "Intercept                             5.4500      0.092     59.538      0.000       5.271       5.630\n",
       "C(region)[T.Midsouth]                -0.2199      0.050     -4.393      0.000      -0.318      -0.122\n",
       "C(region)[T.Northeast]                1.4342      0.052     27.567      0.000       1.332       1.536\n",
       "C(region)[T.Northern_New_England]    -3.0163      0.051    -59.425      0.000      -3.116      -2.917\n",
       "C(region)[T.Plains]                  -1.8049      0.050    -35.848      0.000      -1.904      -1.706\n",
       "C(region)[T.SouthCentral]             1.7175      0.054     31.522      0.000       1.611       1.824\n",
       "C(region)[T.Southeast]                0.5889      0.050     11.739      0.000       0.491       0.687\n",
       "C(region)[T.West]                     2.5969      0.051     50.639      0.000       2.496       2.697\n",
       "price                                -2.1982      0.071    -30.938      0.000      -2.338      -2.059\n",
       "year_index                            0.1560      0.006     26.509      0.000       0.144       0.168\n",
       "peak                                  0.5289      0.025     20.915      0.000       0.479       0.578\n",
       "==============================================================================\n",
       "Omnibus:                      231.336   Durbin-Watson:                   2.019\n",
       "Prob(Omnibus):                  0.000   Jarque-Bera (JB):              594.900\n",
       "Skew:                           0.542   Prob(JB):                    6.59e-130\n",
       "Kurtosis:                       5.174   Cond. No.                         40.3\n",
       "==============================================================================\n",
       "\n",
       "Notes:\n",
       "[1] Standard Errors assume that the covariance matrix of the errors is correctly specified.\n",
       "\"\"\""
      ]
     },
     "execution_count": 16,
     "metadata": {},
     "output_type": "execute_result"
    }
   ],
   "source": [
    "# Train the model\n",
    "formula = 'units_sold ~ price + year_index + C(region)+ peak' # region is a categorical variable\n",
    "mod = smf.ols(formula,data=df_train)\n",
    "result = mod.fit()\n",
    "result.summary()"
   ]
  },
  {
   "cell_type": "code",
   "execution_count": 17,
   "id": "6814e8de-340c-4fb4-8914-fe60042ccf8a",
   "metadata": {},
   "outputs": [
    {
     "name": "stdout",
     "output_type": "stream",
     "text": [
      "R^2 value in the test set:  0.8982069358257863\n"
     ]
    }
   ],
   "source": [
    "# Get R^2 from test data\n",
    "y_true = df_test['units_sold']\n",
    "y_pred = result.predict(df_test)\n",
    "print(\"R^2 value in the test set: \", r2_score(y_true, y_pred))"
   ]
  },
  {
   "cell_type": "markdown",
   "id": "7633b1b0-0013-4deb-92ca-e4d561a4d184",
   "metadata": {},
   "source": [
    "We can observe a good $R^2$ value in the test set. We will now train the fit the weights to the full dataset."
   ]
  },
  {
   "cell_type": "code",
   "execution_count": 18,
   "id": "dfcb9567-1a69-40ad-aff2-e29c93d43c68",
   "metadata": {},
   "outputs": [
    {
     "name": "stdout",
     "output_type": "stream",
     "text": [
      "The R^2 value in the full dataset is 0.9066729322212482\n"
     ]
    }
   ],
   "source": [
    "formula = 'units_sold ~ price + year_index + C(region)+ peak' # region is a categorical variable\n",
    "mod_full = smf.ols(formula,data=df)\n",
    "result_full = mod_full.fit()\n",
    "\n",
    "y_true_full = df['units_sold']\n",
    "y_pred_full = result_full.predict(df)\n",
    "print(\"The R^2 value in the full dataset is\",r2_score(y_true_full, y_pred_full))\n",
    "\n",
    "# Get the weights and store it\n",
    "coef_dict = result_full.params.to_dict() \n",
    "coef_dict['C(region)[T.Great_Lakes]'] = 0 # not necessary"
   ]
  },
  {
   "cell_type": "markdown",
   "id": "15d3ef18-5bca-4661-a88c-f9821c39c665",
   "metadata": {},
   "source": [
    "## Part III: Optimize for Price and Supply of Avocados"
   ]
  },
  {
   "cell_type": "markdown",
   "id": "97eed94c-b8b7-435c-936b-725e2b1e696d",
   "metadata": {},
   "source": [
    "Knowing how the price of an avocado affects the demand, how can we set the optimal avocado price? \n",
    "We don't want to set the price too high, since that could drive demand and sales down. At the same time, setting the price too low could be sub-optimal when maximizing revenue. So what is the sweet spot? \n",
    "\n",
    "On the distribution logistics, we want to make sure that there are enough avocados across the regions. We can address these considerations in a mathematical optimization model.\n",
    "An optimization model finds the **best solution** according to an **objective function** such that the solution satisfies a set of **constraints**. \n",
    "Here, a solution is expressed as a vector of real values or integer values called **decision variables**.\n",
    "Constraints are a set of equations or inequalities written as a function of the decision variables.\n",
    "\n",
    "At the start of each week, assume that the total number of available products is finite. This quantity needs to be distributed to the various regions while maximizing net revenue. So there are two key decisions - the price of an avocado in each region, and the number of avocados allocated to each region. \n",
    "\n",
    "Let us now define some input parameters and notations used for creating the model. The subscript $r$ will be used to denote each region.\n",
    "\n",
    "### Input Parameters\n",
    "- $R$: set of regions,\n",
    "- $d(p,r)$: predicted demand in region $r\\in R$ when the avocado per product is $p$, \n",
    "- $B$: available avocados to be distributed across the regions, \n",
    "- $c_{waste}$: cost ($\\$$) per wasted avocado,\n",
    "- $c^r_{transport}$: cost ($\\$$) of transporting a avocado to region $r \\in R$,\n",
    "- $a^r_{min},a^r_{max}$: minimum and maximum price ($\\$$) per avocado for reigon $r \\in R$,\n",
    "- $b^r_{min},b^r_{max}$: minimum and maximum number of avocados allocated to region $r \\in R$,\n",
    "\n",
    "The following code loads the Gurobi python package and initiates the optimization model. \n",
    "The value of $B$ is set to $30$ million avocados, which is close to the average weekly supply value from the data.\n",
    "For illustration, let us consider the peak season of 2021.\n",
    "The cost of wasting an avocado is set to $\\$0.10$.\n",
    "The cost of transporting an avocado ranges between $\\$0.10$ to $\\$0.50$ based on each region's distance from the southern border, where the [majority of avocado supply comes from](https://www.britannica.com/plant/avocado).\n",
    "Further, we can set the price of an avocado to not exceed $\\$ 2$ apiece. "
   ]
  },
  {
   "cell_type": "code",
   "execution_count": 19,
   "id": "8c179f5a-d764-45d4-9601-67c663facabb",
   "metadata": {},
   "outputs": [],
   "source": [
    "import gurobipy as gp\n",
    "from gurobipy import GRB"
   ]
  },
  {
   "cell_type": "code",
   "execution_count": 20,
   "id": "848a7a19-12c9-4be2-a308-82f7d23da673",
   "metadata": {},
   "outputs": [
    {
     "name": "stdout",
     "output_type": "stream",
     "text": [
      "Set parameter Username\n"
     ]
    }
   ],
   "source": [
    "# empty model object with the name assigned\n",
    "m = gp.Model(\"Avocado_Price_Allocation\")"
   ]
  },
  {
   "cell_type": "code",
   "execution_count": 21,
   "id": "2dd3dc3f-c277-4409-b066-e2e4ce6b9448",
   "metadata": {},
   "outputs": [],
   "source": [
    "# empty model object with the name assigned\n",
    "m = gp.Model(\"Avocado_Price_Allocation\")\n",
    "\n",
    "# Sets and Parameters\n",
    "# regions = ['Great_Lakes','Midsouth','Northeast','Northern_New_England','SouthCentral','Southeast','West','Plains']\n",
    "R = regions\n",
    "\n",
    "# Total supply in millions\n",
    "B = 30 \n",
    "\n",
    "# 1 if it is the peak season, 0 otherwise\n",
    "# we now consider peak season only\n",
    "peak_or_not = 1 \n",
    "\n",
    "# we now consider year of 2022\n",
    "year = 2022\n",
    "\n",
    "# cost of wasting an avocado in dollars\n",
    "c_waste = 0.1\n",
    "\n",
    "# cost of transporting an avocado # exogeneoulsy given\n",
    "c_transport = {'Great_Lakes': .3,'Midsouth': .1,'Northeast': .4,'Northern_New_England': .5,'SouthCentral': .3,'Southeast': .2,'West': .2,'Plains': .2}"
   ]
  },
  {
   "cell_type": "code",
   "execution_count": 22,
   "id": "5e665b02-e765-4795-8418-defa92d4834a",
   "metadata": {},
   "outputs": [],
   "source": [
    "# Get the lower and upper bounds from the dataset for the price and the number of products to be stocked \n",
    "a_min = {r: 0 for r in R}                               # min avocado price in each region\n",
    "a_max = {r: 2 for r in R}                               # max avocado price in each region\n",
    "b_min = dict(df.groupby('region')['units_sold'].min())  # min number of avocados allocated to each region\n",
    "b_max = dict(df.groupby('region')['units_sold'].max())  # max number of avocados allocated to each region"
   ]
  },
  {
   "cell_type": "markdown",
   "id": "28e8f2ca-64d8-4df9-ab0b-41b81d32be8e",
   "metadata": {},
   "source": [
    "### Decision Variables\n",
    "\n",
    "Let us now define the decision variables.\n",
    "In our model, we want to store the price and number of avocados allocated to each region. We also want variables that track how many avocados are predicted to be sold and how many are predicted to be wasted. \n",
    "The following notation is used to model these decision variables, indexed for each region $r$.\n",
    "\n",
    "$p_r$: the price of an avocado ($\\$$) in region $r$,\n",
    "\n",
    "$x_r$: the number of products avocados supplied to region $r$,\n",
    "\n",
    "$s_r = \\min \\{x_r,d_r(p_r)\\}$: the predicted number of avocados sold in region $r$, \n",
    "\n",
    "$w_r = x_r - s_r$: the predicted number of avocados wasted in region $r$\n",
    "\n",
    "We will now add the variables to the Gurobi model."
   ]
  },
  {
   "cell_type": "code",
   "execution_count": 23,
   "id": "5e8e5910-fa50-4f6f-8704-58e64034941d",
   "metadata": {},
   "outputs": [],
   "source": [
    "p = m.addVars(R, name = \"p\", lb = a_min, ub = a_max) # price of avocados in each region\n",
    "x = m.addVars(R, name = \"x\", lb = b_min, ub = b_max) # quantity supplied to each region\n",
    "s = m.addVars(R, name = \"s\", lb = 0)                 # predicted amount of sales in each region for the given price\n",
    "w = m.addVars(R, name = \"w\", lb = 0)                 # excess wasteage in each region"
   ]
  },
  {
   "cell_type": "markdown",
   "id": "6fda97df-cd3c-4330-995a-635dab7f5e28",
   "metadata": {},
   "source": [
    "Now, let's create an expression for the predicted demand in each region as a function of price. Note that apart from the price, none of the other parameters in this prediction function (such as region, year and seasonality) are decision variables, and hence can be treated as constants."
   ]
  },
  {
   "cell_type": "code",
   "execution_count": 24,
   "id": "48a8aa09-e57b-40ff-981a-7573bbce54a3",
   "metadata": {},
   "outputs": [
    {
     "name": "stdout",
     "output_type": "stream",
     "text": [
      "7.113205674224978 + -2.203770104890241 <gurobi.Var *Awaiting Model Update*>\n",
      "6.870512520547095 + -2.203770104890241 <gurobi.Var *Awaiting Model Update*>\n",
      "8.546225510868206 + -2.203770104890241 <gurobi.Var *Awaiting Model Update*>\n",
      "4.093961883587087 + -2.203770104890241 <gurobi.Var *Awaiting Model Update*>\n",
      "8.827017748198434 + -2.203770104890241 <gurobi.Var *Awaiting Model Update*>\n",
      "7.6971958408861445 + -2.203770104890241 <gurobi.Var *Awaiting Model Update*>\n",
      "9.715005122866245 + -2.203770104890241 <gurobi.Var *Awaiting Model Update*>\n",
      "5.298172801834557 + -2.203770104890241 <gurobi.Var *Awaiting Model Update*>\n"
     ]
    }
   ],
   "source": [
    "d = {r: (coef_dict['Intercept'] + coef_dict['price'] * p[r] + coef_dict['C(region)[T.%s]'%r] + coef_dict['year_index'] * (year - 2015) + coef_dict['peak'] * peak_or_not) for r in R}\n",
    "for r in R:\n",
    "    print(d[r])"
   ]
  },
  {
   "cell_type": "markdown",
   "id": "7874fa62-0a9d-4f13-a567-4ee48897cca8",
   "metadata": {},
   "source": [
    "### Set the Objective\n",
    "\n",
    "Next, we will define the objective function: we want to maximizing the **net revenue**. The revenue from sales in each region is calculated by the price of an avocado in that region multiplied by the quantity sold there. There are two types of costs incurred: the wastage costs for excess unsold avocados and the cost of transporting the avocados to the different regions. \n",
    "\n",
    "The net revenue is the sales revenue subtracted by the total costs incurred. We assume that the purchase costs are fixed and are not incorporated in this model.\n",
    "\n",
    "Using the defined decision variables, the objective can be written as follows.\n",
    "\n",
    "\\begin{align}\n",
    "\\textrm{maximize} &  \\sum_{r}  (p_r * s_r - c_{waste} * w_r - c^r_{transport} * x_r)& \n",
    "\\end{align}\n",
    "\n",
    "Let us now add the objective function to the model."
   ]
  },
  {
   "cell_type": "code",
   "execution_count": 25,
   "id": "8aa9dc86-d6b7-4c31-894a-8956266fff68",
   "metadata": {},
   "outputs": [],
   "source": [
    "m.setObjective(sum(p[r] * s[r] - c_waste * w[r] - c_transport[r] * x[r] for r in R)) \n",
    "m.ModelSense = GRB.MAXIMIZE"
   ]
  },
  {
   "cell_type": "markdown",
   "id": "7dbdf398-9de3-4b3c-9691-27e775dc57d8",
   "metadata": {},
   "source": [
    "### Add the Supply Constraint\n",
    "\n",
    "We now introduce the constraints. The first constraint is to make sure that the total number of avocados supplied is equal to $B$, which can be mathematically expressed as follows.\n",
    "\n",
    "\\begin{align*} \n",
    "\\sum_{r} x_r &= B\n",
    "\\end{align*}\n",
    "\n",
    "The following code adds this constraint to the model."
   ]
  },
  {
   "cell_type": "code",
   "execution_count": 26,
   "id": "b102b8f1-bb39-4d66-95bf-ac7151670506",
   "metadata": {},
   "outputs": [],
   "source": [
    "m.addConstr(sum(x[r] for r in R) == B)\n",
    "m.update() # not necessary"
   ]
  },
  {
   "cell_type": "markdown",
   "id": "e41b14fe-797a-46a7-b5bc-dbd23c225d21",
   "metadata": {},
   "source": [
    "### Add Constraints That Define Sales Quantity\n",
    "\n",
    "Next, we should define the predicted sales quantity in each region.\n",
    "We can assume that if we supply more than the predicted demand, we sell exactly the predicted demand. \n",
    "Otherwise, we sell exactly the allocated amount.\n",
    "Hence, the predicted sales quantity is the minimum of the allocated quantity and the predicted demand, i.e., $s_r = \\min \\{x_r,d_r(p_r)\\}$. \n",
    "This relationship can be modeled by the following two constraints for each region $r$.\n",
    "\n",
    "\\begin{align*} \n",
    "s_r &\\leq x_r  \\\\\n",
    "s_r &\\leq d(p_r,r)  \n",
    "\\end{align*}\n",
    "\n",
    "These constraints will ensure that the sales quantity $s_r$ in region $r$ is  greater than neither the allocated quantity nor the predicted demand. Note that the maximization objective function tries to maximize the revenue from sales, and therefore the optimizer will maximize the predicted sales quantity. This is assuming that the surplus and transportation costs are less than the sales price per avocado. Hence, these constraints along with the objective will ensure that the sales are equal to the minimum of supply and predicted demand.\n",
    "\n",
    "Let us now add these constraints to the model."
   ]
  },
  {
   "cell_type": "code",
   "execution_count": 27,
   "id": "a6f55d40-4a6d-468e-a34d-aee1fae95b30",
   "metadata": {},
   "outputs": [],
   "source": [
    "m.addConstrs((s[r] <= x[r] for r in R))\n",
    "m.addConstrs((s[r] <= d[r] for r in R))\n",
    "m.update() # not necessary"
   ]
  },
  {
   "cell_type": "markdown",
   "id": "97e7f2ad-4bf9-4390-9e56-5943ef1738d2",
   "metadata": {},
   "source": [
    "### Add the Wastage Constraints\n",
    "\n",
    "Finally, we should define the predicted wastage in each region, given by the supplied quantity that is not predicted to be sold. We can express this mathematically for each region $r$.\n",
    "\n",
    "\\begin{align*} \n",
    "w_r &= x_r - s_r\n",
    "\\end{align*} \n",
    "\n",
    "We can add these constraints to the model."
   ]
  },
  {
   "cell_type": "code",
   "execution_count": 28,
   "id": "f65ccfd9-7688-46a2-b7e0-190aae22ca8d",
   "metadata": {},
   "outputs": [],
   "source": [
    "m.addConstrs((w[r] == x[r] - s[r] for r in R))\n",
    "m.update()"
   ]
  },
  {
   "cell_type": "markdown",
   "id": "1fbd6adb-0002-4be1-9014-9d658ba90d1d",
   "metadata": {},
   "source": [
    "### Fire Up the Solver\n",
    "\n",
    "We have added the decision variables, objective function, and the constraints to the model. \n",
    "The model is ready to be solved.\n",
    "Before we do so, we should let the solver know what type of model this is.\n",
    "The default setting assumes that the objective and the constraints are linear functions of the variables.\n",
    "\n",
    "In our model, the objective is **quadratic** since we take the product of price and the predicted sales, both of which are variables. \n",
    "Maximizing a quadratic term is said to be **non-convex**, and we specify this using a Gurobi parameter value to be $2$. \n",
    "See [here](https://www.gurobi.com/documentation/9.5/refman/nonconvex.html) for more details."
   ]
  },
  {
   "cell_type": "code",
   "execution_count": 29,
   "id": "f384e0db-dcbf-40eb-bb7a-8986e5a196b3",
   "metadata": {},
   "outputs": [
    {
     "name": "stdout",
     "output_type": "stream",
     "text": [
      "Set parameter NonConvex to value 2\n",
      "Gurobi Optimizer version 11.0.3 build v11.0.3rc0 (win64 - Windows 10.0 (19045.2))\n",
      "\n",
      "CPU model: Intel(R) Core(TM) i7-10750H CPU @ 2.60GHz, instruction set [SSE2|AVX|AVX2]\n",
      "Thread count: 6 physical cores, 12 logical processors, using up to 12 threads\n",
      "\n",
      "Optimize a model with 25 rows, 32 columns and 64 nonzeros\n",
      "Model fingerprint: 0xe5b0f953\n",
      "Model has 8 quadratic objective terms\n",
      "Coefficient statistics:\n",
      "  Matrix range     [1e+00, 2e+00]\n",
      "  Objective range  [1e-01, 5e-01]\n",
      "  QObjective range [2e+00, 2e+00]\n",
      "  Bounds range     [2e-01, 1e+01]\n",
      "  RHS range        [4e+00, 3e+01]\n",
      "\n",
      "Continuous model is non-convex -- solving as a MIP\n",
      "\n",
      "Presolve removed 8 rows and 8 columns\n",
      "Presolve time: 0.00s\n",
      "Presolved: 34 rows, 33 columns, 81 nonzeros\n",
      "Presolved model has 8 bilinear constraint(s)\n",
      "Variable types: 33 continuous, 0 integer (0 binary)\n",
      "Found heuristic solution: objective 42.5082914\n",
      "\n",
      "Root relaxation: objective 5.288486e+01, 36 iterations, 0.00 seconds (0.00 work units)\n",
      "\n",
      "    Nodes    |    Current Node    |     Objective Bounds      |     Work\n",
      " Expl Unexpl |  Obj  Depth IntInf | Incumbent    BestBd   Gap | It/Node Time\n",
      "\n",
      "     0     0   52.88486    0    8   42.50829   52.88486  24.4%     -    0s\n",
      "     0     0   47.12254    0    8   42.50829   47.12254  10.9%     -    0s\n",
      "     0     0   43.45633    0    8   42.50829   43.45633  2.23%     -    0s\n",
      "     0     0   42.68700    0    8   42.50829   42.68700  0.42%     -    0s\n",
      "     0     0   42.58820    0    8   42.50829   42.58820  0.19%     -    0s\n",
      "     0     0   42.52779    0    8   42.50829   42.52779  0.05%     -    0s\n",
      "     0     0   42.52161    0    8   42.50829   42.52161  0.03%     -    0s\n",
      "     0     0   42.51509    0    8   42.50829   42.51509  0.02%     -    0s\n",
      "     0     0   42.51497    0    6   42.50829   42.51497  0.02%     -    0s\n",
      "     0     2   42.51497    0    6   42.50829   42.51497  0.02%     -    0s\n",
      "\n",
      "Cutting planes:\n",
      "  RLT: 15\n",
      "\n",
      "Explored 13 nodes (129 simplex iterations) in 0.06 seconds (0.00 work units)\n",
      "Thread count was 12 (of 12 available processors)\n",
      "\n",
      "Solution count 1: 42.5083 \n",
      "\n",
      "Optimal solution found (tolerance 1.00e-04)\n",
      "Best objective 4.250829142540e+01, best bound 4.251230590824e+01, gap 0.0094%\n"
     ]
    }
   ],
   "source": [
    "m.Params.NonConvex = 2 \n",
    "m.optimize() "
   ]
  },
  {
   "cell_type": "markdown",
   "id": "b8a12d91-ad95-4d34-a9d7-04ce4f72d16c",
   "metadata": {},
   "source": [
    "The solver solved the optimization problem in less than a second.\n",
    "Let us now analyze the optimal solution by storing it in a Pandas dataframe."
   ]
  },
  {
   "cell_type": "code",
   "execution_count": 30,
   "id": "1d4f45f5-2618-490b-91b1-b6ead009ec52",
   "metadata": {},
   "outputs": [
    {
     "name": "stdout",
     "output_type": "stream",
     "text": [
      "\n",
      " The optimal net revenue: $42.508291 million\n"
     ]
    },
    {
     "data": {
      "text/html": [
       "<div>\n",
       "<style scoped>\n",
       "    .dataframe tbody tr th:only-of-type {\n",
       "        vertical-align: middle;\n",
       "    }\n",
       "\n",
       "    .dataframe tbody tr th {\n",
       "        vertical-align: top;\n",
       "    }\n",
       "\n",
       "    .dataframe thead th {\n",
       "        text-align: right;\n",
       "    }\n",
       "</style>\n",
       "<table border=\"1\" class=\"dataframe\">\n",
       "  <thead>\n",
       "    <tr style=\"text-align: right;\">\n",
       "      <th></th>\n",
       "      <th>Region</th>\n",
       "      <th>Price</th>\n",
       "      <th>Allocated</th>\n",
       "      <th>Sold</th>\n",
       "      <th>Wasted</th>\n",
       "      <th>Pred_demand</th>\n",
       "    </tr>\n",
       "  </thead>\n",
       "  <tbody>\n",
       "    <tr>\n",
       "      <th>0</th>\n",
       "      <td>Great_Lakes</td>\n",
       "      <td>1.663872</td>\n",
       "      <td>3.446414</td>\n",
       "      <td>3.446414</td>\n",
       "      <td>1.000000e-08</td>\n",
       "      <td>3.446414</td>\n",
       "    </tr>\n",
       "    <tr>\n",
       "      <th>1</th>\n",
       "      <td>Midsouth</td>\n",
       "      <td>1.508809</td>\n",
       "      <td>3.545445</td>\n",
       "      <td>3.545445</td>\n",
       "      <td>1.726845e+00</td>\n",
       "      <td>3.545445</td>\n",
       "    </tr>\n",
       "    <tr>\n",
       "      <th>2</th>\n",
       "      <td>Northeast</td>\n",
       "      <td>2.000000</td>\n",
       "      <td>4.138685</td>\n",
       "      <td>4.138685</td>\n",
       "      <td>1.000000e-08</td>\n",
       "      <td>4.138685</td>\n",
       "    </tr>\n",
       "    <tr>\n",
       "      <th>3</th>\n",
       "      <td>Northern_New_England</td>\n",
       "      <td>1.441157</td>\n",
       "      <td>0.917984</td>\n",
       "      <td>0.917984</td>\n",
       "      <td>0.000000e+00</td>\n",
       "      <td>0.917984</td>\n",
       "    </tr>\n",
       "    <tr>\n",
       "      <th>4</th>\n",
       "      <td>SouthCentral</td>\n",
       "      <td>2.000000</td>\n",
       "      <td>4.419478</td>\n",
       "      <td>4.419478</td>\n",
       "      <td>1.000000e-08</td>\n",
       "      <td>4.419478</td>\n",
       "    </tr>\n",
       "    <tr>\n",
       "      <th>5</th>\n",
       "      <td>Southeast</td>\n",
       "      <td>1.746370</td>\n",
       "      <td>3.848598</td>\n",
       "      <td>3.848598</td>\n",
       "      <td>2.000000e-08</td>\n",
       "      <td>3.848598</td>\n",
       "    </tr>\n",
       "    <tr>\n",
       "      <th>6</th>\n",
       "      <td>West</td>\n",
       "      <td>2.000000</td>\n",
       "      <td>5.307465</td>\n",
       "      <td>5.307465</td>\n",
       "      <td>2.000000e-08</td>\n",
       "      <td>5.307465</td>\n",
       "    </tr>\n",
       "    <tr>\n",
       "      <th>7</th>\n",
       "      <td>Plains</td>\n",
       "      <td>1.202070</td>\n",
       "      <td>2.649086</td>\n",
       "      <td>2.649086</td>\n",
       "      <td>2.000000e-08</td>\n",
       "      <td>2.649086</td>\n",
       "    </tr>\n",
       "  </tbody>\n",
       "</table>\n",
       "</div>"
      ],
      "text/plain": [
       "                 Region     Price  Allocated      Sold        Wasted  \\\n",
       "0           Great_Lakes  1.663872   3.446414  3.446414  1.000000e-08   \n",
       "1              Midsouth  1.508809   3.545445  3.545445  1.726845e+00   \n",
       "2             Northeast  2.000000   4.138685  4.138685  1.000000e-08   \n",
       "3  Northern_New_England  1.441157   0.917984  0.917984  0.000000e+00   \n",
       "4          SouthCentral  2.000000   4.419478  4.419478  1.000000e-08   \n",
       "5             Southeast  1.746370   3.848598  3.848598  2.000000e-08   \n",
       "6                  West  2.000000   5.307465  5.307465  2.000000e-08   \n",
       "7                Plains  1.202070   2.649086  2.649086  2.000000e-08   \n",
       "\n",
       "   Pred_demand  \n",
       "0     3.446414  \n",
       "1     3.545445  \n",
       "2     4.138685  \n",
       "3     0.917984  \n",
       "4     4.419478  \n",
       "5     3.848598  \n",
       "6     5.307465  \n",
       "7     2.649086  "
      ]
     },
     "execution_count": 30,
     "metadata": {},
     "output_type": "execute_result"
    }
   ],
   "source": [
    "solution = pd.DataFrame()\n",
    "solution['Region'] = R\n",
    "solution['Price'] = [p[r].X for r in R] # .X attribute of a variable represents the optimized value of that variable\n",
    "solution['Allocated'] = [round(s[r].X, 8) for r in R]\n",
    "solution['Sold'] = [round(s[r].X, 8) for r in R]\n",
    "solution['Wasted'] = [round(w[r].X, 8) for r in R]  \n",
    "solution['Pred_demand'] = [(coef_dict['Intercept'] + coef_dict['price'] * p[r].X + coef_dict['C(region)[T.%s]'%r] + coef_dict['year_index'] * (year - 2015) + coef_dict['peak'] * peak_or_not) for r in R]\n",
    "\n",
    "opt_revenue = m.Objval\n",
    "print(\"\\n The optimal net revenue: $%f million\"%opt_revenue)\n",
    "solution"
   ]
  },
  {
   "cell_type": "markdown",
   "id": "aae213a3-4e44-4d0a-bc98-b30132cfdfb1",
   "metadata": {},
   "source": [
    "Let us now visualize a scatter plot between the price and the number of avocados sold (in millions) for the eight regions."
   ]
  },
  {
   "cell_type": "code",
   "execution_count": 31,
   "id": "af9fbc6e-e40e-41b8-b242-0b9a32eed12c",
   "metadata": {},
   "outputs": [
    {
     "data": {
      "image/png": "[encoded data removed]",
      "text/plain": [
       "<Figure size 640x480 with 1 Axes>"
      ]
     },
     "metadata": {},
     "output_type": "display_data"
    },
    {
     "name": "stdout",
     "output_type": "stream",
     "text": [
      "The circles represent sales quantity and the cross markers represent the wasted quantity.\n"
     ]
    }
   ],
   "source": [
    "fig, ax = plt.subplots(1,1) \n",
    "plot_sol = sns.scatterplot(data=solution,x='Price',y='Sold',hue='Region',s=100)\n",
    "plot_waste = sns.scatterplot(data=solution,x='Price',y='Wasted',marker='x',hue='Region',s=100,legend = False)\n",
    "\n",
    "plot_sol.legend(loc='center left', bbox_to_anchor=(1.25, 0.5), ncol=1)\n",
    "plot_waste.legend(loc='center left', bbox_to_anchor=(1.25, 0.5), ncol=1)\n",
    "plt.ylim(0, 5)\n",
    "plt.xlim(1, 2.2)\n",
    "ax.set_xlabel('Price per avocado ($)')\n",
    "ax.set_ylabel('Number of avocados sold (millions)')\n",
    "plt.show() \n",
    "print(\"The circles represent sales quantity and the cross markers represent the wasted quantity.\")"
   ]
  },
  {
   "cell_type": "markdown",
   "id": "59c44ba3-1bd7-4e70-bd5e-679131ddb048",
   "metadata": {},
   "source": [
    "## Experiment with Parameter Settings\n",
    "\n",
    "While this notebook walked through how to build an optimization model piece-by-piece, the following code contains the overall optimization model. You can input different parameter values and see how the optimal solution changes. \n",
    "The value of $B$ can be controlled using the slider below the cell.\n"
   ]
  },
  {
   "cell_type": "code",
   "execution_count": 32,
   "id": "810b8615-2442-4c90-a3b8-28b0279ed814",
   "metadata": {},
   "outputs": [],
   "source": [
    "# %pip install plotly"
   ]
  },
  {
   "cell_type": "code",
   "execution_count": 33,
   "id": "12bd72ee-c1d0-4736-9ee7-ebdbf31458b5",
   "metadata": {},
   "outputs": [
    {
     "name": "stdout",
     "output_type": "stream",
     "text": [
      "Select a value for the available inventory (B) (in millions):\n",
      "\n"
     ]
    },
    {
     "data": {
      "application/vnd.jupyter.widget-view+json": {
       "model_id": "4819aace72604ba89296970052ab3200",
       "version_major": 2,
       "version_minor": 0
      },
      "text/plain": [
       "interactive(children=(IntSlider(value=27, description='x', max=40, min=15), Output()), _dom_classes=('widget-i…"
      ]
     },
     "metadata": {},
     "output_type": "display_data"
    },
    {
     "data": {
      "text/plain": [
       "<function __main__.solve_MIQP(x)>"
      ]
     },
     "execution_count": 33,
     "metadata": {},
     "output_type": "execute_result"
    }
   ],
   "source": [
    "from ipywidgets import interact, interactive, fixed, interact_manual\n",
    "import ipywidgets as widgets \n",
    " \n",
    "import plotly.express as px\n",
    "\n",
    "peak_or_not = 1 # \n",
    "year = 2022\n",
    "\n",
    "# Sets and parameters\n",
    "R = regions  \n",
    "c_waste = 0.1 \n",
    "c_transport = {'Great_Lakes': .3,'Midsouth':.1,'Northeast':.4,'Northern_New_England':.5,'SouthCentral':.3,'Southeast':.2,'West':.2,'Plains':.2}\n",
    "\n",
    "# Get the lower and upper bounds for price (p) and amount to be stocked (x) from the dataset\n",
    "price_min = dict(df.groupby('region')['price'].min())\n",
    "price_max = dict(df.groupby('region')['price'].max())\n",
    "sold_min = dict(df.groupby('region')['units_sold'].min()) \n",
    "sold_max = dict(df.groupby('region')['units_sold'].max())   \n",
    "\n",
    "\n",
    "\n",
    "def solve_MIQP(x):\n",
    "    B = x\n",
    "    \n",
    "    # Initialize Model\n",
    "    m = gp.Model(\"Avocado_Price_Allocation\")\n",
    "\n",
    "    # Variables. Adjust the bounds here \n",
    "    x = m.addVars(R,name=\"x\",lb=sold_min,ub=sold_max) \n",
    "    p = m.addVars(R,name=\"p\",lb=0, ub=2)   \n",
    "    s = m.addVars(R,name=\"s\",lb=0)  \n",
    "    w = m.addVars(R,name=\"w\",lb=0) \n",
    "    i = m.addVars(R,name=\"i\",vtype=GRB.BINARY) \n",
    "\n",
    "    # Predictor expression for demand\n",
    "    d = {r: (coef_dict['Intercept']+coef_dict['price']*p[r] + coef_dict['C(region)[T.%s]'%r] + coef_dict['year_index']*(year-2015) + coef_dict['peak']*peak_or_not) for r in R}\n",
    " \n",
    "    \n",
    "    # Set the objective\n",
    "    m.ModelSense = GRB.MAXIMIZE\n",
    "    m.setObjective(sum(p[r]*s[r] - c_waste*w[r] - c_transport[r]*x[r] for r in R)) \n",
    "\n",
    "    # Add the constraints \n",
    "    m.addConstrs((s[r] <= x[r] for r in R))\n",
    "    m.addConstrs((s[r] <= d[r] for r in R)) \n",
    "    m.addConstrs((x[r] == w[r]+s[r] for r in R))\n",
    "    m.addConstr(sum(x[r] for r in R) == B)\n",
    "\n",
    "    # Solve   \n",
    "    m.setParam('OutputFlag', 0)\n",
    "    m.Params.NonConvex = 2\n",
    "    m.update()\n",
    "    m.optimize() \n",
    "    if m.status == 4:\n",
    "        print('The problem is infeasible. Try changing the parameter values.')\n",
    "    else:\n",
    "        global solution, opt_revenue\n",
    "        solution = pd.DataFrame() \n",
    "        solution['Region'] = R\n",
    "        solution['Price'] = [p[r].X for r in R]\n",
    "        solution['Allocated'] = [round(x[r].X,8) for r in R]\n",
    "        solution['Sold'] = [round(s[r].X,8) for r in R]\n",
    "        solution['Wasted'] = [round(w[r].X,8) for r in R]  \n",
    "        solution['Demand'] = [(coef_dict['Intercept']+coef_dict['price']*p[r].X + coef_dict['C(region)[T.%s]'%r] + coef_dict['year_index']*(year-2015) + coef_dict['peak']*peak_or_not) for r in R]\n",
    "\n",
    "        opt_revenue = m.ObjVal\n",
    "        if display_figures:\n",
    "            print(\"\\n Net revenue: $%f million\"%opt_revenue)\n",
    "            print(\"\\nThe optimal solution is as follows. Price per avocado in dollars. Allocated avocados, wasted avocados, and predicted demand in millions.\\n\")\n",
    "            print(solution)\n",
    "            \n",
    "            print(\"\\n Scatter plot of price vs number of avocados sold (millions) for the eight regions:\")\n",
    "            fig, ax = plt.subplots(1,1) \n",
    "            plot_sol = sns.scatterplot(data=solution,x='Price',y='Sold',hue='Region',s=100)\n",
    "            plot_waste = sns.scatterplot(data=solution,x='Price',y='Wasted',marker='x',hue='Region',s=100,legend = False)\n",
    "\n",
    "            plot_sol.legend(loc='center left', bbox_to_anchor=(1.25, 0.5), ncol=1)\n",
    "            plot_waste.legend(loc='center left', bbox_to_anchor=(1.25, 0.5), ncol=1)\n",
    "            plt.ylim(0, 5)\n",
    "            plt.xlim(1, 2.2)\n",
    "            ax.set_xlabel('Price per avocado ($)')\n",
    "            ax.set_ylabel('Number of avocados sold (millions)')\n",
    "            plt.show() \n",
    "            print(\"The circles represent sales quantity and the cross markers represent the wasted quantity.\")\n",
    "            \n",
    "            \n",
    "        return m.ObjVal, solution\n",
    "        \n",
    "        \n",
    "display_figures = 1\n",
    "print(\"Select a value for the available inventory (B) (in millions):\\n\")\n",
    "interact(solve_MIQP, x=(15,40,1))\n",
    "\n"
   ]
  },
  {
   "cell_type": "markdown",
   "id": "79598363-f76a-40a5-969c-a538684dedf4",
   "metadata": {},
   "source": [
    "**Observations**:\n",
    "- When the supply is highly constrained, i.e., for a very small B, the model sets high prices => demand is low => allocation satisfies the demand exactly\n",
    "- With increasing supply => the prices go down => demand goes up => the allocation can continue to satisfy demand\n",
    "- With a very high supply, the wasteage starts going up\n",
    " "
   ]
  },
  {
   "cell_type": "markdown",
   "id": "5bc9091e-9370-46ef-94ce-741575c06793",
   "metadata": {},
   "source": [
    "## Compare Optimal Versus Actual Net Revenue\n",
    "\n",
    "Finally, we can run the optimization model for each week in a year and compare the optimal predicted revenue with the actual weekly revenue.\n",
    "Let us assume that there were no wastage costs in the actual weekly number since this information is unknown. "
   ]
  },
  {
   "cell_type": "code",
   "execution_count": 34,
   "id": "9236a4ad-9178-41b6-aaf4-fa8d90640a7b",
   "metadata": {},
   "outputs": [],
   "source": [
    "# Create a subset of data for the given year and season\n",
    "df_subset = df[(df['year'] == year) & (df['peak'] == peak_or_not)] # filtering, year = 2022, peak_or_not = 1\n",
    "df_subset['price_minus_transport'] = df_subset['price'] - df_subset['region'].map(c_transport) # retrieve the corresponding values from c_transport dictionary\n",
    "dates = sorted(list(set(df_subset.date)))"
   ]
  },
  {
   "cell_type": "code",
   "execution_count": 35,
   "id": "0b890539-d920-4523-a761-266bf8c5c3f5",
   "metadata": {},
   "outputs": [
    {
     "data": {
      "image/png": "[encoded data removed]",
      "text/plain": [
       "<Figure size 640x480 with 1 Axes>"
      ]
     },
     "metadata": {},
     "output_type": "display_data"
    },
    {
     "name": "stdout",
     "output_type": "stream",
     "text": [
      "For the average peak season week in 2022, the optimal solution yields 19.970366 % more net revenue than the actual supply chain.\n"
     ]
    }
   ],
   "source": [
    "# Run the optimizer for each week\n",
    "actual, optimal, display_figures = [], [], 0\n",
    "for date in dates: \n",
    "    df_date = df_subset[df_subset['date']==date] \n",
    "    weekly_sold = (df_date['units_sold']).values.sum()  \n",
    "    optimal.append(solve_MIQP(weekly_sold)[0]) \n",
    "    \n",
    "    actual_weekly_revenue = (df_date['units_sold']*(df_date['price_minus_transport'])).values.sum() \n",
    "    actual.append(actual_weekly_revenue) \n",
    "\n",
    "# Plot the two scatter plots\n",
    "fig_comparison, ax_comparison = plt.subplots(1,1) \n",
    "actual_plot = plt.scatter(dates, actual)\n",
    "optimal_plot = plt.scatter(dates, optimal)\n",
    "plt.legend((optimal_plot,actual_plot),('Optimal weekly net revenue','Actual weekly net revenue'),loc='center left', bbox_to_anchor=(1.25, 0.5), ncol=1)\n",
    "x_ticks_labels = list(dict.fromkeys([date.strftime(\"%B\") for date in  dates])) \n",
    "ax_comparison.set_xticklabels(x_ticks_labels, rotation=20, fontsize=12)\n",
    "ax_comparison.set_xlabel('Date')\n",
    "ax_comparison.set_ylabel('Net revenue in $million')\n",
    "\n",
    "plt.show()\n",
    "\n",
    "difference = [(i - j)/j for i, j in zip(optimal, actual)]\n",
    "print(\"For the average peak season week in %i, the optimal solution yields %f %% more net revenue than the actual supply chain.\"%(year,100*sum(difference)/len(difference)))"
   ]
  },
  {
   "cell_type": "markdown",
   "id": "d802fd4e-addc-439e-ac98-b804e3ac6c07",
   "metadata": {},
   "source": [
    "Now, we can compare the price and sales between the optimal solution and actual data for each week. Select a week using the interactive tool and see the difference."
   ]
  },
  {
   "cell_type": "code",
   "execution_count": 36,
   "id": "d82c10a4-145a-4481-82b0-f3977ef0e34a",
   "metadata": {},
   "outputs": [
    {
     "name": "stdout",
     "output_type": "stream",
     "text": [
      "Select a value for the available inventory (B) (in millions):\n",
      "\n"
     ]
    },
    {
     "data": {
      "application/vnd.jupyter.widget-view+json": {
       "model_id": "e0e2ade6ef294dd1839d170fe5391e64",
       "version_major": 2,
       "version_minor": 0
      },
      "text/plain": [
       "interactive(children=(Dropdown(description='x', options=(Timestamp('2022-02-06 00:00:00'), Timestamp('2022-02-…"
      ]
     },
     "metadata": {},
     "output_type": "display_data"
    },
    {
     "data": {
      "text/plain": [
       "<function __main__.compare_with_actual(x)>"
      ]
     },
     "execution_count": 36,
     "metadata": {},
     "output_type": "execute_result"
    }
   ],
   "source": [
    "def compare_with_actual(x):\n",
    "    df_date = df_subset[df_subset['date']==x]\n",
    "    weekly_sold = (df_date['units_sold']).values.sum()  \n",
    "    print(weekly_sold)\n",
    "    opt_revenue, opt_solution = solve_MIQP(weekly_sold) \n",
    "\n",
    "    df_comparison = df_date.merge(opt_solution, left_on='region', right_on='Region')\n",
    "    df_comparison = df_comparison[['Region','price','Price','units_sold','Sold']]\n",
    "    df_comparison = df_comparison.rename({'price': 'Actual price', 'Price': 'Optimal price','units_sold': 'Actual sold', 'Sold': 'Optimal sold'}, axis=1)\n",
    "    print(df_comparison.sort_values(by='Region').reset_index(drop=True))\n",
    "\n",
    "display_figures = 0\n",
    "print(\"Select a value for the available inventory (B) (in millions):\\n\")\n",
    "interact(compare_with_actual, x=dates)\n"
   ]
  },
  {
   "cell_type": "markdown",
   "id": "f7671c35-72c5-4558-95d1-02195e998432",
   "metadata": {},
   "source": [
    "Notice that for certain weeks and certain regions, the optimizer sets a higher price than the actual price if it foresees that even the dip in demand is worth it. In certain other cases, a lower price is preferred. Overall, the optimal solution rakes in close to 35% more net revenue than the actual case.\n",
    "This analysis demonstrates that the optimal pricing and supply of avocados could improve the efficiency of the avocado supply chain.\n",
    "\n",
    "With the right optimization tools, every day could be game day."
   ]
  },
  {
   "cell_type": "markdown",
   "id": "6a6ea5a0-63e4-4648-9615-19623532481b",
   "metadata": {},
   "source": [
    "## Summary and Recap"
   ]
  },
  {
   "cell_type": "markdown",
   "id": "958982b6-36c2-4e83-9afd-a28d93137434",
   "metadata": {},
   "source": [
    "We are trying to maximize the profit (= net revenue) from selling avocados. In order to do so, we need to factor in price, sales volume, and costs related to waste and transportation.\n",
    "\n",
    "However, since sales volume is hard to specify, we should first come up with the right specification for that using previous data. This is the main motivation for the Part 1 and Part 2, OLS regression parts.\n",
    "\n",
    "In short, to specify the objective function of our nonlinear optimization (quadratic programming), we proceed with OLS first."
   ]
  },
  {
   "cell_type": "markdown",
   "id": "409bede5-b070-427d-bc46-35c6c85ec54a",
   "metadata": {},
   "source": [
    "### 1. OLS regression"
   ]
  },
  {
   "cell_type": "markdown",
   "id": "dafb50d1-fff7-411e-a749-60ca6c432a8c",
   "metadata": {},
   "source": [
    "Step 1. Download the data sets from two websites, HAB for years of 2019 to 2022 and Kaggle for older data. Concatenate them."
   ]
  },
  {
   "cell_type": "markdown",
   "id": "7099efc5-3980-4a07-8043-4996c3c5fbe0",
   "metadata": {},
   "source": [
    "```python\n",
    "# dataset downloaded directly from HAB\n",
    "# avocado = pd.read_csv('HABdata_2019_2022.csv') # dataset downloaded directly from HAB\n",
    "avocado = pd.read_csv('https://raw.githubusercontent.com/Gurobi/modeling-examples/master/price_optimization/HABdata_2019_2022.csv')\n",
    "\n",
    "# avocado_old = pd.read_csv('kaggledata_till2018.csv') # dataset downloaded from Kaggle\n",
    "avocado_old = pd.read_csv('https://raw.githubusercontent.com/Gurobi/modeling-examples/master/price_optimization/kaggledata_till2018.csv') \n",
    "\n",
    "avocado = pd.concat([avocado, avocado_old], ignore_index = True)"
   ]
  },
  {
   "cell_type": "markdown",
   "id": "013d817f-1de9-4782-9b28-59217006a592",
   "metadata": {},
   "source": [
    "Step 2. Preprocess the data."
   ]
  },
  {
   "cell_type": "markdown",
   "id": "c64482cf-10f6-4f24-8ccc-ebf53d12a045",
   "metadata": {},
   "source": [
    "```python\n",
    "# Add the index for each year from 2015 through 2022\n",
    "avocado['date'] = pd.to_datetime(avocado['date'])           # timestamp\n",
    "avocado['year'] = pd.DatetimeIndex(avocado['date']).year    # extract year from timestamp\n",
    "avocado['year_index'] = avocado['year'] - 2015\n",
    "avocado = avocado.sort_values(by = 'date')\n",
    "\n",
    "# Define the peak season\n",
    "avocado['month'] = pd.DatetimeIndex(avocado['date']).month # extract month from timestamp\n",
    "peak_months = range(2,8)                                   # February to July\n",
    "def peak_season(row):\n",
    "    return 1 if int(row['month']) in peak_months else 0\n",
    "\n",
    "# lambda argument: expression\n",
    "# dataframe.apply(lambda row: peak_season(row), axis = 1) #first row is 'rows of the dataframe' # second row is the first 'row' passed as the argument\n",
    "avocado['peak'] = avocado.apply(lambda row: peak_season(row), axis = 1) # axis = 1 (row by row)\n",
    "\n",
    "# Scale the number of avocados to millions\n",
    "avocado['units_sold'] = avocado['units_sold']/1000000\n",
    "\n",
    "# Select only conventional avocados\n",
    "avocado = avocado[avocado['type'] == 'Conventional'] \n",
    "\n",
    "# Resets the row index to be sequential integers starting from 0\n",
    "# The drop=True argument prevents the old index from being added as a new column\n",
    "avocado = avocado[['date','units_sold','price','region','year','month','year_index','peak']].reset_index(drop = True)"
   ]
  },
  {
   "cell_type": "markdown",
   "id": "f4171bb9-3da8-4851-9a5b-e89224f45690",
   "metadata": {},
   "source": [
    "Step 3. Perform exploratory data analysis to come up with good OLS specification."
   ]
  },
  {
   "cell_type": "markdown",
   "id": "7aa5aba1-6885-4eef-a568-19cfd2876aa3",
   "metadata": {},
   "source": [
    "* from sales trend: we can justify including year variable in the model\n",
    "* from seasonality: we can justify including peak_or_not variable to distinguish Feb to Jul from the rest of the months\n",
    "* from regional difference: we can justify including region as a categorical variable "
   ]
  },
  {
   "cell_type": "markdown",
   "id": "afeaaa4c-0086-4b0a-9572-21fe7a1bd026",
   "metadata": {},
   "source": [
    "Step 4. Specify the model"
   ]
  },
  {
   "cell_type": "markdown",
   "id": "55b1b20c-2cd9-4dc2-9456-d653f41acd94",
   "metadata": {},
   "source": [
    "1(region) and 1(peak) is indicator variables."
   ]
  },
  {
   "cell_type": "markdown",
   "id": "bb52eabb-6946-47e4-8313-6bd3544435d6",
   "metadata": {},
   "source": [
    "$$demand = \\beta_0 + \\beta_1 * price + \\sum\\limits_{region} \\beta^{region}_3 * \\mathbb{1}(region)  +  \\beta_4 * year +  \\beta_5  * \\mathbb{1}(peak).$$\n"
   ]
  },
  {
   "cell_type": "markdown",
   "id": "9a5b5c80-3757-4c16-bc3d-027dc7810d66",
   "metadata": {},
   "source": [
    "Step 5. Train / Test / Confirm the model"
   ]
  },
  {
   "cell_type": "markdown",
   "id": "39c51aa0-a7d9-4faa-9d88-662462be134e",
   "metadata": {},
   "source": [
    "```python\n",
    "# Split the data for training and testing\n",
    "train, test = train_test_split(df, train_size=0.8, random_state=1)\n",
    "df_train = pd.DataFrame(train, columns=df.columns) # not necessary\n",
    "df_test = pd.DataFrame(test, columns=df.columns)   # not necessary\n",
    "\n",
    "# Train the model\n",
    "formula = 'units_sold ~ price + year_index + C(region)+ peak'\n",
    "mod = smf.ols(formula,data = df_train)\n",
    "result = mod.fit()\n",
    "result.summary()\n",
    "\n",
    "# Test the model\n",
    "# Get R^2 from test data\n",
    "y_true = df_test['units_sold']\n",
    "y_pred = result.predict(df_test)\n",
    "print(\"R^2 value in the test set: \", r2_score(y_true, y_pred))\n",
    "\n",
    "# Because the test result was satisfying\n",
    "# fit the model using the whole data set\n",
    "formula = 'units_sold ~ price + year_index + C(region)+ peak'\n",
    "mod_full = smf.ols(formula,data=df)\n",
    "result_full = mod_full.fit()\n",
    "\n",
    "y_true_full = df['units_sold']\n",
    "y_pred_full = result_full.predict(df)\n",
    "print(\"The R^2 value in the full dataset is\",r2_score(y_true_full, y_pred_full))\n",
    "\n",
    "# Get the weights and store it\n",
    "coef_dict = result_full.params.to_dict() \n",
    "coef_dict['C(region)[T.Great_Lakes]'] = 0 # reference for region categorical variable # not necessary"
   ]
  },
  {
   "cell_type": "markdown",
   "id": "44d097df-08a9-446d-9083-859ea20bca62",
   "metadata": {},
   "source": [
    "### 2. Nonlinear Optimization (Quadratic Programming)"
   ]
  },
  {
   "cell_type": "markdown",
   "id": "b12651a2-9907-4c68-8c71-9c91eccc3fa6",
   "metadata": {},
   "source": [
    "Now that we can fully specify the objective function, we can proceed to optimization problem."
   ]
  },
  {
   "cell_type": "markdown",
   "id": "cebd3510-5a51-4f1b-93ab-e9a945f33976",
   "metadata": {},
   "source": [
    "\\begin{align*}\n",
    "\\textrm{maximize}  &  \\sum_{r}  (p_r * s_r - c_{waste} * w_r - c^r_{transport} * x_r)&\\\\\n",
    "\\text{s.t.} \\quad  & \\sum_{r} x_r = B  &\\text{(Supply constraint)} \\\\\n",
    "                   & s_r \\leq x_r      &\\text{(Sales volume constraint 1)} \\\\\n",
    "                   & s_r \\leq d(p_r,r) &\\text{(Sales volumn constraint 2)} \\\\\n",
    "                   & w_r = x_r - s_r   &\\text{(Wasteage constraint)} \\\\\n",
    "                   & d(p_r, r) = \\beta_0 + \\beta_1 * price + \\sum\\limits_{region} \\beta^{region}_3 * \\mathbb{1}(region)  +  \\beta_4 * year +  \\beta_5  * \\mathbb{1}(peak) \\\\\n",
    "                   & \\text{(where all betas are given, year is 2022, and peak is 1)}\n",
    "\\end{align*}"
   ]
  },
  {
   "cell_type": "markdown",
   "id": "624b02dd-f267-42d6-826b-89e48c70526d",
   "metadata": {},
   "source": [
    "**Input Parameters**\n",
    "- $R$: set of regions,\n",
    "- $d(p,r)$: predicted demand in region $r\\in R$ when the avocado per product is $p$, \n",
    "- $B$: available avocados to be distributed across the regions - first we consider the case where B = 30 million units\n",
    "- $c_{waste}$: cost ($\\$$) per wasted avocado - constant: $\\$$ 0.1\n",
    "- $c^r_{transport}$: cost ($\\$$) of transporting a avocado to region $r \\in R$,\n",
    "- $a^r_{min},a^r_{max}$: minimum and maximum price ($\\$$) per avocado for reigon $r \\in R$, i.e., lower and upper bounds of $p_r$\n",
    "- $b^r_{min},b^r_{max}$: minimum and maximum number of avocados allocated to region $r \\in R$, i.e., lower and upper bounds of $x_r$"
   ]
  },
  {
   "cell_type": "markdown",
   "id": "367a1fb1-f7c1-4e1f-9490-b34225d426ba",
   "metadata": {},
   "source": [
    "**Decision Variables**\n",
    "* $p_r$: the price of an avocado ($\\$$) in region $r$,\n",
    "* $x_r$: the number of products avocados supplied to region $r$,\n",
    "* $s_r = \\min \\{x_r,d_r(p_r)\\}$: the predicted number of avocados sold in region $r$, (**Note.** this is what we specifed using OLS)\n",
    "* $w_r = x_r - s_r$: the predicted number of avocados wasted in region $r$"
   ]
  },
  {
   "cell_type": "markdown",
   "id": "11d2d873-243c-4e7f-bb8b-14a70e3ed9c8",
   "metadata": {},
   "source": [
    "Parameters:"
   ]
  },
  {
   "cell_type": "markdown",
   "id": "cea06bbc-e2ff-473e-af68-3090f3466111",
   "metadata": {},
   "source": [
    "```python\n",
    "# empty model object with the name assigned\n",
    "m = gp.Model(\"Avocado_Price_Allocation\")\n",
    "\n",
    "# Sets and Parameters\n",
    "# regions = ['Great_Lakes','Midsouth','Northeast','Northern_New_England','SouthCentral','Southeast','West','Plains']\n",
    "R = regions\n",
    "\n",
    "# Total supply in millions\n",
    "B = 30 \n",
    "\n",
    "# 1 if it is the peak season, 0 otherwise\n",
    "# we now consider peak season only\n",
    "peak_or_not = 1 \n",
    "\n",
    "# we now consider year of 2022\n",
    "year = 2022\n",
    "\n",
    "# cost of wasting an avocado in dollars\n",
    "c_waste = 0.1\n",
    "\n",
    "# cost of transporting an avocado # exogeneoulsy given\n",
    "c_transport = {'Great_Lakes': .3,'Midsouth': .1,'Northeast': .4,'Northern_New_England': .5,'SouthCentral': .3,'Southeast': .2,'West': .2,'Plains': .2}\n",
    "\n",
    "\n",
    "# Get the lower and upper bounds from the dataset for the price and the number of products to be stocked \n",
    "a_min = {r: 0 for r in R}                               # min avocado price in each region\n",
    "a_max = {r: 2 for r in R}                               # max avocado price in each region\n",
    "b_min = dict(df.groupby('region')['units_sold'].min())  # min number of avocados allocated to each region\n",
    "b_max = dict(df.groupby('region')['units_sold'].max())  # max number of avocados allocated to each region"
   ]
  },
  {
   "cell_type": "markdown",
   "id": "215db16b-7e68-4c01-b5bb-f9630a0b1bfd",
   "metadata": {},
   "source": [
    "Decision variables:"
   ]
  },
  {
   "cell_type": "markdown",
   "id": "8e72184a-bb23-401f-be69-2e1dffae99d6",
   "metadata": {},
   "source": [
    "```python\n",
    "p = m.addVars(R, name = \"p\", lb = a_min, ub = a_max) # price of avocados in each region\n",
    "x = m.addVars(R, name = \"x\", lb = b_min, ub = b_max) # quantity supplied to each region\n",
    "s = m.addVars(R, name = \"s\", lb = 0)                 # predicted amount of sales in each region for the given price\n",
    "w = m.addVars(R, name = \"w\", lb = 0)                 # excess wasteage in each region"
   ]
  },
  {
   "cell_type": "markdown",
   "id": "3984b94c-b545-4a5f-afe0-c63f290bc88a",
   "metadata": {},
   "source": [
    "Objective function and constraints:"
   ]
  },
  {
   "cell_type": "markdown",
   "id": "2f31855b-4277-499a-b8b1-bd2dd2227386",
   "metadata": {},
   "source": [
    "```python\n",
    "# Objective function\n",
    "m.setObjective(sum(p[r] * s[r] - c_waste * w[r] - c_transport[r] * x[r] for r in R)) \n",
    "m.ModelSense = GRB.MAXIMIZE\n",
    "\n",
    "# Supply constraint\n",
    "m.addConstr(sum(x[r] for r in R) == B)\n",
    "m.update() # not necessary\n",
    "\n",
    "# Sales volume constraints\n",
    "m.addConstrs((s[r] <= x[r] for r in R))\n",
    "m.addConstrs((s[r] <= d[r] for r in R))\n",
    "m.update() # not necessary\n",
    "\n",
    "# Wasteage constraint\n",
    "m.addConstrs((w[r] == x[r] - s[r] for r in R))\n",
    "m.update()"
   ]
  },
  {
   "cell_type": "markdown",
   "id": "94263614-7f62-4d9c-bca8-7f8f3cb7320d",
   "metadata": {},
   "source": [
    "Solve the MIQP (mixed integer quadratic programming):"
   ]
  },
  {
   "cell_type": "markdown",
   "id": "6114c49b-3636-4d7a-ab8b-cfb983f58aaf",
   "metadata": {},
   "source": [
    "```python\n",
    "m.Params.NonConvex = 2 \n",
    "m.optimize() "
   ]
  },
  {
   "cell_type": "markdown",
   "id": "ce3eec03-0c56-4290-84ed-447f40726a32",
   "metadata": {},
   "source": [
    "Report the optimization result using pandas dataframe for readability:"
   ]
  },
  {
   "cell_type": "markdown",
   "id": "b5201ae0-3ddd-4e6c-8bfc-8b4177dd2aae",
   "metadata": {},
   "source": [
    "```python\n",
    "solution = pd.DataFrame()\n",
    "solution['Region'] = R\n",
    "solution['Price'] = [p[r].X for r in R] # .X attribute of a variable represents the optimized value of that variable\n",
    "solution['Allocated'] = [round(s[r].X, 8) for r in R]\n",
    "solution['Sold'] = [round(s[r].X, 8) for r in R]\n",
    "solution['Wasted'] = [round(w[r].X, 8) for r in R]  \n",
    "solution['Pred_demand'] = [(coef_dict['Intercept'] + coef_dict['price'] * p[r].X + coef_dict['C(region)[T.%s]'%r] + coef_dict['year_index'] * (year - 2015) + coef_dict['peak'] * peak_or_not) for r in R]\n",
    "\n",
    "opt_revenue = m.Objval\n",
    "print(\"\\n The optimal net revenue: $%f million\"%opt_revenue)\n",
    "solution"
   ]
  },
  {
   "cell_type": "markdown",
   "id": "14ee9e9f-3b6a-496f-bd8d-47c12bb660ff",
   "metadata": {},
   "source": [
    "### 3. Advanced Topics"
   ]
  },
  {
   "cell_type": "markdown",
   "id": "af611934-cfa3-489e-880a-9f58b49bd745",
   "metadata": {},
   "source": [
    "1. We can make a function to automate the optimization process and further use it for sensitivity analysis\n",
    "2. We can use the model to observe the optimality gap - compare optimal revenue with actual revenue"
   ]
  },
  {
   "cell_type": "code",
   "execution_count": 37,
   "id": "bc78d3a2-3c20-4837-acd2-c55240a77057",
   "metadata": {},
   "outputs": [
    {
     "name": "stdout",
     "output_type": "stream",
     "text": [
      "Freeing default Gurobi environment\n"
     ]
    }
   ],
   "source": [
    "gp.disposeDefaultEnv()"
   ]
  },
  {
   "cell_type": "markdown",
   "id": "aa86bc4f-54eb-4b44-a846-4e3c9ce718ae",
   "metadata": {},
   "source": [
    "Copyright © 2022 Gurobi Optimization, LLC"
   ]
  }
 ],
 "metadata": {
  "kernelspec": {
   "display_name": "Python 3 (ipykernel)",
   "language": "python",
   "name": "python3"
  },
  "language_info": {
   "codemirror_mode": {
    "name": "ipython",
    "version": 3
   },
   "file_extension": ".py",
   "mimetype": "text/x-python",
   "name": "python",
   "nbconvert_exporter": "python",
   "pygments_lexer": "ipython3",
   "version": "3.12.7"
  }
 },
 "nbformat": 4,
 "nbformat_minor": 5
}
