{
 "cells": [
  {
   "cell_type": "markdown",
   "id": "9d3f7b4e-d76e-441d-97ec-6308bdba8732",
   "metadata": {},
   "source": [
    "# Introduction to Mathematical Optimization Modeling"
   ]
  },
  {
   "cell_type": "markdown",
   "id": "0510657f-f0c8-4be9-b7d2-a94aaf211390",
   "metadata": {},
   "source": [
    "## Objective"
   ]
  },
  {
   "cell_type": "markdown",
   "id": "a3f9df96-8558-4b84-86bc-ca6468c2be59",
   "metadata": {},
   "source": [
    "The below problem is one of the introductory modeling practice examples offered by [Gurobi - Jupyter Modeling Examples](https://www.gurobi.com/jupyter_models/?_difficulty_level=introductory).\n",
    "\n",
    "The \"Problem Description\", \"Mathematical Optimization\", and the majority of codes and schematics are directly from the source.\n",
    "However, significant portion of the comments within the main text here are written by myself.\n",
    "\n",
    "I took an optimization course called \"Deterministic Optimization\"[(course description link)](https://catalog.gatech.edu/search/?P=ISYE%206669) from Georgia Tech from professor Renato Monteiro as part of MS in Operations Research program [(program description link)](https://www.isye.gatech.edu/academics/masters/degrees/ms-operations-research) in the fall of 2024. I successfully finished the course and received an A. This is to review the concepts that I studied and to learn how to implement them in python codes using gurobipy."
   ]
  },
  {
   "cell_type": "markdown",
   "id": "8e13eeaf-4297-41dd-9c00-d23916db6f82",
   "metadata": {},
   "source": [
    "## Problem description"
   ]
  },
  {
   "cell_type": "markdown",
   "id": "f86409a1-a3b4-46c5-9511-14cba3e2b0d0",
   "metadata": {},
   "source": [
    "Consider a consulting company that has three open positions: Tester, Java Developer, and Architect. The three top candidates (resources) for the positions are: Carlos, Joe, and Monika. The consulting company administered competency tests to each candidate in order to assess their ability to perform each of the jobs. The results of these tests are called *matching scores*. Assume that only one candidate can be assigned to a job, and at most one job can be assigned to a candidate.\n",
    "\n",
    "The problem is to determine an assignment of resources and jobs such that each job is fulfilled, each resource is assigned to at most one job, and the total matching scores of the assignments is maximized."
   ]
  },
  {
   "cell_type": "markdown",
   "id": "e4f92d7c-679e-49fe-bab9-817c18c2a02c",
   "metadata": {},
   "source": [
    "## Mathematical optimization "
   ]
  },
  {
   "cell_type": "markdown",
   "id": "1c6510be-8b6d-4e74-b624-4a37f492451c",
   "metadata": {},
   "source": [
    "Mathematical optimization (which is also known as mathematical programming) is a declarative approach where the modeler formulates an  optimization problem that captures the key features of a complex decision problem. The Gurobi Optimizer solves the mathematical optimization problem using state-of-the-art mathematics and computer science.\n",
    "\n",
    "A mathematical optimization model has five components:\n",
    "\n",
    "* Sets\n",
    "* Parameters\n",
    "* Decision variables\n",
    "* Constraints\n",
    "* Objective function(s)"
   ]
  },
  {
   "cell_type": "code",
   "execution_count": 1,
   "id": "74984c80-cbb1-4f3e-8dd2-0f14e436c5e6",
   "metadata": {},
   "outputs": [
    {
     "name": "stdout",
     "output_type": "stream",
     "text": [
      "Requirement already satisfied: gurobipy in c:\\users\\jhkan\\anaconda3\\envs\\optimization\\lib\\site-packages (11.0.3)\n",
      "Note: you may need to restart the kernel to use updated packages.\n"
     ]
    }
   ],
   "source": [
    "%pip install gurobipy"
   ]
  },
  {
   "cell_type": "markdown",
   "id": "ec715b90-cef1-45ad-94d5-7f2b8ecbe7be",
   "metadata": {},
   "source": [
    "The following code imports the Gurobi and the GRB class. Gurobi API is used for creating models, constraints, and objective functions. (e.g., ``gp.Model()``) GRB class is used for setting the types for variables (e.g., `GRB.CONTINUOUS`, `GRB.INTEGER`, `GRB.BINARY`) and the direction of optimization (e.g., `GRB.MAXIMIZE`, `GRB.MINIMIZE`). Also, it is used to generate status constant indicating the result of optimization (e.g., `GRB.OPTIMAL`, `GRB.INFEASIBLE`)."
   ]
  },
  {
   "cell_type": "code",
   "execution_count": 2,
   "id": "ff0b70e5-65b0-467e-a0ce-9332b8633426",
   "metadata": {},
   "outputs": [],
   "source": [
    "import gurobipy as gp\n",
    "from gurobipy import GRB"
   ]
  },
  {
   "cell_type": "markdown",
   "id": "0a49d373-085b-4cc6-badf-035c3ee01d2d",
   "metadata": {},
   "source": [
    "## Resource Assignment Problem\n",
    "### Data\n",
    "The list $R$ contains the names of the three resources: Carlos, Joe, and Monika.\n",
    "\n",
    "The list $J$ contains the names of the job positions: Tester, Java Developer, and Architect.\n",
    "\n",
    "$r \\in R$: index and set of resources. The resource $r$ belongs to the set of resources $R$.\n",
    "\n",
    "$j \\in J$: index and set of jobs. The job $j$ belongs to the set of jobs $J$."
   ]
  },
  {
   "cell_type": "markdown",
   "id": "1590953f-da6a-4261-a155-4835b5891024",
   "metadata": {},
   "source": [
    "As can be easily seen in the \"Problem Description\", this problem is a typical assignement problem, which can be modeled as Minimum Cost Network Flow Problem (MCNFP, hereafter).\n",
    "The following codes are for creating the nodes."
   ]
  },
  {
   "cell_type": "code",
   "execution_count": 3,
   "id": "c3b776e5-f21d-4ece-99f1-ee4160d3abcf",
   "metadata": {},
   "outputs": [],
   "source": [
    "# Resource and job sets\n",
    "R = ['Carlos', 'Joe', 'Monika']\n",
    "J = ['Tester', 'JavaDeveloper', 'Architect']"
   ]
  },
  {
   "cell_type": "markdown",
   "id": "ad2ef90d-cf0f-4c83-99ee-f0c81525317c",
   "metadata": {},
   "source": [
    "The ability of each resource to perform each of the jobs is listed in the following matching scores table:\n",
    "\n",
    "![scores](https://github.com/Gurobi/modeling-examples/blob/master/milp_tutorial/util/matching_score_data.PNG?raw=1)\n",
    "\n",
    "For each resource $r$ and job $j$, there is a corresponding matching score $s$. The matching score $s$ can only take values between 0 and 100. That is, $s_{r,j} \\in [0, 100]$ for all resources $r \\in R$ and jobs $j \\in J$. "
   ]
  },
  {
   "cell_type": "markdown",
   "id": "0f2b5e6d-daf7-4644-ada9-c3f4abe5e737",
   "metadata": {},
   "source": [
    "Note that each matching score, $s_{r,j}$, is basically \"cost\" in MCNFP's. Here we are trying to maximize the sum of scores. Therefore, in the context of MCNFP, we can think of scores as negative costs and we are trying to minimize the sum of scores."
   ]
  },
  {
   "cell_type": "markdown",
   "id": "475c5bc6-eb52-477d-a040-79626b63f104",
   "metadata": {},
   "source": [
    "We use the Gurobi Python ``multidict`` function to initialize one or more dictionaries with a single statement. The function takes a dictionary as its argument. The keys represent the possible combinations of resources and jobs."
   ]
  },
  {
   "cell_type": "code",
   "execution_count": 4,
   "id": "0d03b01d-2790-4f7a-8f76-9e21328739e3",
   "metadata": {},
   "outputs": [],
   "source": [
    "# Matching score data\n",
    "# negative cost in the context of MCNFP\n",
    "\n",
    "combinations, scores = gp.multidict({\n",
    "        ('Carlos', 'Tester'): 53,\n",
    "        ('Carlos', 'JavaDeveloper'): 27,\n",
    "        ('Carlos', 'Architect'): 13,\n",
    "        ('Joe', 'Tester'): 80,\n",
    "        ('Joe', 'JavaDeveloper'): 47,\n",
    "        ('Joe', 'Architect'): 67,\n",
    "        ('Monika', 'Tester'): 53,\n",
    "        ('Monika', 'JavaDeveloper'): 73,\n",
    "        ('Monika', 'Architect'): 47\n",
    "    })"
   ]
  },
  {
   "cell_type": "markdown",
   "id": "4e68eb8b-3bfa-4061-b875-ae65933d6399",
   "metadata": {},
   "source": [
    "Here, \"combinations\" is a python list object, which stores the keys - 'decision variables.'"
   ]
  },
  {
   "cell_type": "code",
   "execution_count": 5,
   "id": "bd99a0cc-97f7-49fb-ba8c-9775b9a23712",
   "metadata": {},
   "outputs": [
    {
     "name": "stdout",
     "output_type": "stream",
     "text": [
      "Combinations: <gurobi.tuplelist (9 tuples, 2 values each):\n",
      " ( Carlos , Tester        )\n",
      " ( Carlos , JavaDeveloper )\n",
      " ( Carlos , Architect     )\n",
      " ( Joe    , Tester        )\n",
      " ( Joe    , JavaDeveloper )\n",
      " ( Joe    , Architect     )\n",
      " ( Monika , Tester        )\n",
      " ( Monika , JavaDeveloper )\n",
      " ( Monika , Architect     )\n",
      ">\n",
      "Type of combinations: <class 'gurobipy.tuplelist'>\n"
     ]
    }
   ],
   "source": [
    "print(\"Combinations:\", combinations)\n",
    "print(\"Type of combinations:\", type(combinations))"
   ]
  },
  {
   "cell_type": "markdown",
   "id": "f63bf0ef-8819-4b3b-b74f-170f948d1935",
   "metadata": {},
   "source": [
    "On the other hand, \"scores\" is a python dictionary object, which stores the values as a dictionary -  'cost coefficients.'"
   ]
  },
  {
   "cell_type": "code",
   "execution_count": 6,
   "id": "9d86f01f-89a4-4682-91e6-1e988b7a6c44",
   "metadata": {},
   "outputs": [
    {
     "name": "stdout",
     "output_type": "stream",
     "text": [
      "\n",
      "Scores: {('Carlos', 'Tester'): 53, ('Carlos', 'JavaDeveloper'): 27, ('Carlos', 'Architect'): 13, ('Joe', 'Tester'): 80, ('Joe', 'JavaDeveloper'): 47, ('Joe', 'Architect'): 67, ('Monika', 'Tester'): 53, ('Monika', 'JavaDeveloper'): 73, ('Monika', 'Architect'): 47}\n",
      "Type of scores: <class 'gurobipy.tupledict'>\n"
     ]
    }
   ],
   "source": [
    "print(\"\\nScores:\", scores)\n",
    "print(\"Type of scores:\", type(scores))"
   ]
  },
  {
   "cell_type": "markdown",
   "id": "1e9c51b9-c4b8-45cf-bf51-208c9c6f7509",
   "metadata": {},
   "source": [
    "Use the following constructor to create an empty model object, \"m.\" 'RAP' is simply an argument to designate the name to the model, which stands for 'resource assignment problem.'"
   ]
  },
  {
   "cell_type": "code",
   "execution_count": 7,
   "id": "55473549-ea6a-4976-bc85-32272e3b5224",
   "metadata": {},
   "outputs": [
    {
     "name": "stdout",
     "output_type": "stream",
     "text": [
      "Set parameter Username\n"
     ]
    }
   ],
   "source": [
    "# Declare and initialize model\n",
    "m = gp.Model('RAP')"
   ]
  },
  {
   "cell_type": "markdown",
   "id": "aba419a5-3eea-4bb3-bdb0-a47da8142f91",
   "metadata": {},
   "source": [
    "## Decision variables\n",
    "\n",
    "To solve this assignment problem, we need to identify which resource is assigned to which job. We introduce a decision variable for each possible assignment of resources to jobs. Therefore, we have 9 decision variables. \\\n",
    "(**Note.** each arc is a binary decision variable.)\n",
    "\n",
    "To simplify the mathematical notation of the model formulation, we define the following indices for resources and jobs:\n",
    "\n",
    "![variables](https://github.com/Gurobi/modeling-examples/blob/master/milp_tutorial/util/decision_variables.PNG?raw=1)\n",
    "\n",
    "For example, $x_{2,1}$ is the decision variable associated with assigning the resource Joe to the job Tester. Therefore, decision variable $x_{r,j}$ equals 1 if resource $r \\in R$  is assigned to job $j \\in J$, and 0 otherwise.\n",
    "\n",
    "The ``Model.addVars()`` method creates the decision variables for a ``Model`` object.\n",
    "This method returns a Gurobi ``tupledict`` object that contains the newly created variables. We supply the ``combinations`` object as the first argument to specify the variable indices. The ``name`` keyword is used to specify a name for the newly created decision variables. By default, variables are assumed to be non-negative."
   ]
  },
  {
   "cell_type": "code",
   "execution_count": 8,
   "id": "83ad723b-d932-4386-b280-b8d552ed1966",
   "metadata": {},
   "outputs": [],
   "source": [
    "# Create decision variables for RAP model\n",
    "x = m.addVars(combinations, name = 'assign')"
   ]
  },
  {
   "cell_type": "markdown",
   "id": "6cbd5814-5ffd-4a17-92d4-e317cc9c67d1",
   "metadata": {},
   "source": [
    "## Job constraints\n",
    "\n",
    "We now discuss the constraints associated with the jobs. These constraints need to ensure that each job is filled by exactly one resource.\n",
    "\n",
    "The job constraint for the Tester position requires that resource 1 (Carlos), resource 2 (Joe), or resource 3 (Monika) is assigned to this job. This corresponds to the following constraint.\n",
    "\n",
    "Constraint (Tester=1)\n",
    "\n",
    "$$\n",
    "x_{1,1} + x_{2,1} + x_{3,1} = 1\n",
    "$$\n",
    "\n",
    "Similarly, the constraints for the Java Developer and Architect positions can be defined as follows.\n",
    "\n",
    "Constraint (Java Developer = 2)\n",
    "\n",
    "$$\n",
    "x_{1,2} + x_{2,2} + x_{3,2} = 1\n",
    "$$\n",
    "\n",
    "Constraint (Architect = 3)\n",
    "\n",
    "$$\n",
    "x_{1,3} + x_{2,3} + x_{3,3} = 1\n",
    "$$\n",
    "\n",
    "The job constraints are defined by the columns of the following table.\n",
    "\n",
    "![jobs](https://github.com/Gurobi/modeling-examples/blob/master/milp_tutorial/util/jobs_constraints.PNG?raw=1)\n",
    "\n",
    "In general, the constraint for the job Tester can defined as follows.\n",
    "\n",
    "$$\n",
    "x_{1,1} + x_{2,1} + x_{3,1} = \\sum_{r=1}^{3 } x_{r,1} =  \\sum_{r \\in R} x_{r,1} = 1\n",
    "$$\n",
    "\n",
    "All of the job constraints can be defined in a similarly succinct manner. For each job $j \\in J$, take the summation of the decision variables over all the resources. We can write the corresponding job constraint as follows.\n",
    "\n",
    "$$\n",
    "\\sum_{r \\in R} x_{r,j} = 1\n",
    "$$\n",
    "\n",
    "The ``Model.addConstrs()`` method of the Gurobi/Python API defines the job constraints of the ``Model`` object “m”. This method returns a Gurobi ``tupledict`` object that contains the job constraints. \n",
    "The first argument of this method, \"x.sum(‘*’, j)\", is the sum method and defines the LHS of the jobs constraints as follows:\n",
    "For each job $j$ in the set of jobs $J$, take the summation of the decision variables over all the resources. The $==$  defines an equality constraint, and the number \"1\" is the RHS of the constraints.\n",
    "These constraints are saying that exactly one resource should be assigned to each job.\n",
    "The second argument is the name of this type of constraints.\n"
   ]
  },
  {
   "cell_type": "code",
   "execution_count": 9,
   "id": "dcce2374-3e66-4597-af22-46ffa04ae835",
   "metadata": {},
   "outputs": [],
   "source": [
    "# Create job constraints\n",
    "jobs = m.addConstrs((x.sum('*', j) == 1 for j in J), name = 'job')"
   ]
  },
  {
   "cell_type": "markdown",
   "id": "ae609d97-e8b9-49fa-b17b-872a0fd7f085",
   "metadata": {},
   "source": [
    "## Resource constraints\n",
    "\n",
    "The constraints for the resources need to ensure that at most one job is assigned to each resource. That is, it is possible that not all the resources are assigned.\n",
    "\n",
    "For example, we want a constraint that requires Carlos to be assigned to at most one of the jobs: either job 1 (Tester), job 2 (Java Developer ), or job 3 (Architect). We can write this constraint as follows.\n",
    "\n",
    "Constraint (Carlos=1)\n",
    "\n",
    "$$\n",
    "x_{1, 1} + x_{1, 2} + x_{1, 3}  \\leq 1.\n",
    "$$\n",
    "\n",
    "This constraint is less or equal than 1 to allow the possibility that Carlos is not assigned to any job. Similarly, the constraints for the resources Joe and Monika can be defined as follows:\n",
    "\n",
    "Constraint (Joe=2) \n",
    "\n",
    "$$\n",
    "x_{2, 1} + x_{2, 2} + x_{2, 3}  \\leq 1.\n",
    "$$\n",
    "\n",
    "Constraint (Monika=3)\n",
    "\n",
    "$$\n",
    "x_{3, 1} + x_{3, 2} + x_{3, 3}  \\leq 1.\n",
    "$$\n",
    "\n",
    "Observe that the resource constraints are defined by the rows of the following table.\n",
    "\n",
    "![resources](https://github.com/Gurobi/modeling-examples/blob/master/milp_tutorial/util/resource_constraints.PNG?raw=1)\n",
    "\n",
    "The constraint for the resource Carlos can be defined as follows.\n",
    "\n",
    "$$\n",
    "x_{1, 1} + x_{1, 2} + x_{1, 3} = \\sum_{j=1}^{3 } x_{1,j} = \\sum_{j \\in J} x_{1,j} \\leq 1.\n",
    "$$\n",
    "\n",
    "Again, each of these constraints can be written in a succinct manner. For each resource $r \\in R$, take the summation of the decision variables over all the jobs. We can write the corresponding resource constraint as follows.\n",
    "\n",
    "$$\n",
    "\\sum_{j \\in J} x_{r,j} \\leq  1.\n",
    "$$\n",
    "\n",
    "The ``Model.addConstrs()`` method of the Gurobi/Python API defines the resource constraints of the ``Model`` object “m”. \n",
    "The first argument of this method, \"x.sum(r, ‘*’)\", is the sum method and defines the LHS of the resource constraints as follows: For each resource $r$ in the set of resources $R$, take the summation of the decision variables over all the jobs.\n",
    "The $<=$  defines a less or equal constraints, and the number “1” is the RHS of the constraints.\n",
    "These constraints are saying that each resource can be assigned to at most 1 job.\n",
    "The second argument is the name of this type of constraints.\n"
   ]
  },
  {
   "cell_type": "code",
   "execution_count": 10,
   "id": "f71ebebd-11b0-41c8-9f0d-a2b3e4185c6b",
   "metadata": {},
   "outputs": [],
   "source": [
    "# Create resource constraints\n",
    "resources = m.addConstrs((x.sum(r, '*') <= 1 for r in R), name = 'resource')"
   ]
  },
  {
   "cell_type": "markdown",
   "id": "e22d0efe-b3c5-494d-8e71-210be3eeb380",
   "metadata": {},
   "source": [
    "## Objective function\n",
    "\n",
    "The objective function is to maximize the total matching score of the assignments that satisfy the job and resource constraints. \n",
    "\n",
    "For the Tester job, the matching score is $53x_{1,1}$, if resource Carlos is assigned, or $80x_{2,1}$, if resource Joe is assigned, or $53x_{3,1}$, if resource Monika is assigned.\n",
    "Consequently, the matching score for the Tester job is as follows, where only one term in this summation will be nonzero.\n",
    "\n",
    "$$\n",
    "53x_{1,1} + 80x_{2,1} + 53x_{3,1}. \n",
    "$$\n",
    "\n",
    "Similarly, the matching scores for the Java Developer and Architect jobs are defined as follows. The matching score for the Java Developer job is:\n",
    "\n",
    "$$\n",
    "27x_{1, 2} + 47x_{2, 2} + 73x_{3, 2}.\n",
    "$$\n",
    "\n",
    "The matching score for the Architect job is:\n",
    "\n",
    "$$\n",
    "13x_{1, 3} + 67x_{2, 3} + 47x_{3, 3}.\n",
    "$$\n",
    "\n",
    "The total matching score is the summation of each cell in the following table.\n",
    "\n",
    "![objfcn](https://github.com/Gurobi/modeling-examples/blob/master/milp_tutorial/util/objective_function.PNG?raw=1)\n",
    "\n",
    "The goal is to  maximize the total matching score of the assignments. Therefore, the objective function is defined as follows.\n",
    "\n",
    "\\begin{equation}\n",
    "\\text{Maximize} \\quad (53x_{1,1} + 80x_{2,1} + 53x_{3,1}) \\; +\n",
    "\\end{equation}\n",
    "\n",
    "\\begin{equation}\n",
    "\\quad (27x_{1, 2} + 47x_{2, 2} + 73x_{3, 2}) \\; +\n",
    "\\end{equation}\n",
    "\n",
    "\\begin{equation}\n",
    "\\quad (13x_{1, 3} + 67x_{2, 3} + 47x_{3, 3}).\n",
    "\\end{equation}\n",
    "\n",
    "Each term in parenthesis in the objective function can be expressed as follows.\n",
    "\n",
    "\\begin{equation}\n",
    "(53x_{1,1} + 80x_{2,1} + 53x_{3,1}) = \\sum_{r \\in R} s_{r,1}x_{r,1}.\n",
    "\\end{equation}\n",
    "\n",
    "\\begin{equation}\n",
    "(27x_{1, 2} + 47x_{2, 2} + 73x_{3, 2}) = \\sum_{r \\in R} s_{r,2}x_{r,2}.\n",
    "\\end{equation}\n",
    "\n",
    "\\begin{equation}\n",
    "(13x_{1, 3} + 67x_{2, 3} + 47x_{3, 3}) = \\sum_{r \\in R} s_{r,3}x_{r,3}.\n",
    "\\end{equation}\n",
    "\n",
    "Hence, the objective function can be concisely written as:\n",
    "\n",
    "\\begin{equation}\n",
    "\\text{Maximize} \\quad \\sum_{j \\in J} \\sum_{r \\in R} s_{r,j}x_{r,j}.\n",
    "\\end{equation}\n",
    "\n",
    "The ``Model.setObjective()`` method of the Gurobi/Python API defines the objective function of the ``Model`` object “m”. The objective expression is specified in the first argument of this method.\n",
    "Notice that both the matching score parameters “score” and the assignment decision variables “x” are defined over the “combinations” keys. Therefore, we use the method “x.prod(score)” to obtain the summation of the elementwise multiplication of the \"score\" matrix and the \"x\" variable matrix.\n",
    "The second argument, ``GRB.MAXIMIZE``, is the optimization \"sense.\" In this case, we want to *maximize* the total matching scores of all assignments."
   ]
  },
  {
   "cell_type": "markdown",
   "id": "e393f1f2-8681-41af-9a3c-51a0d1998f30",
   "metadata": {},
   "source": [
    "**Note.** maximizing scores is equivalent to minimizing the sum of costs if we take scores as negative costs.\\\n",
    "**Note.** \"scores\" object is a dictionary with keys of decision variables and values of costs."
   ]
  },
  {
   "cell_type": "code",
   "execution_count": 11,
   "id": "b7b32df6-ff61-44e9-8129-894c670561cb",
   "metadata": {},
   "outputs": [],
   "source": [
    "# Objective: maximize total matching score of all assignments\n",
    "m.setObjective(x.prod(scores), GRB.MAXIMIZE)"
   ]
  },
  {
   "cell_type": "markdown",
   "id": "884fe803-05de-4651-8339-3a9233121574",
   "metadata": {},
   "source": [
    "Use the `write()` method of Gurobi/Python API to write the model formulation to a file names \"RAP.lp.\""
   ]
  },
  {
   "cell_type": "code",
   "execution_count": 12,
   "id": "8ada8344-d0a0-4078-ba59-bb91b9b714e0",
   "metadata": {},
   "outputs": [],
   "source": [
    "# Save model for insepction\n",
    "m.write('RAP.lp')"
   ]
  },
  {
   "cell_type": "markdown",
   "id": "22d7a77e-82f2-4582-91a7-3393fc3919a3",
   "metadata": {},
   "source": [
    "We can check the model specification using below code."
   ]
  },
  {
   "cell_type": "code",
   "execution_count": 13,
   "id": "e3329f07-e7e2-47e6-bea4-f0760a14b8b8",
   "metadata": {},
   "outputs": [
    {
     "name": "stdout",
     "output_type": "stream",
     "text": [
      "\\ Model RAP\n",
      "\\ LP format - for model browsing. Use MPS format to capture full model detail.\n",
      "Maximize\n",
      "  53 assign[Carlos,Tester] + 27 assign[Carlos,JavaDeveloper]\n",
      "   + 13 assign[Carlos,Architect] + 80 assign[Joe,Tester]\n",
      "   + 47 assign[Joe,JavaDeveloper] + 67 assign[Joe,Architect]\n",
      "   + 53 assign[Monika,Tester] + 73 assign[Monika,JavaDeveloper]\n",
      "   + 47 assign[Monika,Architect]\n",
      "Subject To\n",
      " job[Tester]: assign[Carlos,Tester] + assign[Joe,Tester]\n",
      "   + assign[Monika,Tester] = 1\n",
      " job[JavaDeveloper]: assign[Carlos,JavaDeveloper]\n",
      "   + assign[Joe,JavaDeveloper] + assign[Monika,JavaDeveloper] = 1\n",
      " job[Architect]: assign[Carlos,Architect] + assign[Joe,Architect]\n",
      "   + assign[Monika,Architect] = 1\n",
      " resource[Carlos]: assign[Carlos,Tester] + assign[Carlos,JavaDeveloper]\n",
      "   + assign[Carlos,Architect] <= 1\n",
      " resource[Joe]: assign[Joe,Tester] + assign[Joe,JavaDeveloper]\n",
      "   + assign[Joe,Architect] <= 1\n",
      " resource[Monika]: assign[Monika,Tester] + assign[Monika,JavaDeveloper]\n",
      "   + assign[Monika,Architect] <= 1\n",
      "Bounds\n",
      "End\n",
      "\n"
     ]
    }
   ],
   "source": [
    "# open the file in reade mode\n",
    "# store the lp file as a file object\n",
    "# with statement ensures the file is propley closed after executing the code block\n",
    "\n",
    "with open('RAP.lp', 'r') as file:\n",
    "    content = file.read()\n",
    "    print(content)"
   ]
  },
  {
   "cell_type": "markdown",
   "id": "86755ec3-b7ac-4b72-999d-f8d41d5163c1",
   "metadata": {},
   "source": [
    "**Note.**\\\n",
    "One might think that additional constraint limiting decision variables to be binary is missing. But such constraint is redundant thereby this problem can be relaxed into Linear Programming. This model satisfies integrality property so the optimial solutions are integers. Also, due to the specific constraints forcing one-to-one matches, the optimal solutions are binary."
   ]
  },
  {
   "cell_type": "markdown",
   "id": "ebf56e39-f9f8-4e72-8aa3-117e854ab046",
   "metadata": {},
   "source": [
    "Use \"optimize()\" method to solve the problem."
   ]
  },
  {
   "cell_type": "code",
   "execution_count": 14,
   "id": "10935b68-6767-47d1-80ab-74ec78587b28",
   "metadata": {},
   "outputs": [
    {
     "name": "stdout",
     "output_type": "stream",
     "text": [
      "Gurobi Optimizer version 11.0.3 build v11.0.3rc0 (win64 - Windows 10.0 (19045.2))\n",
      "\n",
      "CPU model: Intel(R) Core(TM) i7-10750H CPU @ 2.60GHz, instruction set [SSE2|AVX|AVX2]\n",
      "Thread count: 6 physical cores, 12 logical processors, using up to 12 threads\n",
      "\n",
      "Optimize a model with 6 rows, 9 columns and 18 nonzeros\n",
      "Model fingerprint: 0xb343b6eb\n",
      "Coefficient statistics:\n",
      "  Matrix range     [1e+00, 1e+00]\n",
      "  Objective range  [1e+01, 8e+01]\n",
      "  Bounds range     [0e+00, 0e+00]\n",
      "  RHS range        [1e+00, 1e+00]\n",
      "Presolve time: 0.01s\n",
      "Presolved: 6 rows, 9 columns, 18 nonzeros\n",
      "\n",
      "Iteration    Objective       Primal Inf.    Dual Inf.      Time\n",
      "       0    4.6000000e+32   1.800000e+31   4.600000e+02      0s\n",
      "       5    1.9300000e+02   0.000000e+00   0.000000e+00      0s\n",
      "\n",
      "Solved in 5 iterations and 0.01 seconds (0.00 work units)\n",
      "Optimal objective  1.930000000e+02\n"
     ]
    }
   ],
   "source": [
    "# Run optimization engine\n",
    "m.optimize()"
   ]
  },
  {
   "cell_type": "markdown",
   "id": "51c8f5c7-39d4-4239-ab31-1b67c0cbc0a7",
   "metadata": {},
   "source": [
    "`Model.getVars()` method retrieves a list of all variables in the model. The ``.x`` variable attribute is used to query solution values and the ``.varName`` attribute is used to query the name of the decision variables.  "
   ]
  },
  {
   "cell_type": "code",
   "execution_count": 15,
   "id": "eec757c9-511b-436d-b5da-cfffebe73737",
   "metadata": {},
   "outputs": [
    {
     "name": "stdout",
     "output_type": "stream",
     "text": [
      "assign[Carlos,Tester] 1.0\n",
      "assign[Joe,Architect] 1.0\n",
      "assign[Monika,JavaDeveloper] 1.0\n",
      "Total matching score:  193.0\n"
     ]
    }
   ],
   "source": [
    "# Display optimal values of decision variables\n",
    "for v in m.getVars():\n",
    "    if v.x > 1e-6:\n",
    "        print(v.varName, v.x)\n",
    "\n",
    "# Display optimal total matching score\n",
    "print('Total matching score: ', m.objVal)"
   ]
  },
  {
   "cell_type": "markdown",
   "id": "d68f79a1-cb38-4ddd-af91-9be5a214e942",
   "metadata": {},
   "source": [
    "The optimal assignment is to assign:\n",
    "\n",
    "* Carlos to the Tester job, with a matching score of 53\n",
    "* Joe to the Architect job, with a matching score of 67\n",
    "* Monika to the Java Developer job, with a matching score of 73.\n",
    "\n",
    "The maximum total matching score is 193."
   ]
  },
  {
   "cell_type": "markdown",
   "id": "f2164c1f-1168-4672-8f25-fbdfdd49123c",
   "metadata": {},
   "source": [
    "### Summary for RAP"
   ]
  },
  {
   "cell_type": "markdown",
   "id": "dde73165-da8b-40e4-a6ed-7b69b28b5116",
   "metadata": {},
   "source": [
    "\n",
    "\n",
    "\\begin{equation}\n",
    "\\text{Maximize} \\quad \\sum_{j \\in J} \\sum_{r \\in R} s_{r,j}x_{r,j} = \\quad (53x_{1,1} + 80x_{2,1} + 53x_{3,1}) \\; +\n",
    "\\quad (27x_{1, 2} + 47x_{2, 2} + 73x_{3, 2}) \\; +\n",
    "\\quad (13x_{1, 3} + 67x_{2, 3} + 47x_{3, 3})\n",
    "\\end{equation}\n",
    "\n",
    "\\begin{align*}\n",
    "\\text{s.t.} &\\sum_{r \\in R} x_{r,j} = 1, \\quad \\forall j \\in J \\quad \\text{(job constraints)}\\\\\n",
    "            &\\sum_{j \\in J} x_{r,j} \\leq  1, \\quad \\forall r \\in R \\quad \\text{(resource constraints)}\n",
    "\\end{align*}\n",
    "\n",
    "\n",
    "\n",
    "```python\n",
    "# Resource and job sets\n",
    "R = ['Carlos', 'Joe', 'Monika']\n",
    "J = ['Tester', 'JavaDeveloper', 'Architect']\n",
    "\n",
    "# Matching score data\n",
    "combinations, scores = gp.multidict({\n",
    "        ('Carlos', 'Tester'): 53,\n",
    "        ('Carlos', 'JavaDeveloper'): 27,\n",
    "        ('Carlos', 'Architect'): 13,\n",
    "        ('Joe', 'Tester'): 80,\n",
    "        ('Joe', 'JavaDeveloper'): 47,\n",
    "        ('Joe', 'Architect'): 67,\n",
    "        ('Monika', 'Tester'): 53,\n",
    "        ('Monika', 'JavaDeveloper'): 73,\n",
    "        ('Monika', 'Architect'): 47\n",
    "    })\n",
    "\n",
    "# Declare and initialize model\n",
    "m = gp.Model('RAP')\n",
    "\n",
    "# Create decision variables for RAP model\n",
    "x = m.addVars(combinations, name = 'assign') #integrality property - no need to explicitly add binary condition\n",
    "\n",
    "# Create job constraints\n",
    "jobs = m.addConstrs((x.sum('*', j) == 1 for j in J), name = 'job')\n",
    "\n",
    "# Create resource constraints\n",
    "resources = m.addConstrs((x.sum(r, '*') <= 1 for r in R), name = 'resource')\n",
    "\n",
    "# Objective: maximize total matching score of all assignments\n",
    "m.setObjective(x.prod(scores), GRB.MAXIMIZE)\n",
    "\n",
    "# Save model for insepction\n",
    "m.write('RAP.lp')\n",
    "\n",
    "# inspection\n",
    "with open('RAP.lp', 'r') as file:\n",
    "    content = file.read()\n",
    "    print(content)\n",
    "\n",
    "# Run optimization engine\n",
    "m.optimize()\n",
    "\n",
    "# Display optimal values of decision variables\n",
    "for v in m.getVars():\n",
    "    if v.x > 1e-6:\n",
    "        print(v.varName, v.x)\n",
    "\n",
    "# Display optimal total matching score\n",
    "print('Total matching score: ', m.objVal)"
   ]
  },
  {
   "cell_type": "markdown",
   "id": "234035dd-3e0c-4597-a9a5-1b13032a6b73",
   "metadata": {},
   "source": [
    "## Resource Assignment Problem with a budget constraint\n",
    "\n",
    "Now, assume there is a fixed cost $C_{r,j}$ associated with assigning a resource $r \\in R$ to job $j \\in J$. Assume also that there is a limited budget $B$ that can be used for job assignments.\n",
    "\n",
    "The cost of assigning Carlos, Joe, or Monika to any of the jobs is $\\$1,000$ , $\\$2,000$ , and $\\$3,000$  respectively. The available budget is $\\$5,000$."
   ]
  },
  {
   "cell_type": "markdown",
   "id": "4f665b49-fb96-4395-84ec-5e8ea261204f",
   "metadata": {},
   "source": [
    "### Data\n",
    "\n",
    "The list $R$ contains the names of the three resources: Carlos, Joe, and Monika.\n",
    "The list $J$ contains the names of the job positions: Tester, Java Developer, and Architect.\n",
    "\n",
    "The Gurobi Python ``multidict`` function initialize two dictionaries: \n",
    "* \"scores\" defines the matching scores for each resource and job combination.\n",
    "* \"costs\" defines the fixed cost associated of assigning a resource to a job."
   ]
  },
  {
   "cell_type": "code",
   "execution_count": 16,
   "id": "d2276f8e-ca87-465f-aa01-cd415ba3e2c9",
   "metadata": {},
   "outputs": [],
   "source": [
    "# Resoucre and job sets\n",
    "# nodes in Assignment problems\n",
    "R = ['Carlos', 'Joe', 'Monika']\n",
    "J = ['Tester', 'JavaDeveloper', 'Architect']\n",
    "\n",
    "# Matching score data\n",
    "# Cost is given in thousands of dollars\n",
    "combinations, scores, costs = gp.multidict({\n",
    "        ('Carlos', 'Tester'): [53, 1],\n",
    "        ('Carlos', 'JavaDeveloper'): [27, 1],\n",
    "        ('Carlos', 'Architect'): [13,1],\n",
    "        ('Joe', 'Tester'): [80, 2],\n",
    "        ('Joe', 'JavaDeveloper'): [47, 2],\n",
    "        ('Joe', 'Architect'): [67, 2],\n",
    "        ('Monika', 'Tester'): [53, 3] ,\n",
    "        ('Monika', 'JavaDeveloper'): [73, 3],\n",
    "        ('Monika', 'Architect'): [47, 3]\n",
    "    })\n",
    "\n",
    "# Available budget (thousands of dollars)\n",
    "budget = 5"
   ]
  },
  {
   "cell_type": "markdown",
   "id": "48640954-c683-4a02-8acc-1142a68b2816",
   "metadata": {},
   "source": [
    "The following constructor creates an empty Model object “m”. The Model object “m” holds a single optimization problem. It consists of a set of variables, a set of constraints, and the objective function."
   ]
  },
  {
   "cell_type": "code",
   "execution_count": 17,
   "id": "01f39904-d59f-4774-9319-678a70fbc950",
   "metadata": {},
   "outputs": [],
   "source": [
    "# Declare and initialize model\n",
    "m = gp.Model('RAP2')"
   ]
  },
  {
   "cell_type": "markdown",
   "id": "ead80b06-0fc1-4338-a105-d869a1e8aace",
   "metadata": {},
   "source": [
    "### Decision variables\n",
    "\n",
    "The decision variable $x_{r,j}$ is 1 if $r \\in R$ is assigned to job $j \\in J$, and 0 otherwise.\n",
    "\n",
    "The ``Model.addVars()`` method defines the decision variables for the model object “m”.  \n",
    "\n",
    "Because there is a budget constraint, it is possible that not all of the jobs will be filled. To account for this, we define a new decision variable that indicates whether or not a job is filled.\n",
    "\n",
    "Let $g_{j}$ be equal 1 if job $j \\in J$ is not filled, and 0 otherwise. This variable is a gap variable that indicates that a job cannot be filled.\n",
    "\n",
    "***Remark:*** For the previous formulation of the RAP, we defined the assignment variables as non-negative and continuous which is the default value of the ``vtype`` argument of the ``Model.addVars()`` method.\n",
    "However, in this extension of the RAP, because of the budget constraint we added to the model, we need to explicitly define these variables as binary. The ``vtype=GRB.BINARY`` argument of the ``Model.addVars()`` method defines the assignment variables as binary."
   ]
  },
  {
   "cell_type": "code",
   "execution_count": 18,
   "id": "7ad3af9c-0e08-45b1-b3a5-18fe0b6b797b",
   "metadata": {},
   "outputs": [],
   "source": [
    "# Create decision variables for the RAP model\n",
    "x = m.addVars(combinations, vtype = GRB.BINARY, name = 'assign')\n",
    "\n",
    "# Create gap variables for the RAP model\n",
    "g = m.addVars(J, name = 'gap')"
   ]
  },
  {
   "cell_type": "markdown",
   "id": "280accbc-d801-43d3-b199-0e0b62f6de92",
   "metadata": {},
   "source": [
    "### Job constraints\n",
    "\n",
    "Since we have a limited budget to assign resources to jobs, it is possible that not all the jobs can be filled. For the job constraints, there are two possibilities either a resource is assigned to fill the job, or this job cannot be filled and we need to declare a gap. This latter possibility is captured by the decision variable $g_j$. Therefore, the job constraints are written as follows. \n",
    "\n",
    "For each job $j \\in J$, exactly one resource must be assigned to the job, or the corresponding $g_j$ variable must be set to 1:\n",
    "\n",
    "$$\n",
    "\\sum_{r \\: \\in \\: R} x_{r,\\; j} + g_{j} = 1.\n",
    "$$\n"
   ]
  },
  {
   "cell_type": "code",
   "execution_count": 19,
   "id": "3ba99ea6-387f-424d-b000-797983cee816",
   "metadata": {},
   "outputs": [],
   "source": [
    "# Create job constraints\n",
    "jobs = m.addConstrs((x.sum('*',j) + g[j]  == 1 for j in J), name='job')"
   ]
  },
  {
   "cell_type": "markdown",
   "id": "72cca8ee-56de-4e5d-a04f-50da7f8b347c",
   "metadata": {},
   "source": [
    "### Resource constraints\n",
    "\n",
    "The constraints for the resources need to ensure that at most one job is assigned to each resource. That is, it is possible that not all the resources are assigned. Therefore, the resource constraints are written as follows.\n",
    "\n",
    "For each resource $r \\in R$, at most one job can be assigned to the resource:\n",
    "\n",
    "$$\n",
    "\\sum_{j \\: \\in \\: J} x_{r,\\; j} \\leq 1.\n",
    "$$"
   ]
  },
  {
   "cell_type": "code",
   "execution_count": 20,
   "id": "f34d90c9-3c3b-41c4-841f-640c2c4614c8",
   "metadata": {},
   "outputs": [],
   "source": [
    "# Create resource constraints\n",
    "resources = m.addConstrs((x.sum(r,'*') <= 1 for r in R), name='resource')"
   ]
  },
  {
   "cell_type": "markdown",
   "id": "c730cdf2-ad38-4655-9a5e-cc62825757e5",
   "metadata": {},
   "source": [
    "### Budget constraint\n",
    "\n",
    "This constraint ensures that the cost of assigning resources to fill job requirements do not exceed the budget available. The costs of assignment and budget are in thousands of dollars.\n",
    "\n",
    "The cost of filling the Tester job is $1x_{1,1}$, if resource Carlos is assigned, or $2x_{2,1}$, if resource Joe is assigned, or $3x_{3,1}$, if resource Monika is assigned.\n",
    "Consequently, the cost of filling the Tester job is as follows, where at most one term in this summation will be nonzero.\n",
    "\n",
    "$$\n",
    "1x_{1,1} + 2x_{2,1} + 3x_{3,1}. \n",
    "$$\n",
    "\n",
    "Similarly, the cost of filling the Java Developer and Architect jobs are defined as follows. The cost of filling the Java Developer job is:\n",
    "\n",
    "$$\n",
    "1x_{1, 2} + 2x_{2, 2} + 3x_{3, 2}.\n",
    "$$\n",
    "\n",
    "The cost of filling the Architect job is:\n",
    "\n",
    "$$\n",
    "1x_{1, 3} + 2x_{2, 3} + 3x_{3, 3}.\n",
    "$$\n",
    "\n",
    "Hence, the total cost of filling the jobs should be less or equal than the budget available.\n",
    "\n",
    "\\begin{equation}\n",
    "(1x_{1,1} + 2x_{2,1} + 3x_{3,1}) \\; +\n",
    "\\end{equation}\n",
    "\n",
    "\\begin{equation}\n",
    "(1x_{1, 2} + 2x_{2, 2} + 3x_{3, 2}) \\; +\n",
    "\\end{equation}\n",
    "\n",
    "\\begin{equation}\n",
    "(1x_{1, 3} + 2x_{2, 3} + 3x_{3, 3}) \\leq 5\n",
    "\\end{equation}\n",
    "\n",
    "Each term in parenthesis in the budget constraint can be expressed as follows.\n",
    "\n",
    "\\begin{equation}\n",
    "(1x_{1,1} + 2x_{2,1} + 3x_{3,1}) = \\sum_{r \\in R} C_{r,1}x_{r,1}.\n",
    "\\end{equation}\n",
    "\n",
    "\\begin{equation}\n",
    "(1x_{1, 2} + 2x_{2, 2} + 3x_{3, 2}) = \\sum_{r \\in R} C_{r,2}x_{r,2}.\n",
    "\\end{equation}\n",
    "\n",
    "\\begin{equation}\n",
    "(1x_{1, 3} + 2x_{2, 3} + 3x_{3, 3}) = \\sum_{r \\in R} C_{r,3}x_{r,3}.\n",
    "\\end{equation}\n",
    "\n",
    "Therefore, the budget constraint can be concisely written as:\n",
    "\n",
    "\\begin{equation}\n",
    "\\sum_{j \\in J} \\sum_{r \\in R} C_{r,j}x_{r,j} \\leq B.\n",
    "\\end{equation}\n",
    "\n",
    "The ``Model.addConstr()`` method of the Gurobi/Python API defines the budget constraint of the ``Model`` object “m”. \n",
    "The first argument of this method, \"x.prod(costs)\", is the prod method and defines the LHS of the budget constraint. The $<=$ defines a less or equal constraint, and the budget amount available is the RHS of the constraint.\n",
    "This constraint is saying that the total cost of assigning resources to fill jobs requirements cannot exceed the budget available.\n",
    "The second argument is the name of this constraint."
   ]
  },
  {
   "cell_type": "code",
   "execution_count": 21,
   "id": "eabb937c-73c3-4fc4-ab74-74321df1a4da",
   "metadata": {},
   "outputs": [],
   "source": [
    "budget = m.addConstr((x.prod(costs) <= budget), name='budget')"
   ]
  },
  {
   "cell_type": "markdown",
   "id": "7e2127dd-e1c9-4cad-a7eb-959e325164f7",
   "metadata": {},
   "source": [
    "## Objective function\n",
    "\n",
    "The objective function is similar to the RAP. The first term in the objective is the total matching score of the assignments. In this extension of the RAP, it is possible that not all jobs are filled; however, we want to heavily penalize this possibility. For this purpose, we have a second term in the objective function that takes the summation of the gap variables over all the jobs and multiply it by a big penalty $M$.\n",
    "\n",
    "Observe that the maximum value of a matching score is 100, and the value that we give to $M$ is 101. The rationale behind the value of $M$ is that having gaps heavily deteriorates the total matching scores value.\n",
    "\n",
    "Consequently, the objective function is to maximize the total matching score of the assignments minus the penalty associated of having gap variables with a value equal to 1.\n",
    "\n",
    "$$\n",
    "\\max \\; \\sum_{j \\; \\in \\; J} \\sum_{r \\; \\in \\; R} s_{r,j}x_{r,j} -M \\sum_{j \\in J} g_{j}\n",
    "$$"
   ]
  },
  {
   "cell_type": "code",
   "execution_count": 22,
   "id": "21519fee-d4dd-4bc6-8e49-436f092be934",
   "metadata": {},
   "outputs": [],
   "source": [
    "# Penalty for not filling a job position\n",
    "M = 101"
   ]
  },
  {
   "cell_type": "code",
   "execution_count": 23,
   "id": "43f479c3-d4a6-40df-95f3-b942a0428d51",
   "metadata": {},
   "outputs": [],
   "source": [
    "# Objective: maximize total matching score of assignments\n",
    "# Unfilled jobs are heavily penalized\n",
    "m.setObjective(x.prod(scores) - M*g.sum(), GRB.MAXIMIZE)"
   ]
  },
  {
   "cell_type": "code",
   "execution_count": 24,
   "id": "1c92a102-262d-4f3e-87ef-c09c7ae67c59",
   "metadata": {},
   "outputs": [
    {
     "name": "stdout",
     "output_type": "stream",
     "text": [
      "\\ Model RAP2\n",
      "\\ LP format - for model browsing. Use MPS format to capture full model detail.\n",
      "Maximize\n",
      "  53 assign[Carlos,Tester] + 27 assign[Carlos,JavaDeveloper]\n",
      "   + 13 assign[Carlos,Architect] + 80 assign[Joe,Tester]\n",
      "   + 47 assign[Joe,JavaDeveloper] + 67 assign[Joe,Architect]\n",
      "   + 53 assign[Monika,Tester] + 73 assign[Monika,JavaDeveloper]\n",
      "   + 47 assign[Monika,Architect] - 101 gap[Tester] - 101 gap[JavaDeveloper]\n",
      "   - 101 gap[Architect]\n",
      "Subject To\n",
      " job[Tester]: assign[Carlos,Tester] + assign[Joe,Tester]\n",
      "   + assign[Monika,Tester] + gap[Tester] = 1\n",
      " job[JavaDeveloper]: assign[Carlos,JavaDeveloper]\n",
      "   + assign[Joe,JavaDeveloper] + assign[Monika,JavaDeveloper]\n",
      "   + gap[JavaDeveloper] = 1\n",
      " job[Architect]: assign[Carlos,Architect] + assign[Joe,Architect]\n",
      "   + assign[Monika,Architect] + gap[Architect] = 1\n",
      " resource[Carlos]: assign[Carlos,Tester] + assign[Carlos,JavaDeveloper]\n",
      "   + assign[Carlos,Architect] <= 1\n",
      " resource[Joe]: assign[Joe,Tester] + assign[Joe,JavaDeveloper]\n",
      "   + assign[Joe,Architect] <= 1\n",
      " resource[Monika]: assign[Monika,Tester] + assign[Monika,JavaDeveloper]\n",
      "   + assign[Monika,Architect] <= 1\n",
      " budget: assign[Carlos,Tester] + assign[Carlos,JavaDeveloper]\n",
      "   + assign[Carlos,Architect] + 2 assign[Joe,Tester]\n",
      "   + 2 assign[Joe,JavaDeveloper] + 2 assign[Joe,Architect]\n",
      "   + 3 assign[Monika,Tester] + 3 assign[Monika,JavaDeveloper]\n",
      "   + 3 assign[Monika,Architect] <= 5\n",
      "Bounds\n",
      "Binaries\n",
      " assign[Carlos,Tester] assign[Carlos,JavaDeveloper]\n",
      " assign[Carlos,Architect] assign[Joe,Tester] assign[Joe,JavaDeveloper]\n",
      " assign[Joe,Architect] assign[Monika,Tester] assign[Monika,JavaDeveloper]\n",
      " assign[Monika,Architect]\n",
      "End\n",
      "\n"
     ]
    }
   ],
   "source": [
    "# Save model for insepction\n",
    "m.write('RAP2.lp')\n",
    "\n",
    "# inspection\n",
    "with open('RAP2.lp', 'r') as file:\n",
    "    content = file.read()\n",
    "    print(content)"
   ]
  },
  {
   "cell_type": "code",
   "execution_count": 25,
   "id": "7553d1f5-bffd-4779-a4f3-a6859e0f59c5",
   "metadata": {},
   "outputs": [
    {
     "name": "stdout",
     "output_type": "stream",
     "text": [
      "Gurobi Optimizer version 11.0.3 build v11.0.3rc0 (win64 - Windows 10.0 (19045.2))\n",
      "\n",
      "CPU model: Intel(R) Core(TM) i7-10750H CPU @ 2.60GHz, instruction set [SSE2|AVX|AVX2]\n",
      "Thread count: 6 physical cores, 12 logical processors, using up to 12 threads\n",
      "\n",
      "Optimize a model with 7 rows, 12 columns and 30 nonzeros\n",
      "Model fingerprint: 0xa1231a12\n",
      "Variable types: 3 continuous, 9 integer (9 binary)\n",
      "Coefficient statistics:\n",
      "  Matrix range     [1e+00, 3e+00]\n",
      "  Objective range  [1e+01, 1e+02]\n",
      "  Bounds range     [1e+00, 1e+00]\n",
      "  RHS range        [1e+00, 5e+00]\n",
      "Presolve time: 0.00s\n",
      "Presolved: 7 rows, 12 columns, 30 nonzeros\n",
      "Variable types: 0 continuous, 12 integer (12 binary)\n",
      "Found heuristic solution: objective 52.0000000\n",
      "\n",
      "Root relaxation: objective 1.350000e+02, 4 iterations, 0.00 seconds (0.00 work units)\n",
      "\n",
      "    Nodes    |    Current Node    |     Objective Bounds      |     Work\n",
      " Expl Unexpl |  Obj  Depth IntInf | Incumbent    BestBd   Gap | It/Node Time\n",
      "\n",
      "     0     0  135.00000    0    2   52.00000  135.00000   160%     -    0s\n",
      "     0     0     cutoff    0        52.00000   52.00000  0.00%     -    0s\n",
      "\n",
      "Cutting planes:\n",
      "  Gomory: 1\n",
      "  Cover: 1\n",
      "  GUB cover: 1\n",
      "\n",
      "Explored 1 nodes (6 simplex iterations) in 0.02 seconds (0.00 work units)\n",
      "Thread count was 12 (of 12 available processors)\n",
      "\n",
      "Solution count 1: 52 \n",
      "\n",
      "Optimal solution found (tolerance 1.00e-04)\n",
      "Best objective 5.200000000000e+01, best bound 5.200000000000e+01, gap 0.0000%\n"
     ]
    }
   ],
   "source": [
    "# Run optimization engine\n",
    "m.optimize()"
   ]
  },
  {
   "cell_type": "markdown",
   "id": "7a2a4582-df97-4c8a-8d7e-b64ec732c44e",
   "metadata": {},
   "source": [
    "The definition of the objective function includes the penalty of no filling jobs. However, we are interested in the optimal total matching score value when not all the jobs are filled. For this purpose, we need to compute the total matching score value using the matching score values $s_{r,j}$ and the assignment decision variables $x_{r,j}$."
   ]
  },
  {
   "cell_type": "code",
   "execution_count": 26,
   "id": "0659b4bd-a492-4b04-8697-83ad31cd54cb",
   "metadata": {},
   "outputs": [
    {
     "name": "stdout",
     "output_type": "stream",
     "text": [
      "assign[Joe,Tester] 1.0\n",
      "assign[Monika,JavaDeveloper] 1.0\n",
      "Total matching score:  153.0\n"
     ]
    }
   ],
   "source": [
    "# Compute total matching score from assignment variables\n",
    "total_matching_score = 0\n",
    "for r, j in combinations:\n",
    "    if x[r, j].x > 1e-6:\n",
    "        print(x[r, j].varName, x[r, j].x) \n",
    "        total_matching_score += scores[r, j]*x[r, j].x\n",
    "\n",
    "print('Total matching score: ', total_matching_score)  "
   ]
  },
  {
   "cell_type": "code",
   "execution_count": 27,
   "id": "a22abcdb-2341-476d-9fd5-8c5a7af8908b",
   "metadata": {},
   "outputs": [
    {
     "name": "stdout",
     "output_type": "stream",
     "text": [
      "Total matching score (assignments): 153.0\n",
      "Total penalty (unfilled jobs): 101.0\n",
      "Final objective value: 52.0\n"
     ]
    }
   ],
   "source": [
    "# Breakdown of results\n",
    "matching_score = sum(scores[r, j] * x[r, j].x for r, j in combinations if x[r, j].x > 1e-6)\n",
    "penalty = M * sum(g[j].x for j in J)\n",
    "\n",
    "print(f\"Total matching score (assignments): {matching_score}\")\n",
    "print(f\"Total penalty (unfilled jobs): {penalty}\")\n",
    "print(f\"Final objective value: {matching_score - penalty}\")"
   ]
  },
  {
   "cell_type": "markdown",
   "id": "833cc04d-8e7b-4db7-b03f-17232001393c",
   "metadata": {},
   "source": [
    "### Analysis\n",
    "\n",
    "Recall that the budget is $\\$5,000$, and the total  cost associated of allocating the three resources is $\\$6,000$. This means that there is not enough budget to allocate the three resources we have. Consequently, the Gurobi Optimizer must choose two resources to fill the jobs demand, leave one job unfilled, and maximize the total matching scores. Notice that the two top matching scores are 80% (Joe for the Tester job) and 73% (Monika for the Java Developer job). Also, notice that the lowest score is 13% (Carlos for the Architect job). Assigning Joe to the Tester job, Monika to the Java Developer job, and nobody to the Architect job costs $\\$5,000$  and yields a total matching score of 153. This is the optimal solution found by the Gurobi Optimizer."
   ]
  },
  {
   "cell_type": "markdown",
   "id": "863d7502-810a-42f6-9062-9b73460baa9a",
   "metadata": {},
   "source": [
    "### Cleaning up the memory\n",
    "\n",
    "`m.dispose()` releases all memory and resources assigned to `m` to prevent memory leaks.\n",
    "`gp.disposeDefaultEnv()` is for a global cleanup. It is used when you are completely done with using Gurobi."
   ]
  },
  {
   "cell_type": "code",
   "execution_count": 28,
   "id": "051fab3f-d11c-4662-8268-715e76797823",
   "metadata": {},
   "outputs": [
    {
     "name": "stdout",
     "output_type": "stream",
     "text": [
      "Freeing default Gurobi environment\n"
     ]
    }
   ],
   "source": [
    "m.dispose()\n",
    "gp.disposeDefaultEnv()"
   ]
  },
  {
   "cell_type": "markdown",
   "id": "76bb8f23-0324-4154-bbd8-62ada557ef14",
   "metadata": {},
   "source": [
    "### Summary for RAP2 (Budget Constraint)"
   ]
  },
  {
   "cell_type": "markdown",
   "id": "7b218355-8d87-4b63-af43-c9d3a34cf35f",
   "metadata": {},
   "source": [
    "\n",
    "\n",
    "\\begin{equation}\n",
    "\\text{Maximize} \\quad \\sum_{j \\; \\in \\; J} \\sum_{r \\; \\in \\; R} s_{r,j}x_{r,j} -M \\sum_{j \\in J} g_{j}\n",
    "\\end{equation}\n",
    "\n",
    "\\begin{align*}\n",
    "\\text{s.t.} \\quad &\\sum_{r \\: \\in \\: R} x_{r,\\; j} + g_{j} = 1, \\quad \\forall j \\in J     &\\text{(job constraints)}\\\\\n",
    "                  &\\sum_{j \\in J} x_{r,j} \\leq  1, \\quad \\forall r \\in R & \\text{(resource constraints)}\\\\\n",
    "                  &\\sum_{j \\in J} \\sum_{r \\in R} c_{r,j}x_{r,j} \\leq 5   & \\text{(budget constraint)} \\\\ \n",
    "                  &\\text{where} \\quad c_{1,j} = 1, \\; c_{2,j} = 2, \\; c_{3,j} = 3, \\quad \\forall j \\in J \\\\\n",
    "                  &\\text{and} \\quad x_{r, j}, g_{r, j} \\; \\text{: binary} \\quad ,\\forall r \\in R, \\; j \\in J\n",
    "\\end{align*}\n",
    "\n",
    "\n",
    "\n",
    "```python\n",
    "# Resource and job sets\n",
    "R = ['Carlos', 'Joe', 'Monika']\n",
    "J = ['Tester', 'JavaDeveloper', 'Architect']\n",
    "\n",
    "# Matching score data\n",
    "# Cost is given in thousands of dollars\n",
    "combinations, scores, costs = gp.multidict({\n",
    "        ('Carlos', 'Tester'): [53, 1],\n",
    "        ('Carlos', 'JavaDeveloper'): [27, 1],\n",
    "        ('Carlos', 'Architect'): [13,1],\n",
    "        ('Joe', 'Tester'): [80, 2],\n",
    "        ('Joe', 'JavaDeveloper'): [47, 2],\n",
    "        ('Joe', 'Architect'): [67, 2],\n",
    "        ('Monika', 'Tester'): [53, 3] ,\n",
    "        ('Monika', 'JavaDeveloper'): [73, 3],\n",
    "        ('Monika', 'Architect'): [47, 3]\n",
    "    })\n",
    "\n",
    "# Available budget (thousands of dollars)\n",
    "budget = 5\n",
    "\n",
    "# Declare and initialize model\n",
    "m = gp.Model('RAP2')\n",
    "\n",
    "# Create decision variables for the RAP model\n",
    "x = m.addVars(combinations, vtype = GRB.BINARY, name = 'assign')\n",
    "\n",
    "# Create gap variables for the RAP model\n",
    "# gap = 1 when the job is unfulfilled\n",
    "g = m.addVars(J, name = 'gap')\n",
    "\n",
    "# Create job constraints\n",
    "jobs = m.addConstrs((x.sum('*',j) + g[j]  == 1 for j in J), name='job')\n",
    "\n",
    "# Create resource constraints\n",
    "resources = m.addConstrs((x.sum(r,'*') <= 1 for r in R), name='resource')\n",
    "\n",
    "# Create budget constraint\n",
    "budget = m.addConstr((x.prod(costs) <= budget), name='budget')\n",
    "\n",
    "# Penalty for not filling a job position\n",
    "M = 101\n",
    "\n",
    "# Objective: maximize total matching score of assignments\n",
    "# Unfilled jobs are heavily penalized\n",
    "m.setObjective(x.prod(scores) - M*g.sum(), GRB.MAXIMIZE)\n",
    "\n",
    "# Save model for insepction\n",
    "m.write('RAP2.lp')\n",
    "\n",
    "# inspection\n",
    "with open('RAP2.lp', 'r') as file:\n",
    "    content = file.read()\n",
    "    print(content)\n",
    "\n",
    "# Run optimization engine\n",
    "m.optimize()\n",
    "\n",
    "# Compute total matching score from assignment variables\n",
    "total_matching_score = 0\n",
    "for r, j in combinations:\n",
    "    if x[r, j].x > 1e-6:\n",
    "        print(x[r, j].varName, x[r, j].x) \n",
    "        total_matching_score += scores[r, j]*x[r, j].x\n",
    "\n",
    "print('Total matching score: ', total_matching_score)  \n",
    "\n",
    "# Breakdown of results\n",
    "matching_score = sum(scores[r, j] * x[r, j].x for r, j in combinations if x[r, j].x > 1e-6)\n",
    "penalty = M * sum(g[j].x for j in J)\n",
    "\n",
    "print(f\"Total matching score (assignments): {matching_score}\")\n",
    "print(f\"Total penalty (unfilled jobs): {penalty}\")\n",
    "print(f\"Final objective value: {matching_score - penalty}\")"
   ]
  }
 ],
 "metadata": {
  "kernelspec": {
   "display_name": "Python 3 (ipykernel)",
   "language": "python",
   "name": "python3"
  },
  "language_info": {
   "codemirror_mode": {
    "name": "ipython",
    "version": 3
   },
   "file_extension": ".py",
   "mimetype": "text/x-python",
   "name": "python",
   "nbconvert_exporter": "python",
   "pygments_lexer": "ipython3",
   "version": "3.12.7"
  }
 },
 "nbformat": 4,
 "nbformat_minor": 5
}
