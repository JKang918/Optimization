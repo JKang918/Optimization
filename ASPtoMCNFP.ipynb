{
 "cells": [
  {
   "cell_type": "markdown",
   "id": "9d131589",
   "metadata": {},
   "source": [
    "**Acknowledgement**\n",
    "\n",
    "The codes, data, tutorial flow are from [Introduction to Mathematical Optimization Modeling](\"https://www.gurobi.com/jupyter_models/introduction-to-mathematical-optimization-modeling/\") from Gurobi.\n",
    "\n",
    "I modified some codes and added MCNFP part.\n",
    "For example, codes to check model specification and boundaries for decision variables are parts where I modified."
   ]
  },
  {
   "cell_type": "markdown",
   "id": "59c94b3b-1607-4104-bd29-a576c902cbe9",
   "metadata": {},
   "source": [
    "**Here I fiddeled with Gurobi to see how to formulate an assignment problem as a minimum cost network flow problem (MCNFP).**"
   ]
  },
  {
   "cell_type": "markdown",
   "id": "dd442b13-0457-4524-bcfc-4434d54c6d4d",
   "metadata": {},
   "source": [
    "Three open positions at a company\n",
    "\n",
    "1. Tester\n",
    "2. Java Developer\n",
    "3. Architect\n",
    "\n",
    "Three candidates (= resources)\n",
    "\n",
    "1. Carlos\n",
    "2. Joe\n",
    "3. Monika\n",
    "\n",
    "Assignment probelm based on test scores. Three candidates take tests for each role, so there are in total 9 test scores that can fit into 3 * 3 table.\n",
    "\n",
    "(Note that this is an assignment problem which can be formulated as MCNFP.)"
   ]
  },
  {
   "cell_type": "code",
   "execution_count": 1,
   "id": "9c0451d1-b8cd-4132-8e75-b941bd43fd4e",
   "metadata": {},
   "outputs": [],
   "source": [
    "#!pip install gurobipy"
   ]
  },
  {
   "cell_type": "code",
   "execution_count": 2,
   "id": "7f7d49b1-eef0-4670-8eab-b34589190ec5",
   "metadata": {},
   "outputs": [],
   "source": [
    "import gurobipy as gp\n",
    "from gurobipy import GRB"
   ]
  },
  {
   "cell_type": "code",
   "execution_count": 3,
   "id": "9f9acdfe-790c-49b2-af45-1b904aa62399",
   "metadata": {},
   "outputs": [],
   "source": [
    "#Assignment: Resources to Jobs\n",
    "\n",
    "#resources\n",
    "R = ['Carlos', 'Joe', 'Monika']\n",
    "\n",
    "#jobs\n",
    "J = ['Tester', 'JavaDeveloper', 'Architect']"
   ]
  },
  {
   "cell_type": "code",
   "execution_count": 4,
   "id": "a90b7250-f3bb-43cf-a054-2cadc25dfc95",
   "metadata": {},
   "outputs": [],
   "source": [
    "#Test result (python dictionary)\n",
    "#This data is given\n",
    "\n",
    "test_scores = {('Carlos', 'Tester'): 53, \n",
    "               ('Carlos', 'JavaDeveloper'): 27, \n",
    "               ('Carlos', 'Architect'): 13,\n",
    "               ('Joe', 'Tester'): 80,\n",
    "               ('Joe', 'JavaDeveloper'): 47,\n",
    "               ('Joe', 'Architect'): 67,\n",
    "               ('Monika', 'Tester'): 53,\n",
    "               ('Monika', 'JavaDeveloper'): 73,\n",
    "               ('Monika', 'Architect'): 47}"
   ]
  },
  {
   "cell_type": "code",
   "execution_count": 5,
   "id": "32927d31-04c3-4bd0-bfaa-7372b153fb18",
   "metadata": {},
   "outputs": [],
   "source": [
    "#gurobi multidict function\n",
    "#combination = arc = decision variable\n",
    "#score = cost for each arc\n",
    "\n",
    "combinations, scores = gp.multidict(test_scores)"
   ]
  },
  {
   "cell_type": "code",
   "execution_count": 6,
   "id": "774773f7-378a-4ab8-a846-4d706d30f21b",
   "metadata": {},
   "outputs": [
    {
     "name": "stdout",
     "output_type": "stream",
     "text": [
      "<gurobi.tuplelist (9 tuples, 2 values each):\n",
      " ( Carlos , Tester        )\n",
      " ( Carlos , JavaDeveloper )\n",
      " ( Carlos , Architect     )\n",
      " ( Joe    , Tester        )\n",
      " ( Joe    , JavaDeveloper )\n",
      " ( Joe    , Architect     )\n",
      " ( Monika , Tester        )\n",
      " ( Monika , JavaDeveloper )\n",
      " ( Monika , Architect     )\n",
      ">\n",
      "{('Carlos', 'Tester'): 53, ('Carlos', 'JavaDeveloper'): 27, ('Carlos', 'Architect'): 13, ('Joe', 'Tester'): 80, ('Joe', 'JavaDeveloper'): 47, ('Joe', 'Architect'): 67, ('Monika', 'Tester'): 53, ('Monika', 'JavaDeveloper'): 73, ('Monika', 'Architect'): 47}\n"
     ]
    }
   ],
   "source": [
    "print(combinations)\n",
    "print(scores)"
   ]
  },
  {
   "cell_type": "code",
   "execution_count": 7,
   "id": "df14787f-7d88-47df-897b-049a15adf631",
   "metadata": {},
   "outputs": [
    {
     "name": "stdout",
     "output_type": "stream",
     "text": [
      "Set parameter Username\n"
     ]
    }
   ],
   "source": [
    "# Model Initialization\n",
    "#'RAP' is the name of the model in short for 'Resource Assignement Problem'\n",
    "\n",
    "m = gp.Model('RAP')"
   ]
  },
  {
   "cell_type": "code",
   "execution_count": 8,
   "id": "859cbe06-cadf-4558-9800-bfddda7fbe4f",
   "metadata": {},
   "outputs": [],
   "source": [
    "# Create decision variables\n",
    "x = m.addVars(combinations, vtype=GRB.BINARY, name = 'assign')"
   ]
  },
  {
   "cell_type": "code",
   "execution_count": 9,
   "id": "0bd35119-637d-4a39-844c-8c2e830454d3",
   "metadata": {},
   "outputs": [],
   "source": [
    "# Create Jobs (receiving nodes) constraints\n",
    "# Each job should be assigned a person\n",
    "jobs = m.addConstrs((x.sum('*',j) == 1 for j in J), name='job')"
   ]
  },
  {
   "cell_type": "code",
   "execution_count": 10,
   "id": "e991a03b-4d89-4abf-ab3d-32db7424d4e5",
   "metadata": {},
   "outputs": [],
   "source": [
    "# Create Resources (assigning nodes) constraints\n",
    "# Inequality -> suggests there can be a case where not all resources are assigned\n",
    "resources = m.addConstrs((x.sum(r, '*') <= 1 for r in R), name='resource')"
   ]
  },
  {
   "cell_type": "code",
   "execution_count": 11,
   "id": "0cf46da7-adad-4efe-bae4-2558bae2b6c6",
   "metadata": {},
   "outputs": [],
   "source": [
    "# Objective function (maximize the sum of test scores)\n",
    "# Refer to print(scores) for better understanding\n",
    "m.setObjective(x.prod(scores), GRB.MAXIMIZE)"
   ]
  },
  {
   "cell_type": "code",
   "execution_count": 12,
   "id": "9e352e38-bd3e-40fb-b338-8d019e0341b2",
   "metadata": {},
   "outputs": [],
   "source": [
    "# Make .lp file for running solver\n",
    "m.write('RAP.lp')"
   ]
  },
  {
   "cell_type": "code",
   "execution_count": 13,
   "id": "41b98b0a-576d-44b6-a6c9-adc3ac836b6d",
   "metadata": {},
   "outputs": [
    {
     "name": "stdout",
     "output_type": "stream",
     "text": [
      "\\ Model RAP\n",
      "\\ LP format - for model browsing. Use MPS format to capture full model detail.\n",
      "Maximize\n",
      "  53 assign[Carlos,Tester] + 27 assign[Carlos,JavaDeveloper]\n",
      "   + 13 assign[Carlos,Architect] + 80 assign[Joe,Tester]\n",
      "   + 47 assign[Joe,JavaDeveloper] + 67 assign[Joe,Architect]\n",
      "   + 53 assign[Monika,Tester] + 73 assign[Monika,JavaDeveloper]\n",
      "   + 47 assign[Monika,Architect]\n",
      "Subject To\n",
      " job[Tester]: assign[Carlos,Tester] + assign[Joe,Tester]\n",
      "   + assign[Monika,Tester] = 1\n",
      " job[JavaDeveloper]: assign[Carlos,JavaDeveloper]\n",
      "   + assign[Joe,JavaDeveloper] + assign[Monika,JavaDeveloper] = 1\n",
      " job[Architect]: assign[Carlos,Architect] + assign[Joe,Architect]\n",
      "   + assign[Monika,Architect] = 1\n",
      " resource[Carlos]: assign[Carlos,Tester] + assign[Carlos,JavaDeveloper]\n",
      "   + assign[Carlos,Architect] <= 1\n",
      " resource[Joe]: assign[Joe,Tester] + assign[Joe,JavaDeveloper]\n",
      "   + assign[Joe,Architect] <= 1\n",
      " resource[Monika]: assign[Monika,Tester] + assign[Monika,JavaDeveloper]\n",
      "   + assign[Monika,Architect] <= 1\n",
      "Bounds\n",
      "Binaries\n",
      " assign[Carlos,Tester] assign[Carlos,JavaDeveloper]\n",
      " assign[Carlos,Architect] assign[Joe,Tester] assign[Joe,JavaDeveloper]\n",
      " assign[Joe,Architect] assign[Monika,Tester] assign[Monika,JavaDeveloper]\n",
      " assign[Monika,Architect]\n",
      "End\n",
      "\n"
     ]
    }
   ],
   "source": [
    "with open('RAP.lp', 'r') as file:\n",
    "    content = file.read()\n",
    "    print(content)"
   ]
  },
  {
   "cell_type": "code",
   "execution_count": 14,
   "id": "dcd83695-4037-464c-b7bf-773bb67b0fdd",
   "metadata": {},
   "outputs": [
    {
     "name": "stdout",
     "output_type": "stream",
     "text": [
      "Gurobi Optimizer version 11.0.3 build v11.0.3rc0 (win64 - Windows 10.0 (19045.2))\n",
      "\n",
      "CPU model: Intel(R) Core(TM) i7-10750H CPU @ 2.60GHz, instruction set [SSE2|AVX|AVX2]\n",
      "Thread count: 6 physical cores, 12 logical processors, using up to 12 threads\n",
      "\n",
      "Optimize a model with 6 rows, 9 columns and 18 nonzeros\n",
      "Model fingerprint: 0x0a338f16\n",
      "Variable types: 0 continuous, 9 integer (9 binary)\n",
      "Coefficient statistics:\n",
      "  Matrix range     [1e+00, 1e+00]\n",
      "  Objective range  [1e+01, 8e+01]\n",
      "  Bounds range     [1e+00, 1e+00]\n",
      "  RHS range        [1e+00, 1e+00]\n",
      "Presolve time: 0.00s\n",
      "Presolved: 6 rows, 9 columns, 18 nonzeros\n",
      "Variable types: 0 continuous, 9 integer (9 binary)\n",
      "Found heuristic solution: objective 193.0000000\n",
      "\n",
      "Root relaxation: cutoff, 0 iterations, 0.00 seconds (0.00 work units)\n",
      "\n",
      "Explored 1 nodes (0 simplex iterations) in 0.01 seconds (0.00 work units)\n",
      "Thread count was 12 (of 12 available processors)\n",
      "\n",
      "Solution count 1: 193 \n",
      "\n",
      "Optimal solution found (tolerance 1.00e-04)\n",
      "Best objective 1.930000000000e+02, best bound 1.930000000000e+02, gap 0.0000%\n"
     ]
    }
   ],
   "source": [
    "# Run\n",
    "m.optimize()"
   ]
  },
  {
   "cell_type": "code",
   "execution_count": 15,
   "id": "73199e6b-8b4a-46a2-80ee-2ff188fc4f30",
   "metadata": {},
   "outputs": [
    {
     "name": "stdout",
     "output_type": "stream",
     "text": [
      "assign[Carlos,Tester] 1.0\n",
      "assign[Joe,Architect] 1.0\n",
      "assign[Monika,JavaDeveloper] 1.0\n",
      "Total matching score:  193.0\n"
     ]
    }
   ],
   "source": [
    "# Display optimal values of decision variables\n",
    "for v in m.getVars():\n",
    "    if v.x > 1e-6:\n",
    "        print(v.varName, v.x)\n",
    "\n",
    "# Display optimal total matching score\n",
    "print('Total matching score: ', m.objVal)"
   ]
  },
  {
   "cell_type": "markdown",
   "id": "d27faf0a-dc19-488c-94f9-db6febbda0d9",
   "metadata": {},
   "source": [
    "**Let's try alternative formulation as MCNFP**"
   ]
  },
  {
   "cell_type": "code",
   "execution_count": 16,
   "id": "9b4f5f6c-70b4-4693-832e-2d8f375acf24",
   "metadata": {},
   "outputs": [],
   "source": [
    "m2 = gp.Model('MCNFP')"
   ]
  },
  {
   "cell_type": "code",
   "execution_count": 17,
   "id": "d57baf7f-9e2c-4d99-aa0c-4f8077a98219",
   "metadata": {},
   "outputs": [],
   "source": [
    "# Create decision variables (Note that binary condition is relaxed)\n",
    "x2 = m2.addVars(combinations, lb=0, ub=1, name = 'assign')"
   ]
  },
  {
   "cell_type": "code",
   "execution_count": 18,
   "id": "1a3084d8-6680-4eaf-8f0f-97aea255900a",
   "metadata": {},
   "outputs": [],
   "source": [
    "# Create Jobs (receiving nodes) constraints\n",
    "# Each job should be assigned a person\n",
    "jobs2 = m2.addConstrs((-x2.sum('*',j) == -1 for j in J), name='job')"
   ]
  },
  {
   "cell_type": "code",
   "execution_count": 19,
   "id": "729b18c3-e683-4b4f-b040-0ef93666f31f",
   "metadata": {},
   "outputs": [],
   "source": [
    "# Create Resources (assigning nodes) constraints\n",
    "resources2 = m2.addConstrs((x2.sum(r, '*') == 1 for r in R), name='resource')"
   ]
  },
  {
   "cell_type": "code",
   "execution_count": 20,
   "id": "d49cda67-9b42-4d39-8b47-d2945c37a8f7",
   "metadata": {},
   "outputs": [],
   "source": [
    "# Objective function (minimization of cost, cost = -score)\n",
    "m2.setObjective(-x2.prod(scores), GRB.MINIMIZE)"
   ]
  },
  {
   "cell_type": "code",
   "execution_count": 21,
   "id": "c5d1f6dc-49e1-4bf5-bf89-6741b4dd9654",
   "metadata": {},
   "outputs": [],
   "source": [
    "# write .lp file\n",
    "m2.write('MCNFP.lp')"
   ]
  },
  {
   "cell_type": "code",
   "execution_count": 22,
   "id": "300ad328-7585-48fc-8374-7a54b09cd2c4",
   "metadata": {},
   "outputs": [
    {
     "name": "stdout",
     "output_type": "stream",
     "text": [
      "\\ Model MCNFP\n",
      "\\ LP format - for model browsing. Use MPS format to capture full model detail.\n",
      "Minimize\n",
      "  - 53 assign[Carlos,Tester] - 27 assign[Carlos,JavaDeveloper]\n",
      "   - 13 assign[Carlos,Architect] - 80 assign[Joe,Tester]\n",
      "   - 47 assign[Joe,JavaDeveloper] - 67 assign[Joe,Architect]\n",
      "   - 53 assign[Monika,Tester] - 73 assign[Monika,JavaDeveloper]\n",
      "   - 47 assign[Monika,Architect]\n",
      "Subject To\n",
      " job[Tester]: - assign[Carlos,Tester] - assign[Joe,Tester]\n",
      "   - assign[Monika,Tester] = -1\n",
      " job[JavaDeveloper]: - assign[Carlos,JavaDeveloper]\n",
      "   - assign[Joe,JavaDeveloper] - assign[Monika,JavaDeveloper] = -1\n",
      " job[Architect]: - assign[Carlos,Architect] - assign[Joe,Architect]\n",
      "   - assign[Monika,Architect] = -1\n",
      " resource[Carlos]: assign[Carlos,Tester] + assign[Carlos,JavaDeveloper]\n",
      "   + assign[Carlos,Architect] = 1\n",
      " resource[Joe]: assign[Joe,Tester] + assign[Joe,JavaDeveloper]\n",
      "   + assign[Joe,Architect] = 1\n",
      " resource[Monika]: assign[Monika,Tester] + assign[Monika,JavaDeveloper]\n",
      "   + assign[Monika,Architect] = 1\n",
      "Bounds\n",
      " assign[Carlos,Tester] <= 1\n",
      " assign[Carlos,JavaDeveloper] <= 1\n",
      " assign[Carlos,Architect] <= 1\n",
      " assign[Joe,Tester] <= 1\n",
      " assign[Joe,JavaDeveloper] <= 1\n",
      " assign[Joe,Architect] <= 1\n",
      " assign[Monika,Tester] <= 1\n",
      " assign[Monika,JavaDeveloper] <= 1\n",
      " assign[Monika,Architect] <= 1\n",
      "End\n",
      "\n"
     ]
    }
   ],
   "source": [
    "#check model specification\n",
    "with open('MCNFP.lp', 'r') as file:\n",
    "    content = file.read()\n",
    "    print(content)"
   ]
  },
  {
   "cell_type": "code",
   "execution_count": 23,
   "id": "7c729fc1-cc76-43e9-b9dd-352aabadc2c3",
   "metadata": {},
   "outputs": [
    {
     "name": "stdout",
     "output_type": "stream",
     "text": [
      "Gurobi Optimizer version 11.0.3 build v11.0.3rc0 (win64 - Windows 10.0 (19045.2))\n",
      "\n",
      "CPU model: Intel(R) Core(TM) i7-10750H CPU @ 2.60GHz, instruction set [SSE2|AVX|AVX2]\n",
      "Thread count: 6 physical cores, 12 logical processors, using up to 12 threads\n",
      "\n",
      "Optimize a model with 6 rows, 9 columns and 18 nonzeros\n",
      "Model fingerprint: 0x59a0d829\n",
      "Coefficient statistics:\n",
      "  Matrix range     [1e+00, 1e+00]\n",
      "  Objective range  [1e+01, 8e+01]\n",
      "  Bounds range     [1e+00, 1e+00]\n",
      "  RHS range        [1e+00, 1e+00]\n",
      "Presolve time: 0.00s\n",
      "Presolved: 6 rows, 9 columns, 18 nonzeros\n",
      "\n",
      "Iteration    Objective       Primal Inf.    Dual Inf.      Time\n",
      "       0   -2.0600000e+02   2.000000e+00   0.000000e+00      0s\n",
      "       1   -1.9300000e+02   0.000000e+00   0.000000e+00      0s\n",
      "\n",
      "Solved in 1 iterations and 0.01 seconds (0.00 work units)\n",
      "Optimal objective -1.930000000e+02\n"
     ]
    }
   ],
   "source": [
    "m2.optimize()"
   ]
  },
  {
   "cell_type": "code",
   "execution_count": 24,
   "id": "40750562-e7c7-499f-962d-da40860d1cc7",
   "metadata": {
    "scrolled": true
   },
   "outputs": [
    {
     "name": "stdout",
     "output_type": "stream",
     "text": [
      "assign[Carlos,Tester] 1.0\n",
      "assign[Joe,Architect] 1.0\n",
      "assign[Monika,JavaDeveloper] 1.0\n",
      "Total cost = - Total matching score:  -193.0\n"
     ]
    }
   ],
   "source": [
    "# Display optimal values of decision variables\n",
    "for v in m2.getVars():\n",
    "    if v.x > 1e-6:\n",
    "        print(v.varName, v.x)\n",
    "\n",
    "# Display optimal total matching score\n",
    "print('Total cost = - Total matching score: ', m2.objVal)"
   ]
  }
 ],
 "metadata": {
  "kernelspec": {
   "display_name": "Python 3 (ipykernel)",
   "language": "python",
   "name": "python3"
  },
  "language_info": {
   "codemirror_mode": {
    "name": "ipython",
    "version": 3
   },
   "file_extension": ".py",
   "mimetype": "text/x-python",
   "name": "python",
   "nbconvert_exporter": "python",
   "pygments_lexer": "ipython3",
   "version": "3.12.7"
  }
 },
 "nbformat": 4,
 "nbformat_minor": 5
}
